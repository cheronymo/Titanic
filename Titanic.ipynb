{
  "nbformat": 4,
  "nbformat_minor": 0,
  "metadata": {
    "colab": {
      "provenance": [],
      "toc_visible": true,
      "authorship_tag": "ABX9TyNdhzBAU6PSR04Ge6ZRj2v8",
      "include_colab_link": true
    },
    "kernelspec": {
      "name": "python3",
      "display_name": "Python 3"
    },
    "language_info": {
      "name": "python"
    }
  },
  "cells": [
    {
      "cell_type": "markdown",
      "metadata": {
        "id": "view-in-github",
        "colab_type": "text"
      },
      "source": [
        "<a href=\"https://colab.research.google.com/github/cheronymo/Titanic/blob/main/Titanic.ipynb\" target=\"_parent\"><img src=\"https://colab.research.google.com/assets/colab-badge.svg\" alt=\"Open In Colab\"/></a>"
      ]
    },
    {
      "cell_type": "markdown",
      "source": [
        "#Titanic prediction"
      ],
      "metadata": {
        "id": "0Sodt8I3H_Ti"
      }
    },
    {
      "cell_type": "markdown",
      "source": [
        "Dans ce notebook on va chercher à comprendre comment la tragédie du titanic et comment se distribut les voyageurs entre les survivants et les morts. \n",
        "Le jeu de données viens de kaggle : https://www.kaggle.com/competitions/titanic/overview."
      ],
      "metadata": {
        "id": "ciDu3XJ8TW-g"
      }
    },
    {
      "cell_type": "markdown",
      "source": [
        "##Import packages"
      ],
      "metadata": {
        "id": "uYpUJrmIIEj6"
      }
    },
    {
      "cell_type": "markdown",
      "source": [
        "On importe les packages de bases sur python."
      ],
      "metadata": {
        "id": "WJfmibmaT1PY"
      }
    },
    {
      "cell_type": "code",
      "source": [
        "import pandas as pd\n",
        "import numpy as np\n",
        "import matplotlib.pyplot as plt\n",
        "import tensorflow as tf\n",
        "import seaborn as sns"
      ],
      "metadata": {
        "id": "6RhMYAqSILnj"
      },
      "execution_count": null,
      "outputs": []
    },
    {
      "cell_type": "markdown",
      "source": [
        "##Import Data & Exploration"
      ],
      "metadata": {
        "id": "gq97rEp9IEmm"
      }
    },
    {
      "cell_type": "markdown",
      "source": [
        "On va importer tous les jeux de données et voir ce qu'on peut faire avec."
      ],
      "metadata": {
        "id": "ciZsuBEQT56Y"
      }
    },
    {
      "cell_type": "markdown",
      "source": [
        "###Train"
      ],
      "metadata": {
        "id": "xDHI4_E3JAar"
      }
    },
    {
      "cell_type": "code",
      "source": [
        "train = pd.read_csv('train.csv', index_col = 0)\n",
        "train.head()"
      ],
      "metadata": {
        "colab": {
          "base_uri": "https://localhost:8080/",
          "height": 316
        },
        "id": "PD94Fg40I5tE",
        "outputId": "d5d0315c-2131-47e3-9706-7a9247ef2c3f"
      },
      "execution_count": null,
      "outputs": [
        {
          "output_type": "execute_result",
          "data": {
            "text/plain": [
              "             Survived  Pclass  \\\n",
              "PassengerId                     \n",
              "1                   0       3   \n",
              "2                   1       1   \n",
              "3                   1       3   \n",
              "4                   1       1   \n",
              "5                   0       3   \n",
              "\n",
              "                                                          Name     Sex   Age  \\\n",
              "PassengerId                                                                    \n",
              "1                                      Braund, Mr. Owen Harris    male  22.0   \n",
              "2            Cumings, Mrs. John Bradley (Florence Briggs Th...  female  38.0   \n",
              "3                                       Heikkinen, Miss. Laina  female  26.0   \n",
              "4                 Futrelle, Mrs. Jacques Heath (Lily May Peel)  female  35.0   \n",
              "5                                     Allen, Mr. William Henry    male  35.0   \n",
              "\n",
              "             SibSp  Parch            Ticket     Fare Cabin Embarked  \n",
              "PassengerId                                                          \n",
              "1                1      0         A/5 21171   7.2500   NaN        S  \n",
              "2                1      0          PC 17599  71.2833   C85        C  \n",
              "3                0      0  STON/O2. 3101282   7.9250   NaN        S  \n",
              "4                1      0            113803  53.1000  C123        S  \n",
              "5                0      0            373450   8.0500   NaN        S  "
            ],
            "text/html": [
              "\n",
              "  <div id=\"df-69a283d2-5839-4e9c-b955-c55d233cb179\">\n",
              "    <div class=\"colab-df-container\">\n",
              "      <div>\n",
              "<style scoped>\n",
              "    .dataframe tbody tr th:only-of-type {\n",
              "        vertical-align: middle;\n",
              "    }\n",
              "\n",
              "    .dataframe tbody tr th {\n",
              "        vertical-align: top;\n",
              "    }\n",
              "\n",
              "    .dataframe thead th {\n",
              "        text-align: right;\n",
              "    }\n",
              "</style>\n",
              "<table border=\"1\" class=\"dataframe\">\n",
              "  <thead>\n",
              "    <tr style=\"text-align: right;\">\n",
              "      <th></th>\n",
              "      <th>Survived</th>\n",
              "      <th>Pclass</th>\n",
              "      <th>Name</th>\n",
              "      <th>Sex</th>\n",
              "      <th>Age</th>\n",
              "      <th>SibSp</th>\n",
              "      <th>Parch</th>\n",
              "      <th>Ticket</th>\n",
              "      <th>Fare</th>\n",
              "      <th>Cabin</th>\n",
              "      <th>Embarked</th>\n",
              "    </tr>\n",
              "    <tr>\n",
              "      <th>PassengerId</th>\n",
              "      <th></th>\n",
              "      <th></th>\n",
              "      <th></th>\n",
              "      <th></th>\n",
              "      <th></th>\n",
              "      <th></th>\n",
              "      <th></th>\n",
              "      <th></th>\n",
              "      <th></th>\n",
              "      <th></th>\n",
              "      <th></th>\n",
              "    </tr>\n",
              "  </thead>\n",
              "  <tbody>\n",
              "    <tr>\n",
              "      <th>1</th>\n",
              "      <td>0</td>\n",
              "      <td>3</td>\n",
              "      <td>Braund, Mr. Owen Harris</td>\n",
              "      <td>male</td>\n",
              "      <td>22.0</td>\n",
              "      <td>1</td>\n",
              "      <td>0</td>\n",
              "      <td>A/5 21171</td>\n",
              "      <td>7.2500</td>\n",
              "      <td>NaN</td>\n",
              "      <td>S</td>\n",
              "    </tr>\n",
              "    <tr>\n",
              "      <th>2</th>\n",
              "      <td>1</td>\n",
              "      <td>1</td>\n",
              "      <td>Cumings, Mrs. John Bradley (Florence Briggs Th...</td>\n",
              "      <td>female</td>\n",
              "      <td>38.0</td>\n",
              "      <td>1</td>\n",
              "      <td>0</td>\n",
              "      <td>PC 17599</td>\n",
              "      <td>71.2833</td>\n",
              "      <td>C85</td>\n",
              "      <td>C</td>\n",
              "    </tr>\n",
              "    <tr>\n",
              "      <th>3</th>\n",
              "      <td>1</td>\n",
              "      <td>3</td>\n",
              "      <td>Heikkinen, Miss. Laina</td>\n",
              "      <td>female</td>\n",
              "      <td>26.0</td>\n",
              "      <td>0</td>\n",
              "      <td>0</td>\n",
              "      <td>STON/O2. 3101282</td>\n",
              "      <td>7.9250</td>\n",
              "      <td>NaN</td>\n",
              "      <td>S</td>\n",
              "    </tr>\n",
              "    <tr>\n",
              "      <th>4</th>\n",
              "      <td>1</td>\n",
              "      <td>1</td>\n",
              "      <td>Futrelle, Mrs. Jacques Heath (Lily May Peel)</td>\n",
              "      <td>female</td>\n",
              "      <td>35.0</td>\n",
              "      <td>1</td>\n",
              "      <td>0</td>\n",
              "      <td>113803</td>\n",
              "      <td>53.1000</td>\n",
              "      <td>C123</td>\n",
              "      <td>S</td>\n",
              "    </tr>\n",
              "    <tr>\n",
              "      <th>5</th>\n",
              "      <td>0</td>\n",
              "      <td>3</td>\n",
              "      <td>Allen, Mr. William Henry</td>\n",
              "      <td>male</td>\n",
              "      <td>35.0</td>\n",
              "      <td>0</td>\n",
              "      <td>0</td>\n",
              "      <td>373450</td>\n",
              "      <td>8.0500</td>\n",
              "      <td>NaN</td>\n",
              "      <td>S</td>\n",
              "    </tr>\n",
              "  </tbody>\n",
              "</table>\n",
              "</div>\n",
              "      <button class=\"colab-df-convert\" onclick=\"convertToInteractive('df-69a283d2-5839-4e9c-b955-c55d233cb179')\"\n",
              "              title=\"Convert this dataframe to an interactive table.\"\n",
              "              style=\"display:none;\">\n",
              "        \n",
              "  <svg xmlns=\"http://www.w3.org/2000/svg\" height=\"24px\"viewBox=\"0 0 24 24\"\n",
              "       width=\"24px\">\n",
              "    <path d=\"M0 0h24v24H0V0z\" fill=\"none\"/>\n",
              "    <path d=\"M18.56 5.44l.94 2.06.94-2.06 2.06-.94-2.06-.94-.94-2.06-.94 2.06-2.06.94zm-11 1L8.5 8.5l.94-2.06 2.06-.94-2.06-.94L8.5 2.5l-.94 2.06-2.06.94zm10 10l.94 2.06.94-2.06 2.06-.94-2.06-.94-.94-2.06-.94 2.06-2.06.94z\"/><path d=\"M17.41 7.96l-1.37-1.37c-.4-.4-.92-.59-1.43-.59-.52 0-1.04.2-1.43.59L10.3 9.45l-7.72 7.72c-.78.78-.78 2.05 0 2.83L4 21.41c.39.39.9.59 1.41.59.51 0 1.02-.2 1.41-.59l7.78-7.78 2.81-2.81c.8-.78.8-2.07 0-2.86zM5.41 20L4 18.59l7.72-7.72 1.47 1.35L5.41 20z\"/>\n",
              "  </svg>\n",
              "      </button>\n",
              "      \n",
              "  <style>\n",
              "    .colab-df-container {\n",
              "      display:flex;\n",
              "      flex-wrap:wrap;\n",
              "      gap: 12px;\n",
              "    }\n",
              "\n",
              "    .colab-df-convert {\n",
              "      background-color: #E8F0FE;\n",
              "      border: none;\n",
              "      border-radius: 50%;\n",
              "      cursor: pointer;\n",
              "      display: none;\n",
              "      fill: #1967D2;\n",
              "      height: 32px;\n",
              "      padding: 0 0 0 0;\n",
              "      width: 32px;\n",
              "    }\n",
              "\n",
              "    .colab-df-convert:hover {\n",
              "      background-color: #E2EBFA;\n",
              "      box-shadow: 0px 1px 2px rgba(60, 64, 67, 0.3), 0px 1px 3px 1px rgba(60, 64, 67, 0.15);\n",
              "      fill: #174EA6;\n",
              "    }\n",
              "\n",
              "    [theme=dark] .colab-df-convert {\n",
              "      background-color: #3B4455;\n",
              "      fill: #D2E3FC;\n",
              "    }\n",
              "\n",
              "    [theme=dark] .colab-df-convert:hover {\n",
              "      background-color: #434B5C;\n",
              "      box-shadow: 0px 1px 3px 1px rgba(0, 0, 0, 0.15);\n",
              "      filter: drop-shadow(0px 1px 2px rgba(0, 0, 0, 0.3));\n",
              "      fill: #FFFFFF;\n",
              "    }\n",
              "  </style>\n",
              "\n",
              "      <script>\n",
              "        const buttonEl =\n",
              "          document.querySelector('#df-69a283d2-5839-4e9c-b955-c55d233cb179 button.colab-df-convert');\n",
              "        buttonEl.style.display =\n",
              "          google.colab.kernel.accessAllowed ? 'block' : 'none';\n",
              "\n",
              "        async function convertToInteractive(key) {\n",
              "          const element = document.querySelector('#df-69a283d2-5839-4e9c-b955-c55d233cb179');\n",
              "          const dataTable =\n",
              "            await google.colab.kernel.invokeFunction('convertToInteractive',\n",
              "                                                     [key], {});\n",
              "          if (!dataTable) return;\n",
              "\n",
              "          const docLinkHtml = 'Like what you see? Visit the ' +\n",
              "            '<a target=\"_blank\" href=https://colab.research.google.com/notebooks/data_table.ipynb>data table notebook</a>'\n",
              "            + ' to learn more about interactive tables.';\n",
              "          element.innerHTML = '';\n",
              "          dataTable['output_type'] = 'display_data';\n",
              "          await google.colab.output.renderOutput(dataTable, element);\n",
              "          const docLink = document.createElement('div');\n",
              "          docLink.innerHTML = docLinkHtml;\n",
              "          element.appendChild(docLink);\n",
              "        }\n",
              "      </script>\n",
              "    </div>\n",
              "  </div>\n",
              "  "
            ]
          },
          "metadata": {},
          "execution_count": 218
        }
      ]
    },
    {
      "cell_type": "markdown",
      "source": [
        "####Survivor proportion"
      ],
      "metadata": {
        "id": "Efln3meOKuHU"
      }
    },
    {
      "cell_type": "code",
      "source": [
        "sns.countplot(x=train[\"Survived\"]);\n"
      ],
      "metadata": {
        "colab": {
          "base_uri": "https://localhost:8080/",
          "height": 279
        },
        "id": "5IBAAqGQJY8Y",
        "outputId": "25fc8f7c-95e4-4511-d323-ff5071c9cb5d"
      },
      "execution_count": null,
      "outputs": [
        {
          "output_type": "display_data",
          "data": {
            "text/plain": [
              "<Figure size 432x288 with 1 Axes>"
            ],
            "image/png": "[encoded data removed]"
          },
          "metadata": {
            "needs_background": "light"
          }
        }
      ]
    },
    {
      "cell_type": "markdown",
      "source": [
        "C'est à peu près equilibré on devrait pouvoir prédir"
      ],
      "metadata": {
        "id": "po8e7TssMdjg"
      }
    },
    {
      "cell_type": "markdown",
      "source": [
        "####Exploration"
      ],
      "metadata": {
        "id": "hY6wT3GWK2Yq"
      }
    },
    {
      "cell_type": "code",
      "source": [
        "sns.countplot(x=train[\"Sex\"], hue=train[\"Survived\"]);\n"
      ],
      "metadata": {
        "colab": {
          "base_uri": "https://localhost:8080/",
          "height": 279
        },
        "id": "B79ybQJQK_Kc",
        "outputId": "6493074e-8498-4235-c47f-5423bd07b703"
      },
      "execution_count": null,
      "outputs": [
        {
          "output_type": "display_data",
          "data": {
            "text/plain": [
              "<Figure size 432x288 with 1 Axes>"
            ],
            "image/png": "[encoded data removed]"
          },
          "metadata": {
            "needs_background": "light"
          }
        }
      ]
    },
    {
      "cell_type": "markdown",
      "source": [
        "Les hommes semble mourir plus que les femmes\n"
      ],
      "metadata": {
        "id": "rK5HltIGMkeF"
      }
    },
    {
      "cell_type": "code",
      "source": [
        "sns.countplot(x=train[\"Pclass\"], hue=train[\"Survived\"]);\n"
      ],
      "metadata": {
        "colab": {
          "base_uri": "https://localhost:8080/",
          "height": 279
        },
        "id": "AyI0npGQLdG9",
        "outputId": "3121cbe8-2cf5-4b04-ec3c-0aa8c5b6f9c4"
      },
      "execution_count": null,
      "outputs": [
        {
          "output_type": "display_data",
          "data": {
            "text/plain": [
              "<Figure size 432x288 with 1 Axes>"
            ],
            "image/png": "[encoded data removed]"
          },
          "metadata": {
            "needs_background": "light"
          }
        }
      ]
    },
    {
      "cell_type": "markdown",
      "source": [
        "Les 3eme classes semble plus mourir"
      ],
      "metadata": {
        "id": "deEgnFH9MuYD"
      }
    },
    {
      "cell_type": "code",
      "source": [
        "print(\"L'age moyen des SURVIVANTS est de \", train[train[\"Survived\"]==1]['Age'].mean(), \"ans.\")"
      ],
      "metadata": {
        "colab": {
          "base_uri": "https://localhost:8080/"
        },
        "id": "m_9XtuOdLxnd",
        "outputId": "13d4d220-2240-483e-a9a5-b256857378ea"
      },
      "execution_count": null,
      "outputs": [
        {
          "output_type": "stream",
          "name": "stdout",
          "text": [
            "L'age moyen des SURVIVANTS est de  28.343689655172415 ans.\n"
          ]
        }
      ]
    },
    {
      "cell_type": "code",
      "source": [
        "print(\"L'age moyen des MORTS est de \", train[train[\"Survived\"]==0]['Age'].mean(), \"ans.\")\n"
      ],
      "metadata": {
        "colab": {
          "base_uri": "https://localhost:8080/"
        },
        "id": "Y7IXxeVgNkze",
        "outputId": "e3e64067-454b-47de-c7f7-665bfbd1476b"
      },
      "execution_count": null,
      "outputs": [
        {
          "output_type": "stream",
          "name": "stdout",
          "text": [
            "L'age moyen des MORTS est de  30.62617924528302 ans.\n"
          ]
        }
      ]
    },
    {
      "cell_type": "markdown",
      "source": [
        "Les vieux sont plus mort"
      ],
      "metadata": {
        "id": "Ya_ljRl2Pwdz"
      }
    },
    {
      "cell_type": "code",
      "source": [
        "print(\"Le prix moyen des SURVIVANTS est de \", train[train[\"Survived\"]==1]['Fare'].mean(), \"$.\")"
      ],
      "metadata": {
        "colab": {
          "base_uri": "https://localhost:8080/"
        },
        "id": "FyEW7h3hPrpF",
        "outputId": "5586ec24-d34c-44af-a100-75d16d097318"
      },
      "execution_count": null,
      "outputs": [
        {
          "output_type": "stream",
          "name": "stdout",
          "text": [
            "Le prix moyen des SURVIVANTS est de  48.39540760233918 $.\n"
          ]
        }
      ]
    },
    {
      "cell_type": "code",
      "source": [
        "print(\"Le prix moyen des MORTS est de \", train[train[\"Survived\"]==0]['Fare'].mean(), \"$.\")"
      ],
      "metadata": {
        "colab": {
          "base_uri": "https://localhost:8080/"
        },
        "id": "OmnS9sZZP01d",
        "outputId": "762cd73d-db0c-43f5-85e7-073acc86755f"
      },
      "execution_count": null,
      "outputs": [
        {
          "output_type": "stream",
          "name": "stdout",
          "text": [
            "Le prix moyen des MORTS est de  22.117886885245902 $.\n"
          ]
        }
      ]
    },
    {
      "cell_type": "markdown",
      "source": [
        "Les pauvres sont plus mort"
      ],
      "metadata": {
        "id": "zv6bOPZRP4DL"
      }
    },
    {
      "cell_type": "code",
      "source": [
        "sns.countplot(x=train[\"Embarked\"], hue=train[\"Survived\"]);\n"
      ],
      "metadata": {
        "colab": {
          "base_uri": "https://localhost:8080/",
          "height": 279
        },
        "id": "0jYBp-lQP-QI",
        "outputId": "0cb9b92e-3f15-418d-9a7b-e73c8a4ffa4e"
      },
      "execution_count": null,
      "outputs": [
        {
          "output_type": "display_data",
          "data": {
            "text/plain": [
              "<Figure size 432x288 with 1 Axes>"
            ],
            "image/png": "[encoded data removed]"
          },
          "metadata": {
            "needs_background": "light"
          }
        }
      ]
    },
    {
      "cell_type": "markdown",
      "source": [
        "###Test"
      ],
      "metadata": {
        "id": "dvAP07wmJCaV"
      }
    },
    {
      "cell_type": "code",
      "source": [
        "test = pd.read_csv('test.csv', index_col = 0)\n",
        "test.head()"
      ],
      "metadata": {
        "colab": {
          "base_uri": "https://localhost:8080/",
          "height": 238
        },
        "id": "cDInt7D7Ilfk",
        "outputId": "aea343cb-05bf-4057-d6cb-70e5d8e5b3e7"
      },
      "execution_count": null,
      "outputs": [
        {
          "output_type": "execute_result",
          "data": {
            "text/plain": [
              "             Pclass                                          Name     Sex  \\\n",
              "PassengerId                                                                 \n",
              "892               3                              Kelly, Mr. James    male   \n",
              "893               3              Wilkes, Mrs. James (Ellen Needs)  female   \n",
              "894               2                     Myles, Mr. Thomas Francis    male   \n",
              "895               3                              Wirz, Mr. Albert    male   \n",
              "896               3  Hirvonen, Mrs. Alexander (Helga E Lindqvist)  female   \n",
              "\n",
              "              Age  SibSp  Parch   Ticket     Fare Cabin Embarked  \n",
              "PassengerId                                                       \n",
              "892          34.5      0      0   330911   7.8292   NaN        Q  \n",
              "893          47.0      1      0   363272   7.0000   NaN        S  \n",
              "894          62.0      0      0   240276   9.6875   NaN        Q  \n",
              "895          27.0      0      0   315154   8.6625   NaN        S  \n",
              "896          22.0      1      1  3101298  12.2875   NaN        S  "
            ],
            "text/html": [
              "\n",
              "  <div id=\"df-eeea534a-f840-47b6-9f83-2f73662428b1\">\n",
              "    <div class=\"colab-df-container\">\n",
              "      <div>\n",
              "<style scoped>\n",
              "    .dataframe tbody tr th:only-of-type {\n",
              "        vertical-align: middle;\n",
              "    }\n",
              "\n",
              "    .dataframe tbody tr th {\n",
              "        vertical-align: top;\n",
              "    }\n",
              "\n",
              "    .dataframe thead th {\n",
              "        text-align: right;\n",
              "    }\n",
              "</style>\n",
              "<table border=\"1\" class=\"dataframe\">\n",
              "  <thead>\n",
              "    <tr style=\"text-align: right;\">\n",
              "      <th></th>\n",
              "      <th>Pclass</th>\n",
              "      <th>Name</th>\n",
              "      <th>Sex</th>\n",
              "      <th>Age</th>\n",
              "      <th>SibSp</th>\n",
              "      <th>Parch</th>\n",
              "      <th>Ticket</th>\n",
              "      <th>Fare</th>\n",
              "      <th>Cabin</th>\n",
              "      <th>Embarked</th>\n",
              "    </tr>\n",
              "    <tr>\n",
              "      <th>PassengerId</th>\n",
              "      <th></th>\n",
              "      <th></th>\n",
              "      <th></th>\n",
              "      <th></th>\n",
              "      <th></th>\n",
              "      <th></th>\n",
              "      <th></th>\n",
              "      <th></th>\n",
              "      <th></th>\n",
              "      <th></th>\n",
              "    </tr>\n",
              "  </thead>\n",
              "  <tbody>\n",
              "    <tr>\n",
              "      <th>892</th>\n",
              "      <td>3</td>\n",
              "      <td>Kelly, Mr. James</td>\n",
              "      <td>male</td>\n",
              "      <td>34.5</td>\n",
              "      <td>0</td>\n",
              "      <td>0</td>\n",
              "      <td>330911</td>\n",
              "      <td>7.8292</td>\n",
              "      <td>NaN</td>\n",
              "      <td>Q</td>\n",
              "    </tr>\n",
              "    <tr>\n",
              "      <th>893</th>\n",
              "      <td>3</td>\n",
              "      <td>Wilkes, Mrs. James (Ellen Needs)</td>\n",
              "      <td>female</td>\n",
              "      <td>47.0</td>\n",
              "      <td>1</td>\n",
              "      <td>0</td>\n",
              "      <td>363272</td>\n",
              "      <td>7.0000</td>\n",
              "      <td>NaN</td>\n",
              "      <td>S</td>\n",
              "    </tr>\n",
              "    <tr>\n",
              "      <th>894</th>\n",
              "      <td>2</td>\n",
              "      <td>Myles, Mr. Thomas Francis</td>\n",
              "      <td>male</td>\n",
              "      <td>62.0</td>\n",
              "      <td>0</td>\n",
              "      <td>0</td>\n",
              "      <td>240276</td>\n",
              "      <td>9.6875</td>\n",
              "      <td>NaN</td>\n",
              "      <td>Q</td>\n",
              "    </tr>\n",
              "    <tr>\n",
              "      <th>895</th>\n",
              "      <td>3</td>\n",
              "      <td>Wirz, Mr. Albert</td>\n",
              "      <td>male</td>\n",
              "      <td>27.0</td>\n",
              "      <td>0</td>\n",
              "      <td>0</td>\n",
              "      <td>315154</td>\n",
              "      <td>8.6625</td>\n",
              "      <td>NaN</td>\n",
              "      <td>S</td>\n",
              "    </tr>\n",
              "    <tr>\n",
              "      <th>896</th>\n",
              "      <td>3</td>\n",
              "      <td>Hirvonen, Mrs. Alexander (Helga E Lindqvist)</td>\n",
              "      <td>female</td>\n",
              "      <td>22.0</td>\n",
              "      <td>1</td>\n",
              "      <td>1</td>\n",
              "      <td>3101298</td>\n",
              "      <td>12.2875</td>\n",
              "      <td>NaN</td>\n",
              "      <td>S</td>\n",
              "    </tr>\n",
              "  </tbody>\n",
              "</table>\n",
              "</div>\n",
              "      <button class=\"colab-df-convert\" onclick=\"convertToInteractive('df-eeea534a-f840-47b6-9f83-2f73662428b1')\"\n",
              "              title=\"Convert this dataframe to an interactive table.\"\n",
              "              style=\"display:none;\">\n",
              "        \n",
              "  <svg xmlns=\"http://www.w3.org/2000/svg\" height=\"24px\"viewBox=\"0 0 24 24\"\n",
              "       width=\"24px\">\n",
              "    <path d=\"M0 0h24v24H0V0z\" fill=\"none\"/>\n",
              "    <path d=\"M18.56 5.44l.94 2.06.94-2.06 2.06-.94-2.06-.94-.94-2.06-.94 2.06-2.06.94zm-11 1L8.5 8.5l.94-2.06 2.06-.94-2.06-.94L8.5 2.5l-.94 2.06-2.06.94zm10 10l.94 2.06.94-2.06 2.06-.94-2.06-.94-.94-2.06-.94 2.06-2.06.94z\"/><path d=\"M17.41 7.96l-1.37-1.37c-.4-.4-.92-.59-1.43-.59-.52 0-1.04.2-1.43.59L10.3 9.45l-7.72 7.72c-.78.78-.78 2.05 0 2.83L4 21.41c.39.39.9.59 1.41.59.51 0 1.02-.2 1.41-.59l7.78-7.78 2.81-2.81c.8-.78.8-2.07 0-2.86zM5.41 20L4 18.59l7.72-7.72 1.47 1.35L5.41 20z\"/>\n",
              "  </svg>\n",
              "      </button>\n",
              "      \n",
              "  <style>\n",
              "    .colab-df-container {\n",
              "      display:flex;\n",
              "      flex-wrap:wrap;\n",
              "      gap: 12px;\n",
              "    }\n",
              "\n",
              "    .colab-df-convert {\n",
              "      background-color: #E8F0FE;\n",
              "      border: none;\n",
              "      border-radius: 50%;\n",
              "      cursor: pointer;\n",
              "      display: none;\n",
              "      fill: #1967D2;\n",
              "      height: 32px;\n",
              "      padding: 0 0 0 0;\n",
              "      width: 32px;\n",
              "    }\n",
              "\n",
              "    .colab-df-convert:hover {\n",
              "      background-color: #E2EBFA;\n",
              "      box-shadow: 0px 1px 2px rgba(60, 64, 67, 0.3), 0px 1px 3px 1px rgba(60, 64, 67, 0.15);\n",
              "      fill: #174EA6;\n",
              "    }\n",
              "\n",
              "    [theme=dark] .colab-df-convert {\n",
              "      background-color: #3B4455;\n",
              "      fill: #D2E3FC;\n",
              "    }\n",
              "\n",
              "    [theme=dark] .colab-df-convert:hover {\n",
              "      background-color: #434B5C;\n",
              "      box-shadow: 0px 1px 3px 1px rgba(0, 0, 0, 0.15);\n",
              "      filter: drop-shadow(0px 1px 2px rgba(0, 0, 0, 0.3));\n",
              "      fill: #FFFFFF;\n",
              "    }\n",
              "  </style>\n",
              "\n",
              "      <script>\n",
              "        const buttonEl =\n",
              "          document.querySelector('#df-eeea534a-f840-47b6-9f83-2f73662428b1 button.colab-df-convert');\n",
              "        buttonEl.style.display =\n",
              "          google.colab.kernel.accessAllowed ? 'block' : 'none';\n",
              "\n",
              "        async function convertToInteractive(key) {\n",
              "          const element = document.querySelector('#df-eeea534a-f840-47b6-9f83-2f73662428b1');\n",
              "          const dataTable =\n",
              "            await google.colab.kernel.invokeFunction('convertToInteractive',\n",
              "                                                     [key], {});\n",
              "          if (!dataTable) return;\n",
              "\n",
              "          const docLinkHtml = 'Like what you see? Visit the ' +\n",
              "            '<a target=\"_blank\" href=https://colab.research.google.com/notebooks/data_table.ipynb>data table notebook</a>'\n",
              "            + ' to learn more about interactive tables.';\n",
              "          element.innerHTML = '';\n",
              "          dataTable['output_type'] = 'display_data';\n",
              "          await google.colab.output.renderOutput(dataTable, element);\n",
              "          const docLink = document.createElement('div');\n",
              "          docLink.innerHTML = docLinkHtml;\n",
              "          element.appendChild(docLink);\n",
              "        }\n",
              "      </script>\n",
              "    </div>\n",
              "  </div>\n",
              "  "
            ]
          },
          "metadata": {},
          "execution_count": 227
        }
      ]
    },
    {
      "cell_type": "markdown",
      "source": [
        "####Test predict"
      ],
      "metadata": {
        "id": "4Og5ruBiI-X3"
      }
    },
    {
      "cell_type": "code",
      "source": [
        "predict = pd.read_csv('gender_submission.csv', index_col = 0)\n",
        "predict.head()"
      ],
      "metadata": {
        "colab": {
          "base_uri": "https://localhost:8080/",
          "height": 238
        },
        "id": "o6SOMlRZHtr_",
        "outputId": "54de4b75-c793-4062-c96d-113003d820a0"
      },
      "execution_count": null,
      "outputs": [
        {
          "output_type": "execute_result",
          "data": {
            "text/plain": [
              "             Survived\n",
              "PassengerId          \n",
              "892                 0\n",
              "893                 1\n",
              "894                 0\n",
              "895                 0\n",
              "896                 1"
            ],
            "text/html": [
              "\n",
              "  <div id=\"df-10375455-4f81-425d-9402-7fe2f88149d7\">\n",
              "    <div class=\"colab-df-container\">\n",
              "      <div>\n",
              "<style scoped>\n",
              "    .dataframe tbody tr th:only-of-type {\n",
              "        vertical-align: middle;\n",
              "    }\n",
              "\n",
              "    .dataframe tbody tr th {\n",
              "        vertical-align: top;\n",
              "    }\n",
              "\n",
              "    .dataframe thead th {\n",
              "        text-align: right;\n",
              "    }\n",
              "</style>\n",
              "<table border=\"1\" class=\"dataframe\">\n",
              "  <thead>\n",
              "    <tr style=\"text-align: right;\">\n",
              "      <th></th>\n",
              "      <th>Survived</th>\n",
              "    </tr>\n",
              "    <tr>\n",
              "      <th>PassengerId</th>\n",
              "      <th></th>\n",
              "    </tr>\n",
              "  </thead>\n",
              "  <tbody>\n",
              "    <tr>\n",
              "      <th>892</th>\n",
              "      <td>0</td>\n",
              "    </tr>\n",
              "    <tr>\n",
              "      <th>893</th>\n",
              "      <td>1</td>\n",
              "    </tr>\n",
              "    <tr>\n",
              "      <th>894</th>\n",
              "      <td>0</td>\n",
              "    </tr>\n",
              "    <tr>\n",
              "      <th>895</th>\n",
              "      <td>0</td>\n",
              "    </tr>\n",
              "    <tr>\n",
              "      <th>896</th>\n",
              "      <td>1</td>\n",
              "    </tr>\n",
              "  </tbody>\n",
              "</table>\n",
              "</div>\n",
              "      <button class=\"colab-df-convert\" onclick=\"convertToInteractive('df-10375455-4f81-425d-9402-7fe2f88149d7')\"\n",
              "              title=\"Convert this dataframe to an interactive table.\"\n",
              "              style=\"display:none;\">\n",
              "        \n",
              "  <svg xmlns=\"http://www.w3.org/2000/svg\" height=\"24px\"viewBox=\"0 0 24 24\"\n",
              "       width=\"24px\">\n",
              "    <path d=\"M0 0h24v24H0V0z\" fill=\"none\"/>\n",
              "    <path d=\"M18.56 5.44l.94 2.06.94-2.06 2.06-.94-2.06-.94-.94-2.06-.94 2.06-2.06.94zm-11 1L8.5 8.5l.94-2.06 2.06-.94-2.06-.94L8.5 2.5l-.94 2.06-2.06.94zm10 10l.94 2.06.94-2.06 2.06-.94-2.06-.94-.94-2.06-.94 2.06-2.06.94z\"/><path d=\"M17.41 7.96l-1.37-1.37c-.4-.4-.92-.59-1.43-.59-.52 0-1.04.2-1.43.59L10.3 9.45l-7.72 7.72c-.78.78-.78 2.05 0 2.83L4 21.41c.39.39.9.59 1.41.59.51 0 1.02-.2 1.41-.59l7.78-7.78 2.81-2.81c.8-.78.8-2.07 0-2.86zM5.41 20L4 18.59l7.72-7.72 1.47 1.35L5.41 20z\"/>\n",
              "  </svg>\n",
              "      </button>\n",
              "      \n",
              "  <style>\n",
              "    .colab-df-container {\n",
              "      display:flex;\n",
              "      flex-wrap:wrap;\n",
              "      gap: 12px;\n",
              "    }\n",
              "\n",
              "    .colab-df-convert {\n",
              "      background-color: #E8F0FE;\n",
              "      border: none;\n",
              "      border-radius: 50%;\n",
              "      cursor: pointer;\n",
              "      display: none;\n",
              "      fill: #1967D2;\n",
              "      height: 32px;\n",
              "      padding: 0 0 0 0;\n",
              "      width: 32px;\n",
              "    }\n",
              "\n",
              "    .colab-df-convert:hover {\n",
              "      background-color: #E2EBFA;\n",
              "      box-shadow: 0px 1px 2px rgba(60, 64, 67, 0.3), 0px 1px 3px 1px rgba(60, 64, 67, 0.15);\n",
              "      fill: #174EA6;\n",
              "    }\n",
              "\n",
              "    [theme=dark] .colab-df-convert {\n",
              "      background-color: #3B4455;\n",
              "      fill: #D2E3FC;\n",
              "    }\n",
              "\n",
              "    [theme=dark] .colab-df-convert:hover {\n",
              "      background-color: #434B5C;\n",
              "      box-shadow: 0px 1px 3px 1px rgba(0, 0, 0, 0.15);\n",
              "      filter: drop-shadow(0px 1px 2px rgba(0, 0, 0, 0.3));\n",
              "      fill: #FFFFFF;\n",
              "    }\n",
              "  </style>\n",
              "\n",
              "      <script>\n",
              "        const buttonEl =\n",
              "          document.querySelector('#df-10375455-4f81-425d-9402-7fe2f88149d7 button.colab-df-convert');\n",
              "        buttonEl.style.display =\n",
              "          google.colab.kernel.accessAllowed ? 'block' : 'none';\n",
              "\n",
              "        async function convertToInteractive(key) {\n",
              "          const element = document.querySelector('#df-10375455-4f81-425d-9402-7fe2f88149d7');\n",
              "          const dataTable =\n",
              "            await google.colab.kernel.invokeFunction('convertToInteractive',\n",
              "                                                     [key], {});\n",
              "          if (!dataTable) return;\n",
              "\n",
              "          const docLinkHtml = 'Like what you see? Visit the ' +\n",
              "            '<a target=\"_blank\" href=https://colab.research.google.com/notebooks/data_table.ipynb>data table notebook</a>'\n",
              "            + ' to learn more about interactive tables.';\n",
              "          element.innerHTML = '';\n",
              "          dataTable['output_type'] = 'display_data';\n",
              "          await google.colab.output.renderOutput(dataTable, element);\n",
              "          const docLink = document.createElement('div');\n",
              "          docLink.innerHTML = docLinkHtml;\n",
              "          element.appendChild(docLink);\n",
              "        }\n",
              "      </script>\n",
              "    </div>\n",
              "  </div>\n",
              "  "
            ]
          },
          "metadata": {},
          "execution_count": 228
        }
      ]
    },
    {
      "cell_type": "code",
      "source": [
        "sns.countplot(x=predict[\"Survived\"]);\n"
      ],
      "metadata": {
        "colab": {
          "base_uri": "https://localhost:8080/",
          "height": 279
        },
        "id": "eqr6BHKtIrZ6",
        "outputId": "44eb0e58-6ed9-4a5c-fec4-7932feebd684"
      },
      "execution_count": null,
      "outputs": [
        {
          "output_type": "display_data",
          "data": {
            "text/plain": [
              "<Figure size 432x288 with 1 Axes>"
            ],
            "image/png": "[encoded data removed]"
          },
          "metadata": {
            "needs_background": "light"
          }
        }
      ]
    },
    {
      "cell_type": "code",
      "source": [],
      "metadata": {
        "id": "Odl66Co7Jc6H"
      },
      "execution_count": null,
      "outputs": []
    },
    {
      "cell_type": "markdown",
      "source": [
        "## Data transformation"
      ],
      "metadata": {
        "id": "HxGiD42hOyu_"
      }
    },
    {
      "cell_type": "markdown",
      "source": [
        "###Train"
      ],
      "metadata": {
        "id": "pQksHvyaQyt6"
      }
    },
    {
      "cell_type": "code",
      "source": [
        "train.head()"
      ],
      "metadata": {
        "colab": {
          "base_uri": "https://localhost:8080/",
          "height": 316
        },
        "id": "pmWx9tfnO2w_",
        "outputId": "cfa0bd4c-59e3-40ed-ccf8-a3cef0904fad"
      },
      "execution_count": null,
      "outputs": [
        {
          "output_type": "execute_result",
          "data": {
            "text/plain": [
              "             Survived  Pclass  \\\n",
              "PassengerId                     \n",
              "1                   0       3   \n",
              "2                   1       1   \n",
              "3                   1       3   \n",
              "4                   1       1   \n",
              "5                   0       3   \n",
              "\n",
              "                                                          Name     Sex   Age  \\\n",
              "PassengerId                                                                    \n",
              "1                                      Braund, Mr. Owen Harris    male  22.0   \n",
              "2            Cumings, Mrs. John Bradley (Florence Briggs Th...  female  38.0   \n",
              "3                                       Heikkinen, Miss. Laina  female  26.0   \n",
              "4                 Futrelle, Mrs. Jacques Heath (Lily May Peel)  female  35.0   \n",
              "5                                     Allen, Mr. William Henry    male  35.0   \n",
              "\n",
              "             SibSp  Parch            Ticket     Fare Cabin Embarked  \n",
              "PassengerId                                                          \n",
              "1                1      0         A/5 21171   7.2500   NaN        S  \n",
              "2                1      0          PC 17599  71.2833   C85        C  \n",
              "3                0      0  STON/O2. 3101282   7.9250   NaN        S  \n",
              "4                1      0            113803  53.1000  C123        S  \n",
              "5                0      0            373450   8.0500   NaN        S  "
            ],
            "text/html": [
              "\n",
              "  <div id=\"df-6ed4cf0a-50b5-410e-8f0b-db3c12a05bb6\">\n",
              "    <div class=\"colab-df-container\">\n",
              "      <div>\n",
              "<style scoped>\n",
              "    .dataframe tbody tr th:only-of-type {\n",
              "        vertical-align: middle;\n",
              "    }\n",
              "\n",
              "    .dataframe tbody tr th {\n",
              "        vertical-align: top;\n",
              "    }\n",
              "\n",
              "    .dataframe thead th {\n",
              "        text-align: right;\n",
              "    }\n",
              "</style>\n",
              "<table border=\"1\" class=\"dataframe\">\n",
              "  <thead>\n",
              "    <tr style=\"text-align: right;\">\n",
              "      <th></th>\n",
              "      <th>Survived</th>\n",
              "      <th>Pclass</th>\n",
              "      <th>Name</th>\n",
              "      <th>Sex</th>\n",
              "      <th>Age</th>\n",
              "      <th>SibSp</th>\n",
              "      <th>Parch</th>\n",
              "      <th>Ticket</th>\n",
              "      <th>Fare</th>\n",
              "      <th>Cabin</th>\n",
              "      <th>Embarked</th>\n",
              "    </tr>\n",
              "    <tr>\n",
              "      <th>PassengerId</th>\n",
              "      <th></th>\n",
              "      <th></th>\n",
              "      <th></th>\n",
              "      <th></th>\n",
              "      <th></th>\n",
              "      <th></th>\n",
              "      <th></th>\n",
              "      <th></th>\n",
              "      <th></th>\n",
              "      <th></th>\n",
              "      <th></th>\n",
              "    </tr>\n",
              "  </thead>\n",
              "  <tbody>\n",
              "    <tr>\n",
              "      <th>1</th>\n",
              "      <td>0</td>\n",
              "      <td>3</td>\n",
              "      <td>Braund, Mr. Owen Harris</td>\n",
              "      <td>male</td>\n",
              "      <td>22.0</td>\n",
              "      <td>1</td>\n",
              "      <td>0</td>\n",
              "      <td>A/5 21171</td>\n",
              "      <td>7.2500</td>\n",
              "      <td>NaN</td>\n",
              "      <td>S</td>\n",
              "    </tr>\n",
              "    <tr>\n",
              "      <th>2</th>\n",
              "      <td>1</td>\n",
              "      <td>1</td>\n",
              "      <td>Cumings, Mrs. John Bradley (Florence Briggs Th...</td>\n",
              "      <td>female</td>\n",
              "      <td>38.0</td>\n",
              "      <td>1</td>\n",
              "      <td>0</td>\n",
              "      <td>PC 17599</td>\n",
              "      <td>71.2833</td>\n",
              "      <td>C85</td>\n",
              "      <td>C</td>\n",
              "    </tr>\n",
              "    <tr>\n",
              "      <th>3</th>\n",
              "      <td>1</td>\n",
              "      <td>3</td>\n",
              "      <td>Heikkinen, Miss. Laina</td>\n",
              "      <td>female</td>\n",
              "      <td>26.0</td>\n",
              "      <td>0</td>\n",
              "      <td>0</td>\n",
              "      <td>STON/O2. 3101282</td>\n",
              "      <td>7.9250</td>\n",
              "      <td>NaN</td>\n",
              "      <td>S</td>\n",
              "    </tr>\n",
              "    <tr>\n",
              "      <th>4</th>\n",
              "      <td>1</td>\n",
              "      <td>1</td>\n",
              "      <td>Futrelle, Mrs. Jacques Heath (Lily May Peel)</td>\n",
              "      <td>female</td>\n",
              "      <td>35.0</td>\n",
              "      <td>1</td>\n",
              "      <td>0</td>\n",
              "      <td>113803</td>\n",
              "      <td>53.1000</td>\n",
              "      <td>C123</td>\n",
              "      <td>S</td>\n",
              "    </tr>\n",
              "    <tr>\n",
              "      <th>5</th>\n",
              "      <td>0</td>\n",
              "      <td>3</td>\n",
              "      <td>Allen, Mr. William Henry</td>\n",
              "      <td>male</td>\n",
              "      <td>35.0</td>\n",
              "      <td>0</td>\n",
              "      <td>0</td>\n",
              "      <td>373450</td>\n",
              "      <td>8.0500</td>\n",
              "      <td>NaN</td>\n",
              "      <td>S</td>\n",
              "    </tr>\n",
              "  </tbody>\n",
              "</table>\n",
              "</div>\n",
              "      <button class=\"colab-df-convert\" onclick=\"convertToInteractive('df-6ed4cf0a-50b5-410e-8f0b-db3c12a05bb6')\"\n",
              "              title=\"Convert this dataframe to an interactive table.\"\n",
              "              style=\"display:none;\">\n",
              "        \n",
              "  <svg xmlns=\"http://www.w3.org/2000/svg\" height=\"24px\"viewBox=\"0 0 24 24\"\n",
              "       width=\"24px\">\n",
              "    <path d=\"M0 0h24v24H0V0z\" fill=\"none\"/>\n",
              "    <path d=\"M18.56 5.44l.94 2.06.94-2.06 2.06-.94-2.06-.94-.94-2.06-.94 2.06-2.06.94zm-11 1L8.5 8.5l.94-2.06 2.06-.94-2.06-.94L8.5 2.5l-.94 2.06-2.06.94zm10 10l.94 2.06.94-2.06 2.06-.94-2.06-.94-.94-2.06-.94 2.06-2.06.94z\"/><path d=\"M17.41 7.96l-1.37-1.37c-.4-.4-.92-.59-1.43-.59-.52 0-1.04.2-1.43.59L10.3 9.45l-7.72 7.72c-.78.78-.78 2.05 0 2.83L4 21.41c.39.39.9.59 1.41.59.51 0 1.02-.2 1.41-.59l7.78-7.78 2.81-2.81c.8-.78.8-2.07 0-2.86zM5.41 20L4 18.59l7.72-7.72 1.47 1.35L5.41 20z\"/>\n",
              "  </svg>\n",
              "      </button>\n",
              "      \n",
              "  <style>\n",
              "    .colab-df-container {\n",
              "      display:flex;\n",
              "      flex-wrap:wrap;\n",
              "      gap: 12px;\n",
              "    }\n",
              "\n",
              "    .colab-df-convert {\n",
              "      background-color: #E8F0FE;\n",
              "      border: none;\n",
              "      border-radius: 50%;\n",
              "      cursor: pointer;\n",
              "      display: none;\n",
              "      fill: #1967D2;\n",
              "      height: 32px;\n",
              "      padding: 0 0 0 0;\n",
              "      width: 32px;\n",
              "    }\n",
              "\n",
              "    .colab-df-convert:hover {\n",
              "      background-color: #E2EBFA;\n",
              "      box-shadow: 0px 1px 2px rgba(60, 64, 67, 0.3), 0px 1px 3px 1px rgba(60, 64, 67, 0.15);\n",
              "      fill: #174EA6;\n",
              "    }\n",
              "\n",
              "    [theme=dark] .colab-df-convert {\n",
              "      background-color: #3B4455;\n",
              "      fill: #D2E3FC;\n",
              "    }\n",
              "\n",
              "    [theme=dark] .colab-df-convert:hover {\n",
              "      background-color: #434B5C;\n",
              "      box-shadow: 0px 1px 3px 1px rgba(0, 0, 0, 0.15);\n",
              "      filter: drop-shadow(0px 1px 2px rgba(0, 0, 0, 0.3));\n",
              "      fill: #FFFFFF;\n",
              "    }\n",
              "  </style>\n",
              "\n",
              "      <script>\n",
              "        const buttonEl =\n",
              "          document.querySelector('#df-6ed4cf0a-50b5-410e-8f0b-db3c12a05bb6 button.colab-df-convert');\n",
              "        buttonEl.style.display =\n",
              "          google.colab.kernel.accessAllowed ? 'block' : 'none';\n",
              "\n",
              "        async function convertToInteractive(key) {\n",
              "          const element = document.querySelector('#df-6ed4cf0a-50b5-410e-8f0b-db3c12a05bb6');\n",
              "          const dataTable =\n",
              "            await google.colab.kernel.invokeFunction('convertToInteractive',\n",
              "                                                     [key], {});\n",
              "          if (!dataTable) return;\n",
              "\n",
              "          const docLinkHtml = 'Like what you see? Visit the ' +\n",
              "            '<a target=\"_blank\" href=https://colab.research.google.com/notebooks/data_table.ipynb>data table notebook</a>'\n",
              "            + ' to learn more about interactive tables.';\n",
              "          element.innerHTML = '';\n",
              "          dataTable['output_type'] = 'display_data';\n",
              "          await google.colab.output.renderOutput(dataTable, element);\n",
              "          const docLink = document.createElement('div');\n",
              "          docLink.innerHTML = docLinkHtml;\n",
              "          element.appendChild(docLink);\n",
              "        }\n",
              "      </script>\n",
              "    </div>\n",
              "  </div>\n",
              "  "
            ]
          },
          "metadata": {},
          "execution_count": 230
        }
      ]
    },
    {
      "cell_type": "code",
      "source": [
        "train = train.drop([\"Name\",'Ticket',\"Cabin\" ], axis = 1)\n",
        "train"
      ],
      "metadata": {
        "colab": {
          "base_uri": "https://localhost:8080/",
          "height": 455
        },
        "id": "6qxZWtiOO5BH",
        "outputId": "b2944523-b422-43cb-9cd9-4d30435b9201"
      },
      "execution_count": null,
      "outputs": [
        {
          "output_type": "execute_result",
          "data": {
            "text/plain": [
              "             Survived  Pclass     Sex   Age  SibSp  Parch     Fare Embarked\n",
              "PassengerId                                                                \n",
              "1                   0       3    male  22.0      1      0   7.2500        S\n",
              "2                   1       1  female  38.0      1      0  71.2833        C\n",
              "3                   1       3  female  26.0      0      0   7.9250        S\n",
              "4                   1       1  female  35.0      1      0  53.1000        S\n",
              "5                   0       3    male  35.0      0      0   8.0500        S\n",
              "...               ...     ...     ...   ...    ...    ...      ...      ...\n",
              "887                 0       2    male  27.0      0      0  13.0000        S\n",
              "888                 1       1  female  19.0      0      0  30.0000        S\n",
              "889                 0       3  female   NaN      1      2  23.4500        S\n",
              "890                 1       1    male  26.0      0      0  30.0000        C\n",
              "891                 0       3    male  32.0      0      0   7.7500        Q\n",
              "\n",
              "[891 rows x 8 columns]"
            ],
            "text/html": [
              "\n",
              "  <div id=\"df-6c9dd2a4-34fd-4fd7-8872-0b24f646276f\">\n",
              "    <div class=\"colab-df-container\">\n",
              "      <div>\n",
              "<style scoped>\n",
              "    .dataframe tbody tr th:only-of-type {\n",
              "        vertical-align: middle;\n",
              "    }\n",
              "\n",
              "    .dataframe tbody tr th {\n",
              "        vertical-align: top;\n",
              "    }\n",
              "\n",
              "    .dataframe thead th {\n",
              "        text-align: right;\n",
              "    }\n",
              "</style>\n",
              "<table border=\"1\" class=\"dataframe\">\n",
              "  <thead>\n",
              "    <tr style=\"text-align: right;\">\n",
              "      <th></th>\n",
              "      <th>Survived</th>\n",
              "      <th>Pclass</th>\n",
              "      <th>Sex</th>\n",
              "      <th>Age</th>\n",
              "      <th>SibSp</th>\n",
              "      <th>Parch</th>\n",
              "      <th>Fare</th>\n",
              "      <th>Embarked</th>\n",
              "    </tr>\n",
              "    <tr>\n",
              "      <th>PassengerId</th>\n",
              "      <th></th>\n",
              "      <th></th>\n",
              "      <th></th>\n",
              "      <th></th>\n",
              "      <th></th>\n",
              "      <th></th>\n",
              "      <th></th>\n",
              "      <th></th>\n",
              "    </tr>\n",
              "  </thead>\n",
              "  <tbody>\n",
              "    <tr>\n",
              "      <th>1</th>\n",
              "      <td>0</td>\n",
              "      <td>3</td>\n",
              "      <td>male</td>\n",
              "      <td>22.0</td>\n",
              "      <td>1</td>\n",
              "      <td>0</td>\n",
              "      <td>7.2500</td>\n",
              "      <td>S</td>\n",
              "    </tr>\n",
              "    <tr>\n",
              "      <th>2</th>\n",
              "      <td>1</td>\n",
              "      <td>1</td>\n",
              "      <td>female</td>\n",
              "      <td>38.0</td>\n",
              "      <td>1</td>\n",
              "      <td>0</td>\n",
              "      <td>71.2833</td>\n",
              "      <td>C</td>\n",
              "    </tr>\n",
              "    <tr>\n",
              "      <th>3</th>\n",
              "      <td>1</td>\n",
              "      <td>3</td>\n",
              "      <td>female</td>\n",
              "      <td>26.0</td>\n",
              "      <td>0</td>\n",
              "      <td>0</td>\n",
              "      <td>7.9250</td>\n",
              "      <td>S</td>\n",
              "    </tr>\n",
              "    <tr>\n",
              "      <th>4</th>\n",
              "      <td>1</td>\n",
              "      <td>1</td>\n",
              "      <td>female</td>\n",
              "      <td>35.0</td>\n",
              "      <td>1</td>\n",
              "      <td>0</td>\n",
              "      <td>53.1000</td>\n",
              "      <td>S</td>\n",
              "    </tr>\n",
              "    <tr>\n",
              "      <th>5</th>\n",
              "      <td>0</td>\n",
              "      <td>3</td>\n",
              "      <td>male</td>\n",
              "      <td>35.0</td>\n",
              "      <td>0</td>\n",
              "      <td>0</td>\n",
              "      <td>8.0500</td>\n",
              "      <td>S</td>\n",
              "    </tr>\n",
              "    <tr>\n",
              "      <th>...</th>\n",
              "      <td>...</td>\n",
              "      <td>...</td>\n",
              "      <td>...</td>\n",
              "      <td>...</td>\n",
              "      <td>...</td>\n",
              "      <td>...</td>\n",
              "      <td>...</td>\n",
              "      <td>...</td>\n",
              "    </tr>\n",
              "    <tr>\n",
              "      <th>887</th>\n",
              "      <td>0</td>\n",
              "      <td>2</td>\n",
              "      <td>male</td>\n",
              "      <td>27.0</td>\n",
              "      <td>0</td>\n",
              "      <td>0</td>\n",
              "      <td>13.0000</td>\n",
              "      <td>S</td>\n",
              "    </tr>\n",
              "    <tr>\n",
              "      <th>888</th>\n",
              "      <td>1</td>\n",
              "      <td>1</td>\n",
              "      <td>female</td>\n",
              "      <td>19.0</td>\n",
              "      <td>0</td>\n",
              "      <td>0</td>\n",
              "      <td>30.0000</td>\n",
              "      <td>S</td>\n",
              "    </tr>\n",
              "    <tr>\n",
              "      <th>889</th>\n",
              "      <td>0</td>\n",
              "      <td>3</td>\n",
              "      <td>female</td>\n",
              "      <td>NaN</td>\n",
              "      <td>1</td>\n",
              "      <td>2</td>\n",
              "      <td>23.4500</td>\n",
              "      <td>S</td>\n",
              "    </tr>\n",
              "    <tr>\n",
              "      <th>890</th>\n",
              "      <td>1</td>\n",
              "      <td>1</td>\n",
              "      <td>male</td>\n",
              "      <td>26.0</td>\n",
              "      <td>0</td>\n",
              "      <td>0</td>\n",
              "      <td>30.0000</td>\n",
              "      <td>C</td>\n",
              "    </tr>\n",
              "    <tr>\n",
              "      <th>891</th>\n",
              "      <td>0</td>\n",
              "      <td>3</td>\n",
              "      <td>male</td>\n",
              "      <td>32.0</td>\n",
              "      <td>0</td>\n",
              "      <td>0</td>\n",
              "      <td>7.7500</td>\n",
              "      <td>Q</td>\n",
              "    </tr>\n",
              "  </tbody>\n",
              "</table>\n",
              "<p>891 rows × 8 columns</p>\n",
              "</div>\n",
              "      <button class=\"colab-df-convert\" onclick=\"convertToInteractive('df-6c9dd2a4-34fd-4fd7-8872-0b24f646276f')\"\n",
              "              title=\"Convert this dataframe to an interactive table.\"\n",
              "              style=\"display:none;\">\n",
              "        \n",
              "  <svg xmlns=\"http://www.w3.org/2000/svg\" height=\"24px\"viewBox=\"0 0 24 24\"\n",
              "       width=\"24px\">\n",
              "    <path d=\"M0 0h24v24H0V0z\" fill=\"none\"/>\n",
              "    <path d=\"M18.56 5.44l.94 2.06.94-2.06 2.06-.94-2.06-.94-.94-2.06-.94 2.06-2.06.94zm-11 1L8.5 8.5l.94-2.06 2.06-.94-2.06-.94L8.5 2.5l-.94 2.06-2.06.94zm10 10l.94 2.06.94-2.06 2.06-.94-2.06-.94-.94-2.06-.94 2.06-2.06.94z\"/><path d=\"M17.41 7.96l-1.37-1.37c-.4-.4-.92-.59-1.43-.59-.52 0-1.04.2-1.43.59L10.3 9.45l-7.72 7.72c-.78.78-.78 2.05 0 2.83L4 21.41c.39.39.9.59 1.41.59.51 0 1.02-.2 1.41-.59l7.78-7.78 2.81-2.81c.8-.78.8-2.07 0-2.86zM5.41 20L4 18.59l7.72-7.72 1.47 1.35L5.41 20z\"/>\n",
              "  </svg>\n",
              "      </button>\n",
              "      \n",
              "  <style>\n",
              "    .colab-df-container {\n",
              "      display:flex;\n",
              "      flex-wrap:wrap;\n",
              "      gap: 12px;\n",
              "    }\n",
              "\n",
              "    .colab-df-convert {\n",
              "      background-color: #E8F0FE;\n",
              "      border: none;\n",
              "      border-radius: 50%;\n",
              "      cursor: pointer;\n",
              "      display: none;\n",
              "      fill: #1967D2;\n",
              "      height: 32px;\n",
              "      padding: 0 0 0 0;\n",
              "      width: 32px;\n",
              "    }\n",
              "\n",
              "    .colab-df-convert:hover {\n",
              "      background-color: #E2EBFA;\n",
              "      box-shadow: 0px 1px 2px rgba(60, 64, 67, 0.3), 0px 1px 3px 1px rgba(60, 64, 67, 0.15);\n",
              "      fill: #174EA6;\n",
              "    }\n",
              "\n",
              "    [theme=dark] .colab-df-convert {\n",
              "      background-color: #3B4455;\n",
              "      fill: #D2E3FC;\n",
              "    }\n",
              "\n",
              "    [theme=dark] .colab-df-convert:hover {\n",
              "      background-color: #434B5C;\n",
              "      box-shadow: 0px 1px 3px 1px rgba(0, 0, 0, 0.15);\n",
              "      filter: drop-shadow(0px 1px 2px rgba(0, 0, 0, 0.3));\n",
              "      fill: #FFFFFF;\n",
              "    }\n",
              "  </style>\n",
              "\n",
              "      <script>\n",
              "        const buttonEl =\n",
              "          document.querySelector('#df-6c9dd2a4-34fd-4fd7-8872-0b24f646276f button.colab-df-convert');\n",
              "        buttonEl.style.display =\n",
              "          google.colab.kernel.accessAllowed ? 'block' : 'none';\n",
              "\n",
              "        async function convertToInteractive(key) {\n",
              "          const element = document.querySelector('#df-6c9dd2a4-34fd-4fd7-8872-0b24f646276f');\n",
              "          const dataTable =\n",
              "            await google.colab.kernel.invokeFunction('convertToInteractive',\n",
              "                                                     [key], {});\n",
              "          if (!dataTable) return;\n",
              "\n",
              "          const docLinkHtml = 'Like what you see? Visit the ' +\n",
              "            '<a target=\"_blank\" href=https://colab.research.google.com/notebooks/data_table.ipynb>data table notebook</a>'\n",
              "            + ' to learn more about interactive tables.';\n",
              "          element.innerHTML = '';\n",
              "          dataTable['output_type'] = 'display_data';\n",
              "          await google.colab.output.renderOutput(dataTable, element);\n",
              "          const docLink = document.createElement('div');\n",
              "          docLink.innerHTML = docLinkHtml;\n",
              "          element.appendChild(docLink);\n",
              "        }\n",
              "      </script>\n",
              "    </div>\n",
              "  </div>\n",
              "  "
            ]
          },
          "metadata": {},
          "execution_count": 231
        }
      ]
    },
    {
      "cell_type": "code",
      "source": [
        "train.isna().sum()"
      ],
      "metadata": {
        "colab": {
          "base_uri": "https://localhost:8080/"
        },
        "id": "yAinh1gGTC_x",
        "outputId": "41710cd1-ac59-438b-f5ca-78de749144d0"
      },
      "execution_count": null,
      "outputs": [
        {
          "output_type": "execute_result",
          "data": {
            "text/plain": [
              "Survived      0\n",
              "Pclass        0\n",
              "Sex           0\n",
              "Age         177\n",
              "SibSp         0\n",
              "Parch         0\n",
              "Fare          0\n",
              "Embarked      2\n",
              "dtype: int64"
            ]
          },
          "metadata": {},
          "execution_count": 232
        }
      ]
    },
    {
      "cell_type": "markdown",
      "source": [
        "Il y a 177 NaN sur 891 lignes, on prend la decision de les retirer."
      ],
      "metadata": {
        "id": "70NRUd6aTTZJ"
      }
    },
    {
      "cell_type": "code",
      "source": [
        "train = train.dropna()\n",
        "train.isna().sum()"
      ],
      "metadata": {
        "colab": {
          "base_uri": "https://localhost:8080/"
        },
        "id": "2eaNwn48Tkhi",
        "outputId": "62e70bc0-08fb-4756-ba01-63adfb1d19af"
      },
      "execution_count": null,
      "outputs": [
        {
          "output_type": "execute_result",
          "data": {
            "text/plain": [
              "Survived    0\n",
              "Pclass      0\n",
              "Sex         0\n",
              "Age         0\n",
              "SibSp       0\n",
              "Parch       0\n",
              "Fare        0\n",
              "Embarked    0\n",
              "dtype: int64"
            ]
          },
          "metadata": {},
          "execution_count": 233
        }
      ]
    },
    {
      "cell_type": "code",
      "source": [
        "train_X = train.drop([\"Survived\"], axis = 1)\n"
      ],
      "metadata": {
        "id": "znMdN_6WT_Ya"
      },
      "execution_count": null,
      "outputs": []
    },
    {
      "cell_type": "code",
      "source": [
        "train_X_dum = pd.get_dummies(train_X)\n",
        "train_X_dum"
      ],
      "metadata": {
        "colab": {
          "base_uri": "https://localhost:8080/",
          "height": 455
        },
        "id": "l0DkZM0FQfyk",
        "outputId": "f9138716-aded-47cb-faab-b37c069dec80"
      },
      "execution_count": null,
      "outputs": [
        {
          "output_type": "execute_result",
          "data": {
            "text/plain": [
              "             Pclass   Age  SibSp  Parch     Fare  Sex_female  Sex_male  \\\n",
              "PassengerId                                                              \n",
              "1                 3  22.0      1      0   7.2500           0         1   \n",
              "2                 1  38.0      1      0  71.2833           1         0   \n",
              "3                 3  26.0      0      0   7.9250           1         0   \n",
              "4                 1  35.0      1      0  53.1000           1         0   \n",
              "5                 3  35.0      0      0   8.0500           0         1   \n",
              "...             ...   ...    ...    ...      ...         ...       ...   \n",
              "886               3  39.0      0      5  29.1250           1         0   \n",
              "887               2  27.0      0      0  13.0000           0         1   \n",
              "888               1  19.0      0      0  30.0000           1         0   \n",
              "890               1  26.0      0      0  30.0000           0         1   \n",
              "891               3  32.0      0      0   7.7500           0         1   \n",
              "\n",
              "             Embarked_C  Embarked_Q  Embarked_S  \n",
              "PassengerId                                      \n",
              "1                     0           0           1  \n",
              "2                     1           0           0  \n",
              "3                     0           0           1  \n",
              "4                     0           0           1  \n",
              "5                     0           0           1  \n",
              "...                 ...         ...         ...  \n",
              "886                   0           1           0  \n",
              "887                   0           0           1  \n",
              "888                   0           0           1  \n",
              "890                   1           0           0  \n",
              "891                   0           1           0  \n",
              "\n",
              "[712 rows x 10 columns]"
            ],
            "text/html": [
              "\n",
              "  <div id=\"df-4c1d20f6-2e10-44c0-88a6-bf7f5f24f87b\">\n",
              "    <div class=\"colab-df-container\">\n",
              "      <div>\n",
              "<style scoped>\n",
              "    .dataframe tbody tr th:only-of-type {\n",
              "        vertical-align: middle;\n",
              "    }\n",
              "\n",
              "    .dataframe tbody tr th {\n",
              "        vertical-align: top;\n",
              "    }\n",
              "\n",
              "    .dataframe thead th {\n",
              "        text-align: right;\n",
              "    }\n",
              "</style>\n",
              "<table border=\"1\" class=\"dataframe\">\n",
              "  <thead>\n",
              "    <tr style=\"text-align: right;\">\n",
              "      <th></th>\n",
              "      <th>Pclass</th>\n",
              "      <th>Age</th>\n",
              "      <th>SibSp</th>\n",
              "      <th>Parch</th>\n",
              "      <th>Fare</th>\n",
              "      <th>Sex_female</th>\n",
              "      <th>Sex_male</th>\n",
              "      <th>Embarked_C</th>\n",
              "      <th>Embarked_Q</th>\n",
              "      <th>Embarked_S</th>\n",
              "    </tr>\n",
              "    <tr>\n",
              "      <th>PassengerId</th>\n",
              "      <th></th>\n",
              "      <th></th>\n",
              "      <th></th>\n",
              "      <th></th>\n",
              "      <th></th>\n",
              "      <th></th>\n",
              "      <th></th>\n",
              "      <th></th>\n",
              "      <th></th>\n",
              "      <th></th>\n",
              "    </tr>\n",
              "  </thead>\n",
              "  <tbody>\n",
              "    <tr>\n",
              "      <th>1</th>\n",
              "      <td>3</td>\n",
              "      <td>22.0</td>\n",
              "      <td>1</td>\n",
              "      <td>0</td>\n",
              "      <td>7.2500</td>\n",
              "      <td>0</td>\n",
              "      <td>1</td>\n",
              "      <td>0</td>\n",
              "      <td>0</td>\n",
              "      <td>1</td>\n",
              "    </tr>\n",
              "    <tr>\n",
              "      <th>2</th>\n",
              "      <td>1</td>\n",
              "      <td>38.0</td>\n",
              "      <td>1</td>\n",
              "      <td>0</td>\n",
              "      <td>71.2833</td>\n",
              "      <td>1</td>\n",
              "      <td>0</td>\n",
              "      <td>1</td>\n",
              "      <td>0</td>\n",
              "      <td>0</td>\n",
              "    </tr>\n",
              "    <tr>\n",
              "      <th>3</th>\n",
              "      <td>3</td>\n",
              "      <td>26.0</td>\n",
              "      <td>0</td>\n",
              "      <td>0</td>\n",
              "      <td>7.9250</td>\n",
              "      <td>1</td>\n",
              "      <td>0</td>\n",
              "      <td>0</td>\n",
              "      <td>0</td>\n",
              "      <td>1</td>\n",
              "    </tr>\n",
              "    <tr>\n",
              "      <th>4</th>\n",
              "      <td>1</td>\n",
              "      <td>35.0</td>\n",
              "      <td>1</td>\n",
              "      <td>0</td>\n",
              "      <td>53.1000</td>\n",
              "      <td>1</td>\n",
              "      <td>0</td>\n",
              "      <td>0</td>\n",
              "      <td>0</td>\n",
              "      <td>1</td>\n",
              "    </tr>\n",
              "    <tr>\n",
              "      <th>5</th>\n",
              "      <td>3</td>\n",
              "      <td>35.0</td>\n",
              "      <td>0</td>\n",
              "      <td>0</td>\n",
              "      <td>8.0500</td>\n",
              "      <td>0</td>\n",
              "      <td>1</td>\n",
              "      <td>0</td>\n",
              "      <td>0</td>\n",
              "      <td>1</td>\n",
              "    </tr>\n",
              "    <tr>\n",
              "      <th>...</th>\n",
              "      <td>...</td>\n",
              "      <td>...</td>\n",
              "      <td>...</td>\n",
              "      <td>...</td>\n",
              "      <td>...</td>\n",
              "      <td>...</td>\n",
              "      <td>...</td>\n",
              "      <td>...</td>\n",
              "      <td>...</td>\n",
              "      <td>...</td>\n",
              "    </tr>\n",
              "    <tr>\n",
              "      <th>886</th>\n",
              "      <td>3</td>\n",
              "      <td>39.0</td>\n",
              "      <td>0</td>\n",
              "      <td>5</td>\n",
              "      <td>29.1250</td>\n",
              "      <td>1</td>\n",
              "      <td>0</td>\n",
              "      <td>0</td>\n",
              "      <td>1</td>\n",
              "      <td>0</td>\n",
              "    </tr>\n",
              "    <tr>\n",
              "      <th>887</th>\n",
              "      <td>2</td>\n",
              "      <td>27.0</td>\n",
              "      <td>0</td>\n",
              "      <td>0</td>\n",
              "      <td>13.0000</td>\n",
              "      <td>0</td>\n",
              "      <td>1</td>\n",
              "      <td>0</td>\n",
              "      <td>0</td>\n",
              "      <td>1</td>\n",
              "    </tr>\n",
              "    <tr>\n",
              "      <th>888</th>\n",
              "      <td>1</td>\n",
              "      <td>19.0</td>\n",
              "      <td>0</td>\n",
              "      <td>0</td>\n",
              "      <td>30.0000</td>\n",
              "      <td>1</td>\n",
              "      <td>0</td>\n",
              "      <td>0</td>\n",
              "      <td>0</td>\n",
              "      <td>1</td>\n",
              "    </tr>\n",
              "    <tr>\n",
              "      <th>890</th>\n",
              "      <td>1</td>\n",
              "      <td>26.0</td>\n",
              "      <td>0</td>\n",
              "      <td>0</td>\n",
              "      <td>30.0000</td>\n",
              "      <td>0</td>\n",
              "      <td>1</td>\n",
              "      <td>1</td>\n",
              "      <td>0</td>\n",
              "      <td>0</td>\n",
              "    </tr>\n",
              "    <tr>\n",
              "      <th>891</th>\n",
              "      <td>3</td>\n",
              "      <td>32.0</td>\n",
              "      <td>0</td>\n",
              "      <td>0</td>\n",
              "      <td>7.7500</td>\n",
              "      <td>0</td>\n",
              "      <td>1</td>\n",
              "      <td>0</td>\n",
              "      <td>1</td>\n",
              "      <td>0</td>\n",
              "    </tr>\n",
              "  </tbody>\n",
              "</table>\n",
              "<p>712 rows × 10 columns</p>\n",
              "</div>\n",
              "      <button class=\"colab-df-convert\" onclick=\"convertToInteractive('df-4c1d20f6-2e10-44c0-88a6-bf7f5f24f87b')\"\n",
              "              title=\"Convert this dataframe to an interactive table.\"\n",
              "              style=\"display:none;\">\n",
              "        \n",
              "  <svg xmlns=\"http://www.w3.org/2000/svg\" height=\"24px\"viewBox=\"0 0 24 24\"\n",
              "       width=\"24px\">\n",
              "    <path d=\"M0 0h24v24H0V0z\" fill=\"none\"/>\n",
              "    <path d=\"M18.56 5.44l.94 2.06.94-2.06 2.06-.94-2.06-.94-.94-2.06-.94 2.06-2.06.94zm-11 1L8.5 8.5l.94-2.06 2.06-.94-2.06-.94L8.5 2.5l-.94 2.06-2.06.94zm10 10l.94 2.06.94-2.06 2.06-.94-2.06-.94-.94-2.06-.94 2.06-2.06.94z\"/><path d=\"M17.41 7.96l-1.37-1.37c-.4-.4-.92-.59-1.43-.59-.52 0-1.04.2-1.43.59L10.3 9.45l-7.72 7.72c-.78.78-.78 2.05 0 2.83L4 21.41c.39.39.9.59 1.41.59.51 0 1.02-.2 1.41-.59l7.78-7.78 2.81-2.81c.8-.78.8-2.07 0-2.86zM5.41 20L4 18.59l7.72-7.72 1.47 1.35L5.41 20z\"/>\n",
              "  </svg>\n",
              "      </button>\n",
              "      \n",
              "  <style>\n",
              "    .colab-df-container {\n",
              "      display:flex;\n",
              "      flex-wrap:wrap;\n",
              "      gap: 12px;\n",
              "    }\n",
              "\n",
              "    .colab-df-convert {\n",
              "      background-color: #E8F0FE;\n",
              "      border: none;\n",
              "      border-radius: 50%;\n",
              "      cursor: pointer;\n",
              "      display: none;\n",
              "      fill: #1967D2;\n",
              "      height: 32px;\n",
              "      padding: 0 0 0 0;\n",
              "      width: 32px;\n",
              "    }\n",
              "\n",
              "    .colab-df-convert:hover {\n",
              "      background-color: #E2EBFA;\n",
              "      box-shadow: 0px 1px 2px rgba(60, 64, 67, 0.3), 0px 1px 3px 1px rgba(60, 64, 67, 0.15);\n",
              "      fill: #174EA6;\n",
              "    }\n",
              "\n",
              "    [theme=dark] .colab-df-convert {\n",
              "      background-color: #3B4455;\n",
              "      fill: #D2E3FC;\n",
              "    }\n",
              "\n",
              "    [theme=dark] .colab-df-convert:hover {\n",
              "      background-color: #434B5C;\n",
              "      box-shadow: 0px 1px 3px 1px rgba(0, 0, 0, 0.15);\n",
              "      filter: drop-shadow(0px 1px 2px rgba(0, 0, 0, 0.3));\n",
              "      fill: #FFFFFF;\n",
              "    }\n",
              "  </style>\n",
              "\n",
              "      <script>\n",
              "        const buttonEl =\n",
              "          document.querySelector('#df-4c1d20f6-2e10-44c0-88a6-bf7f5f24f87b button.colab-df-convert');\n",
              "        buttonEl.style.display =\n",
              "          google.colab.kernel.accessAllowed ? 'block' : 'none';\n",
              "\n",
              "        async function convertToInteractive(key) {\n",
              "          const element = document.querySelector('#df-4c1d20f6-2e10-44c0-88a6-bf7f5f24f87b');\n",
              "          const dataTable =\n",
              "            await google.colab.kernel.invokeFunction('convertToInteractive',\n",
              "                                                     [key], {});\n",
              "          if (!dataTable) return;\n",
              "\n",
              "          const docLinkHtml = 'Like what you see? Visit the ' +\n",
              "            '<a target=\"_blank\" href=https://colab.research.google.com/notebooks/data_table.ipynb>data table notebook</a>'\n",
              "            + ' to learn more about interactive tables.';\n",
              "          element.innerHTML = '';\n",
              "          dataTable['output_type'] = 'display_data';\n",
              "          await google.colab.output.renderOutput(dataTable, element);\n",
              "          const docLink = document.createElement('div');\n",
              "          docLink.innerHTML = docLinkHtml;\n",
              "          element.appendChild(docLink);\n",
              "        }\n",
              "      </script>\n",
              "    </div>\n",
              "  </div>\n",
              "  "
            ]
          },
          "metadata": {},
          "execution_count": 235
        }
      ]
    },
    {
      "cell_type": "code",
      "source": [
        "train_Y = train['Survived']\n",
        "train_Y"
      ],
      "metadata": {
        "colab": {
          "base_uri": "https://localhost:8080/"
        },
        "id": "ECmD-bdYPHSh",
        "outputId": "1d28a216-d93e-48b2-e22a-9b31fa14213b"
      },
      "execution_count": null,
      "outputs": [
        {
          "output_type": "execute_result",
          "data": {
            "text/plain": [
              "PassengerId\n",
              "1      0\n",
              "2      1\n",
              "3      1\n",
              "4      1\n",
              "5      0\n",
              "      ..\n",
              "886    0\n",
              "887    0\n",
              "888    1\n",
              "890    1\n",
              "891    0\n",
              "Name: Survived, Length: 712, dtype: int64"
            ]
          },
          "metadata": {},
          "execution_count": 236
        }
      ]
    },
    {
      "cell_type": "markdown",
      "source": [
        "###Test"
      ],
      "metadata": {
        "id": "8zxFwbnBQ1Qw"
      }
    },
    {
      "cell_type": "code",
      "source": [
        "test.isna().sum()"
      ],
      "metadata": {
        "colab": {
          "base_uri": "https://localhost:8080/"
        },
        "id": "pjOtEp3WUnEs",
        "outputId": "478de6bc-0dc4-44ab-9fe2-0202d67f643d"
      },
      "execution_count": null,
      "outputs": [
        {
          "output_type": "execute_result",
          "data": {
            "text/plain": [
              "Pclass        0\n",
              "Name          0\n",
              "Sex           0\n",
              "Age          86\n",
              "SibSp         0\n",
              "Parch         0\n",
              "Ticket        0\n",
              "Fare          1\n",
              "Cabin       327\n",
              "Embarked      0\n",
              "dtype: int64"
            ]
          },
          "metadata": {},
          "execution_count": 237
        }
      ]
    },
    {
      "cell_type": "code",
      "source": [
        "test_tot =  pd.merge(test, predict, on=\"PassengerId\")\n",
        "test_tot.isna().sum()"
      ],
      "metadata": {
        "colab": {
          "base_uri": "https://localhost:8080/"
        },
        "id": "fn-LBF5IU4rI",
        "outputId": "ade08600-0cd5-43ab-942a-c95cdd434efa"
      },
      "execution_count": null,
      "outputs": [
        {
          "output_type": "execute_result",
          "data": {
            "text/plain": [
              "Pclass        0\n",
              "Name          0\n",
              "Sex           0\n",
              "Age          86\n",
              "SibSp         0\n",
              "Parch         0\n",
              "Ticket        0\n",
              "Fare          1\n",
              "Cabin       327\n",
              "Embarked      0\n",
              "Survived      0\n",
              "dtype: int64"
            ]
          },
          "metadata": {},
          "execution_count": 238
        }
      ]
    },
    {
      "cell_type": "code",
      "source": [
        "test_tot = test_tot.drop([\"Name\",'Ticket',\"Cabin\" ], axis = 1)"
      ],
      "metadata": {
        "id": "TkkOQ92MVIrX"
      },
      "execution_count": null,
      "outputs": []
    },
    {
      "cell_type": "code",
      "source": [
        "test_tot = test_tot.dropna()\n",
        "test_tot.isna().sum()"
      ],
      "metadata": {
        "colab": {
          "base_uri": "https://localhost:8080/"
        },
        "id": "oYG512aDVMkU",
        "outputId": "35f58012-7dc0-4f1f-ceca-f31244b4c460"
      },
      "execution_count": null,
      "outputs": [
        {
          "output_type": "execute_result",
          "data": {
            "text/plain": [
              "Pclass      0\n",
              "Sex         0\n",
              "Age         0\n",
              "SibSp       0\n",
              "Parch       0\n",
              "Fare        0\n",
              "Embarked    0\n",
              "Survived    0\n",
              "dtype: int64"
            ]
          },
          "metadata": {},
          "execution_count": 240
        }
      ]
    },
    {
      "cell_type": "code",
      "source": [
        "test_X_clean = test_tot.drop([\"Survived\"], axis = 1)\n"
      ],
      "metadata": {
        "id": "FzPJh3-lVTBu"
      },
      "execution_count": null,
      "outputs": []
    },
    {
      "cell_type": "code",
      "source": [
        "test_X_dum = pd.get_dummies(test_X_clean)\n",
        "test_X_dum"
      ],
      "metadata": {
        "colab": {
          "base_uri": "https://localhost:8080/",
          "height": 455
        },
        "id": "pF_MwgbJPOEe",
        "outputId": "cbfab72c-64a4-451d-da77-7d15d480ff98"
      },
      "execution_count": null,
      "outputs": [
        {
          "output_type": "execute_result",
          "data": {
            "text/plain": [
              "             Pclass   Age  SibSp  Parch      Fare  Sex_female  Sex_male  \\\n",
              "PassengerId                                                               \n",
              "892               3  34.5      0      0    7.8292           0         1   \n",
              "893               3  47.0      1      0    7.0000           1         0   \n",
              "894               2  62.0      0      0    9.6875           0         1   \n",
              "895               3  27.0      0      0    8.6625           0         1   \n",
              "896               3  22.0      1      1   12.2875           1         0   \n",
              "...             ...   ...    ...    ...       ...         ...       ...   \n",
              "1301              3   3.0      1      1   13.7750           1         0   \n",
              "1303              1  37.0      1      0   90.0000           1         0   \n",
              "1304              3  28.0      0      0    7.7750           1         0   \n",
              "1306              1  39.0      0      0  108.9000           1         0   \n",
              "1307              3  38.5      0      0    7.2500           0         1   \n",
              "\n",
              "             Embarked_C  Embarked_Q  Embarked_S  \n",
              "PassengerId                                      \n",
              "892                   0           1           0  \n",
              "893                   0           0           1  \n",
              "894                   0           1           0  \n",
              "895                   0           0           1  \n",
              "896                   0           0           1  \n",
              "...                 ...         ...         ...  \n",
              "1301                  0           0           1  \n",
              "1303                  0           1           0  \n",
              "1304                  0           0           1  \n",
              "1306                  1           0           0  \n",
              "1307                  0           0           1  \n",
              "\n",
              "[331 rows x 10 columns]"
            ],
            "text/html": [
              "\n",
              "  <div id=\"df-eb4e25d5-b029-4c6b-9d90-b217e80fcbc1\">\n",
              "    <div class=\"colab-df-container\">\n",
              "      <div>\n",
              "<style scoped>\n",
              "    .dataframe tbody tr th:only-of-type {\n",
              "        vertical-align: middle;\n",
              "    }\n",
              "\n",
              "    .dataframe tbody tr th {\n",
              "        vertical-align: top;\n",
              "    }\n",
              "\n",
              "    .dataframe thead th {\n",
              "        text-align: right;\n",
              "    }\n",
              "</style>\n",
              "<table border=\"1\" class=\"dataframe\">\n",
              "  <thead>\n",
              "    <tr style=\"text-align: right;\">\n",
              "      <th></th>\n",
              "      <th>Pclass</th>\n",
              "      <th>Age</th>\n",
              "      <th>SibSp</th>\n",
              "      <th>Parch</th>\n",
              "      <th>Fare</th>\n",
              "      <th>Sex_female</th>\n",
              "      <th>Sex_male</th>\n",
              "      <th>Embarked_C</th>\n",
              "      <th>Embarked_Q</th>\n",
              "      <th>Embarked_S</th>\n",
              "    </tr>\n",
              "    <tr>\n",
              "      <th>PassengerId</th>\n",
              "      <th></th>\n",
              "      <th></th>\n",
              "      <th></th>\n",
              "      <th></th>\n",
              "      <th></th>\n",
              "      <th></th>\n",
              "      <th></th>\n",
              "      <th></th>\n",
              "      <th></th>\n",
              "      <th></th>\n",
              "    </tr>\n",
              "  </thead>\n",
              "  <tbody>\n",
              "    <tr>\n",
              "      <th>892</th>\n",
              "      <td>3</td>\n",
              "      <td>34.5</td>\n",
              "      <td>0</td>\n",
              "      <td>0</td>\n",
              "      <td>7.8292</td>\n",
              "      <td>0</td>\n",
              "      <td>1</td>\n",
              "      <td>0</td>\n",
              "      <td>1</td>\n",
              "      <td>0</td>\n",
              "    </tr>\n",
              "    <tr>\n",
              "      <th>893</th>\n",
              "      <td>3</td>\n",
              "      <td>47.0</td>\n",
              "      <td>1</td>\n",
              "      <td>0</td>\n",
              "      <td>7.0000</td>\n",
              "      <td>1</td>\n",
              "      <td>0</td>\n",
              "      <td>0</td>\n",
              "      <td>0</td>\n",
              "      <td>1</td>\n",
              "    </tr>\n",
              "    <tr>\n",
              "      <th>894</th>\n",
              "      <td>2</td>\n",
              "      <td>62.0</td>\n",
              "      <td>0</td>\n",
              "      <td>0</td>\n",
              "      <td>9.6875</td>\n",
              "      <td>0</td>\n",
              "      <td>1</td>\n",
              "      <td>0</td>\n",
              "      <td>1</td>\n",
              "      <td>0</td>\n",
              "    </tr>\n",
              "    <tr>\n",
              "      <th>895</th>\n",
              "      <td>3</td>\n",
              "      <td>27.0</td>\n",
              "      <td>0</td>\n",
              "      <td>0</td>\n",
              "      <td>8.6625</td>\n",
              "      <td>0</td>\n",
              "      <td>1</td>\n",
              "      <td>0</td>\n",
              "      <td>0</td>\n",
              "      <td>1</td>\n",
              "    </tr>\n",
              "    <tr>\n",
              "      <th>896</th>\n",
              "      <td>3</td>\n",
              "      <td>22.0</td>\n",
              "      <td>1</td>\n",
              "      <td>1</td>\n",
              "      <td>12.2875</td>\n",
              "      <td>1</td>\n",
              "      <td>0</td>\n",
              "      <td>0</td>\n",
              "      <td>0</td>\n",
              "      <td>1</td>\n",
              "    </tr>\n",
              "    <tr>\n",
              "      <th>...</th>\n",
              "      <td>...</td>\n",
              "      <td>...</td>\n",
              "      <td>...</td>\n",
              "      <td>...</td>\n",
              "      <td>...</td>\n",
              "      <td>...</td>\n",
              "      <td>...</td>\n",
              "      <td>...</td>\n",
              "      <td>...</td>\n",
              "      <td>...</td>\n",
              "    </tr>\n",
              "    <tr>\n",
              "      <th>1301</th>\n",
              "      <td>3</td>\n",
              "      <td>3.0</td>\n",
              "      <td>1</td>\n",
              "      <td>1</td>\n",
              "      <td>13.7750</td>\n",
              "      <td>1</td>\n",
              "      <td>0</td>\n",
              "      <td>0</td>\n",
              "      <td>0</td>\n",
              "      <td>1</td>\n",
              "    </tr>\n",
              "    <tr>\n",
              "      <th>1303</th>\n",
              "      <td>1</td>\n",
              "      <td>37.0</td>\n",
              "      <td>1</td>\n",
              "      <td>0</td>\n",
              "      <td>90.0000</td>\n",
              "      <td>1</td>\n",
              "      <td>0</td>\n",
              "      <td>0</td>\n",
              "      <td>1</td>\n",
              "      <td>0</td>\n",
              "    </tr>\n",
              "    <tr>\n",
              "      <th>1304</th>\n",
              "      <td>3</td>\n",
              "      <td>28.0</td>\n",
              "      <td>0</td>\n",
              "      <td>0</td>\n",
              "      <td>7.7750</td>\n",
              "      <td>1</td>\n",
              "      <td>0</td>\n",
              "      <td>0</td>\n",
              "      <td>0</td>\n",
              "      <td>1</td>\n",
              "    </tr>\n",
              "    <tr>\n",
              "      <th>1306</th>\n",
              "      <td>1</td>\n",
              "      <td>39.0</td>\n",
              "      <td>0</td>\n",
              "      <td>0</td>\n",
              "      <td>108.9000</td>\n",
              "      <td>1</td>\n",
              "      <td>0</td>\n",
              "      <td>1</td>\n",
              "      <td>0</td>\n",
              "      <td>0</td>\n",
              "    </tr>\n",
              "    <tr>\n",
              "      <th>1307</th>\n",
              "      <td>3</td>\n",
              "      <td>38.5</td>\n",
              "      <td>0</td>\n",
              "      <td>0</td>\n",
              "      <td>7.2500</td>\n",
              "      <td>0</td>\n",
              "      <td>1</td>\n",
              "      <td>0</td>\n",
              "      <td>0</td>\n",
              "      <td>1</td>\n",
              "    </tr>\n",
              "  </tbody>\n",
              "</table>\n",
              "<p>331 rows × 10 columns</p>\n",
              "</div>\n",
              "      <button class=\"colab-df-convert\" onclick=\"convertToInteractive('df-eb4e25d5-b029-4c6b-9d90-b217e80fcbc1')\"\n",
              "              title=\"Convert this dataframe to an interactive table.\"\n",
              "              style=\"display:none;\">\n",
              "        \n",
              "  <svg xmlns=\"http://www.w3.org/2000/svg\" height=\"24px\"viewBox=\"0 0 24 24\"\n",
              "       width=\"24px\">\n",
              "    <path d=\"M0 0h24v24H0V0z\" fill=\"none\"/>\n",
              "    <path d=\"M18.56 5.44l.94 2.06.94-2.06 2.06-.94-2.06-.94-.94-2.06-.94 2.06-2.06.94zm-11 1L8.5 8.5l.94-2.06 2.06-.94-2.06-.94L8.5 2.5l-.94 2.06-2.06.94zm10 10l.94 2.06.94-2.06 2.06-.94-2.06-.94-.94-2.06-.94 2.06-2.06.94z\"/><path d=\"M17.41 7.96l-1.37-1.37c-.4-.4-.92-.59-1.43-.59-.52 0-1.04.2-1.43.59L10.3 9.45l-7.72 7.72c-.78.78-.78 2.05 0 2.83L4 21.41c.39.39.9.59 1.41.59.51 0 1.02-.2 1.41-.59l7.78-7.78 2.81-2.81c.8-.78.8-2.07 0-2.86zM5.41 20L4 18.59l7.72-7.72 1.47 1.35L5.41 20z\"/>\n",
              "  </svg>\n",
              "      </button>\n",
              "      \n",
              "  <style>\n",
              "    .colab-df-container {\n",
              "      display:flex;\n",
              "      flex-wrap:wrap;\n",
              "      gap: 12px;\n",
              "    }\n",
              "\n",
              "    .colab-df-convert {\n",
              "      background-color: #E8F0FE;\n",
              "      border: none;\n",
              "      border-radius: 50%;\n",
              "      cursor: pointer;\n",
              "      display: none;\n",
              "      fill: #1967D2;\n",
              "      height: 32px;\n",
              "      padding: 0 0 0 0;\n",
              "      width: 32px;\n",
              "    }\n",
              "\n",
              "    .colab-df-convert:hover {\n",
              "      background-color: #E2EBFA;\n",
              "      box-shadow: 0px 1px 2px rgba(60, 64, 67, 0.3), 0px 1px 3px 1px rgba(60, 64, 67, 0.15);\n",
              "      fill: #174EA6;\n",
              "    }\n",
              "\n",
              "    [theme=dark] .colab-df-convert {\n",
              "      background-color: #3B4455;\n",
              "      fill: #D2E3FC;\n",
              "    }\n",
              "\n",
              "    [theme=dark] .colab-df-convert:hover {\n",
              "      background-color: #434B5C;\n",
              "      box-shadow: 0px 1px 3px 1px rgba(0, 0, 0, 0.15);\n",
              "      filter: drop-shadow(0px 1px 2px rgba(0, 0, 0, 0.3));\n",
              "      fill: #FFFFFF;\n",
              "    }\n",
              "  </style>\n",
              "\n",
              "      <script>\n",
              "        const buttonEl =\n",
              "          document.querySelector('#df-eb4e25d5-b029-4c6b-9d90-b217e80fcbc1 button.colab-df-convert');\n",
              "        buttonEl.style.display =\n",
              "          google.colab.kernel.accessAllowed ? 'block' : 'none';\n",
              "\n",
              "        async function convertToInteractive(key) {\n",
              "          const element = document.querySelector('#df-eb4e25d5-b029-4c6b-9d90-b217e80fcbc1');\n",
              "          const dataTable =\n",
              "            await google.colab.kernel.invokeFunction('convertToInteractive',\n",
              "                                                     [key], {});\n",
              "          if (!dataTable) return;\n",
              "\n",
              "          const docLinkHtml = 'Like what you see? Visit the ' +\n",
              "            '<a target=\"_blank\" href=https://colab.research.google.com/notebooks/data_table.ipynb>data table notebook</a>'\n",
              "            + ' to learn more about interactive tables.';\n",
              "          element.innerHTML = '';\n",
              "          dataTable['output_type'] = 'display_data';\n",
              "          await google.colab.output.renderOutput(dataTable, element);\n",
              "          const docLink = document.createElement('div');\n",
              "          docLink.innerHTML = docLinkHtml;\n",
              "          element.appendChild(docLink);\n",
              "        }\n",
              "      </script>\n",
              "    </div>\n",
              "  </div>\n",
              "  "
            ]
          },
          "metadata": {},
          "execution_count": 242
        }
      ]
    },
    {
      "cell_type": "code",
      "source": [
        "test_Y = test_tot['Survived']\n",
        "test_Y"
      ],
      "metadata": {
        "colab": {
          "base_uri": "https://localhost:8080/"
        },
        "id": "5rzF7FhDRStZ",
        "outputId": "25bcceab-6728-46b4-ce49-96d03d008208"
      },
      "execution_count": null,
      "outputs": [
        {
          "output_type": "execute_result",
          "data": {
            "text/plain": [
              "PassengerId\n",
              "892     0\n",
              "893     1\n",
              "894     0\n",
              "895     0\n",
              "896     1\n",
              "       ..\n",
              "1301    1\n",
              "1303    1\n",
              "1304    1\n",
              "1306    1\n",
              "1307    0\n",
              "Name: Survived, Length: 331, dtype: int64"
            ]
          },
          "metadata": {},
          "execution_count": 243
        }
      ]
    },
    {
      "cell_type": "code",
      "source": [
        "from sklearn.preprocessing import StandardScaler\n",
        "\n",
        "scaler = StandardScaler()\n",
        "train_X_dum_scale = scaler.fit_transform(train_X_dum)\n",
        "test_X_dum_scale = scaler.transform(test_X_dum)"
      ],
      "metadata": {
        "id": "QMs6J_jBstEC"
      },
      "execution_count": null,
      "outputs": []
    },
    {
      "cell_type": "markdown",
      "source": [
        "##Model"
      ],
      "metadata": {
        "id": "VwYlgqQ0Rlym"
      }
    },
    {
      "cell_type": "markdown",
      "source": [
        "####Decision Tree"
      ],
      "metadata": {
        "id": "W5nT5GjCR4bG"
      }
    },
    {
      "cell_type": "code",
      "source": [
        "from sklearn.tree import DecisionTreeClassifier\n",
        "from sklearn import metrics #Import scikit-learn metrics module for accuracy calculation\n"
      ],
      "metadata": {
        "id": "JoZkKzgvRb4p"
      },
      "execution_count": null,
      "outputs": []
    },
    {
      "cell_type": "code",
      "source": [
        "clf = DecisionTreeClassifier(random_state=0)\n",
        "clf = clf.fit(train_X_dum_scale, train_Y)\n"
      ],
      "metadata": {
        "id": "YEeZFRk8SNNe"
      },
      "execution_count": null,
      "outputs": []
    },
    {
      "cell_type": "code",
      "source": [
        "y_pred = clf.predict(test_X_dum_scale)"
      ],
      "metadata": {
        "id": "kUa0uIybSa8_"
      },
      "execution_count": null,
      "outputs": []
    },
    {
      "cell_type": "code",
      "source": [
        "print(\"Accuracy:\",metrics.accuracy_score(test_Y, y_pred))\n"
      ],
      "metadata": {
        "colab": {
          "base_uri": "https://localhost:8080/"
        },
        "id": "VVs2rgdFUaF-",
        "outputId": "a5b6dde2-8057-45af-d5e4-8ac0503f4132"
      },
      "execution_count": null,
      "outputs": [
        {
          "output_type": "stream",
          "name": "stdout",
          "text": [
            "Accuracy: 0.770392749244713\n"
          ]
        }
      ]
    },
    {
      "cell_type": "code",
      "source": [
        "importance = clf.feature_importances_\n",
        "i = 0\n",
        "\n",
        "while i < len(test_X_dum.columns):\n",
        "  print(\"L'importance relative de \",test_X_dum.columns[i],'est de ', round(importance[i]*100, 2), '%')\n",
        "  i += 1"
      ],
      "metadata": {
        "colab": {
          "base_uri": "https://localhost:8080/"
        },
        "id": "iqd2NJh_q-3U",
        "outputId": "7961d194-5df4-4ab2-e797-26c1ee9dc93f"
      },
      "execution_count": null,
      "outputs": [
        {
          "output_type": "stream",
          "name": "stdout",
          "text": [
            "L'importance relative de  Pclass est de  13.38 %\n",
            "L'importance relative de  Age est de  26.0 %\n",
            "L'importance relative de  SibSp est de  5.87 %\n",
            "L'importance relative de  Parch est de  2.42 %\n",
            "L'importance relative de  Fare est de  20.24 %\n",
            "L'importance relative de  Sex_female est de  0.0 %\n",
            "L'importance relative de  Sex_male est de  29.74 %\n",
            "L'importance relative de  Embarked_C est de  1.4 %\n",
            "L'importance relative de  Embarked_Q est de  0.12 %\n",
            "L'importance relative de  Embarked_S est de  0.84 %\n"
          ]
        }
      ]
    },
    {
      "cell_type": "markdown",
      "source": [
        "#####Vizualisation"
      ],
      "metadata": {
        "id": "LnbbfS0LWUvR"
      }
    },
    {
      "cell_type": "code",
      "source": [
        "from sklearn import tree\n",
        "\n",
        "fig = plt.figure(figsize=(25,20))\n",
        "_ = tree.plot_tree(clf,\n",
        "                   feature_names = train_X_dum.columns,\n",
        "                   filled=True)"
      ],
      "metadata": {
        "colab": {
          "base_uri": "https://localhost:8080/",
          "height": 868
        },
        "id": "GfiF6M0BWri6",
        "outputId": "4c0bcbfc-d103-4084-cde2-748f0df05458"
      },
      "execution_count": null,
      "outputs": [
        {
          "output_type": "display_data",
          "data": {
            "text/plain": [
              "<Figure size 1800x1440 with 1 Axes>"
            ],
            "image/png": "[encoded data removed]"
          },
          "metadata": {
            "needs_background": "light"
          }
        }
      ]
    },
    {
      "cell_type": "markdown",
      "source": [
        "####Gradient Boosting"
      ],
      "metadata": {
        "id": "2tG2cz-sWG_a"
      }
    },
    {
      "cell_type": "code",
      "source": [
        "from sklearn.ensemble import AdaBoostClassifier"
      ],
      "metadata": {
        "id": "7YsQw-wdWLn-"
      },
      "execution_count": null,
      "outputs": []
    },
    {
      "cell_type": "code",
      "source": [
        "ada_clf = AdaBoostClassifier(n_estimators=100, random_state=0)\n",
        "ada_clf.fit(train_X_dum_scale, train_Y)\n"
      ],
      "metadata": {
        "colab": {
          "base_uri": "https://localhost:8080/"
        },
        "id": "0N1KV4eKXNai",
        "outputId": "ba8b8069-47b3-44dd-9c1b-7ee53b4d5b25"
      },
      "execution_count": null,
      "outputs": [
        {
          "output_type": "execute_result",
          "data": {
            "text/plain": [
              "AdaBoostClassifier(n_estimators=100, random_state=0)"
            ]
          },
          "metadata": {},
          "execution_count": 257
        }
      ]
    },
    {
      "cell_type": "code",
      "source": [
        "y_pred_ada = ada_clf.predict(test_X_dum_scale)"
      ],
      "metadata": {
        "id": "nDGekXhOYLKC"
      },
      "execution_count": null,
      "outputs": []
    },
    {
      "cell_type": "code",
      "source": [
        "print(\"Accuracy:\",metrics.accuracy_score(test_Y, y_pred_ada))\n"
      ],
      "metadata": {
        "colab": {
          "base_uri": "https://localhost:8080/"
        },
        "id": "cYX3GP4uYSnf",
        "outputId": "85893481-1803-408a-c7af-b1f6f23bee0c"
      },
      "execution_count": null,
      "outputs": [
        {
          "output_type": "stream",
          "name": "stdout",
          "text": [
            "Accuracy: 0.8942598187311178\n"
          ]
        }
      ]
    },
    {
      "cell_type": "code",
      "source": [
        "importance = ada_clf.feature_importances_\n",
        "i = 0\n",
        "\n",
        "while i < len(test_X_dum.columns):\n",
        "  print(\"L'importance relative de \",test_X_dum.columns[i],'est de ', round(importance[i]*100, 2), '%')\n",
        "  i += 1"
      ],
      "metadata": {
        "colab": {
          "base_uri": "https://localhost:8080/"
        },
        "id": "j6eBBAuwqyvM",
        "outputId": "c12013f9-b23f-4928-bfe0-fc36be3fe752"
      },
      "execution_count": null,
      "outputs": [
        {
          "output_type": "stream",
          "name": "stdout",
          "text": [
            "L'importance relative de  Pclass est de  3.0 %\n",
            "L'importance relative de  Age est de  33.0 %\n",
            "L'importance relative de  SibSp est de  5.0 %\n",
            "L'importance relative de  Parch est de  1.0 %\n",
            "L'importance relative de  Fare est de  53.0 %\n",
            "L'importance relative de  Sex_female est de  0.0 %\n",
            "L'importance relative de  Sex_male est de  4.0 %\n",
            "L'importance relative de  Embarked_C est de  1.0 %\n",
            "L'importance relative de  Embarked_Q est de  0.0 %\n",
            "L'importance relative de  Embarked_S est de  0.0 %\n"
          ]
        }
      ]
    },
    {
      "cell_type": "code",
      "source": [],
      "metadata": {
        "id": "76mLs72Uqo7T"
      },
      "execution_count": null,
      "outputs": []
    },
    {
      "cell_type": "code",
      "source": [
        "from sklearn.model_selection import GridSearchCV\n",
        "\n",
        "abc = AdaBoostClassifier(base_estimator=DecisionTreeClassifier())\n",
        "\n",
        "parameters = {'base_estimator__max_depth':[i for i in range(2,11,2)],\n",
        "              'base_estimator__min_samples_leaf':[5,10],\n",
        "              'n_estimators':[10,50,250,1000],\n",
        "              'learning_rate':[0.01,0.1]}\n",
        "\n",
        "clf_grid = GridSearchCV(abc, parameters,verbose=3,scoring='f1',n_jobs=-1)\n",
        "clf_grid.fit(train_X_dum, train_Y)\n",
        "\n"
      ],
      "metadata": {
        "colab": {
          "base_uri": "https://localhost:8080/"
        },
        "id": "HR3EGFYoYUIE",
        "outputId": "9fe56654-102c-4868-a0a0-184a170f06e5"
      },
      "execution_count": null,
      "outputs": [
        {
          "output_type": "stream",
          "name": "stdout",
          "text": [
            "Fitting 5 folds for each of 80 candidates, totalling 400 fits\n"
          ]
        },
        {
          "output_type": "execute_result",
          "data": {
            "text/plain": [
              "GridSearchCV(estimator=AdaBoostClassifier(base_estimator=DecisionTreeClassifier()),\n",
              "             n_jobs=-1,\n",
              "             param_grid={'base_estimator__max_depth': [2, 4, 6, 8, 10],\n",
              "                         'base_estimator__min_samples_leaf': [5, 10],\n",
              "                         'learning_rate': [0.01, 0.1],\n",
              "                         'n_estimators': [10, 50, 250, 1000]},\n",
              "             scoring='f1', verbose=3)"
            ]
          },
          "metadata": {},
          "execution_count": 136
        }
      ]
    },
    {
      "cell_type": "code",
      "source": [
        "y_pred_ada_grid = clf_grid.predict(test_X_dum)\n",
        "print(\"Accuracy:\",metrics.accuracy_score(test_Y, y_pred_ada_grid))\n"
      ],
      "metadata": {
        "colab": {
          "base_uri": "https://localhost:8080/"
        },
        "id": "TCC9JGOOYrOA",
        "outputId": "d8b3edb7-cb6e-494d-cd23-ebf482157a06"
      },
      "execution_count": null,
      "outputs": [
        {
          "output_type": "stream",
          "name": "stdout",
          "text": [
            "Accuracy: 0.8700906344410876\n"
          ]
        }
      ]
    },
    {
      "cell_type": "markdown",
      "source": [
        "####Random Forest"
      ],
      "metadata": {
        "id": "tQMQPM9um_bn"
      }
    },
    {
      "cell_type": "code",
      "source": [
        "from sklearn.ensemble import RandomForestClassifier\n",
        "from sklearn.datasets import make_classification"
      ],
      "metadata": {
        "id": "XpjgNRRwnBl_"
      },
      "execution_count": null,
      "outputs": []
    },
    {
      "cell_type": "code",
      "source": [
        "rdf = RandomForestClassifier(max_depth=2, random_state=0)"
      ],
      "metadata": {
        "id": "feoQAUa6nLht"
      },
      "execution_count": null,
      "outputs": []
    },
    {
      "cell_type": "code",
      "source": [
        "rdf.fit(train_X_dum_scale, train_Y)\n",
        "y_pred_rdf = rdf.predict(test_X_dum_scale)"
      ],
      "metadata": {
        "id": "1KM1faSQnPNH"
      },
      "execution_count": null,
      "outputs": []
    },
    {
      "cell_type": "code",
      "source": [
        "print(\"Accuracy:\",metrics.accuracy_score(test_Y, y_pred_ada))\n"
      ],
      "metadata": {
        "colab": {
          "base_uri": "https://localhost:8080/"
        },
        "id": "RTjzYOVbnTfs",
        "outputId": "3ea16457-6ddc-48d8-e232-74d66c3fcb8c"
      },
      "execution_count": null,
      "outputs": [
        {
          "output_type": "stream",
          "name": "stdout",
          "text": [
            "Accuracy: 0.8942598187311178\n"
          ]
        }
      ]
    },
    {
      "cell_type": "code",
      "source": [
        "rdf.predict_proba(test_X_dum_scale)[:10]"
      ],
      "metadata": {
        "colab": {
          "base_uri": "https://localhost:8080/"
        },
        "id": "KtjVfeEnnd_k",
        "outputId": "8a955124-c2a0-447e-ec15-f72d7af8971c"
      },
      "execution_count": null,
      "outputs": [
        {
          "output_type": "execute_result",
          "data": {
            "text/plain": [
              "array([[0.81619636, 0.18380364],\n",
              "       [0.47693326, 0.52306674],\n",
              "       [0.78451001, 0.21548999],\n",
              "       [0.81727816, 0.18272184],\n",
              "       [0.43329436, 0.56670564],\n",
              "       [0.81389219, 0.18610781],\n",
              "       [0.47487296, 0.52512704],\n",
              "       [0.72122281, 0.27877719],\n",
              "       [0.43660871, 0.56339129],\n",
              "       [0.79217028, 0.20782972]])"
            ]
          },
          "metadata": {},
          "execution_count": 267
        }
      ]
    },
    {
      "cell_type": "code",
      "source": [
        "rdf.feature_importances_"
      ],
      "metadata": {
        "colab": {
          "base_uri": "https://localhost:8080/"
        },
        "id": "Ph3bv0FxpPDd",
        "outputId": "c8beb8ee-089d-4387-fe4e-2d05509d5e47"
      },
      "execution_count": null,
      "outputs": [
        {
          "output_type": "execute_result",
          "data": {
            "text/plain": [
              "array([0.14446725, 0.03434812, 0.00949961, 0.01672763, 0.10496907,\n",
              "       0.30869195, 0.34939103, 0.02766314, 0.00089364, 0.00334857])"
            ]
          },
          "metadata": {},
          "execution_count": 148
        }
      ]
    },
    {
      "cell_type": "code",
      "source": [
        "importance = rdf.feature_importances_\n",
        "i = 0\n",
        "\n",
        "while i < len(test_X_dum.columns):\n",
        "  print(\"L'importance relative de \",test_X_dum.columns[i],'est de ', round(importance[i]*100, 2), '%')\n",
        "  i += 1"
      ],
      "metadata": {
        "colab": {
          "base_uri": "https://localhost:8080/"
        },
        "id": "J3fSEHkypgXH",
        "outputId": "a771bf4b-b47d-4650-a1e9-52a655c25fb6"
      },
      "execution_count": null,
      "outputs": [
        {
          "output_type": "stream",
          "name": "stdout",
          "text": [
            "L'importance relative de  Pclass est de  14.45 %\n",
            "L'importance relative de  Age est de  3.43 %\n",
            "L'importance relative de  SibSp est de  0.95 %\n",
            "L'importance relative de  Parch est de  1.67 %\n",
            "L'importance relative de  Fare est de  10.5 %\n",
            "L'importance relative de  Sex_female est de  30.87 %\n",
            "L'importance relative de  Sex_male est de  34.94 %\n",
            "L'importance relative de  Embarked_C est de  2.77 %\n",
            "L'importance relative de  Embarked_Q est de  0.09 %\n",
            "L'importance relative de  Embarked_S est de  0.33 %\n"
          ]
        }
      ]
    },
    {
      "cell_type": "code",
      "source": [],
      "metadata": {
        "id": "JETvyBwfpwNG"
      },
      "execution_count": null,
      "outputs": []
    },
    {
      "cell_type": "markdown",
      "source": [
        "####SVC"
      ],
      "metadata": {
        "id": "UVc5YHcprLhp"
      }
    },
    {
      "cell_type": "code",
      "source": [
        "from sklearn.svm import SVC"
      ],
      "metadata": {
        "id": "abz2JviCrNDc"
      },
      "execution_count": null,
      "outputs": []
    },
    {
      "cell_type": "code",
      "source": [
        "clf_SVC = SVC(gamma='auto')\n",
        "clf_SVC.fit(train_X_dum_scale, train_Y)\n",
        "y_pred_SVC = clf_SVC.predict(test_X_dum_scale)"
      ],
      "metadata": {
        "id": "A4hzPDQ1rTk7"
      },
      "execution_count": null,
      "outputs": []
    },
    {
      "cell_type": "code",
      "source": [
        "print(\"Accuracy:\",metrics.accuracy_score(test_Y, y_pred_SVC))\n"
      ],
      "metadata": {
        "colab": {
          "base_uri": "https://localhost:8080/"
        },
        "id": "YyGDSxWqrhiy",
        "outputId": "aba85193-85a4-4c87-b936-eeb3b0036d63"
      },
      "execution_count": null,
      "outputs": [
        {
          "output_type": "stream",
          "name": "stdout",
          "text": [
            "Accuracy: 0.9365558912386707\n"
          ]
        }
      ]
    },
    {
      "cell_type": "markdown",
      "source": [
        "####Tensorflow - deep learning"
      ],
      "metadata": {
        "id": "SZQQVvu4t_vF"
      }
    },
    {
      "cell_type": "code",
      "source": [
        "import tensorflow as tf\n",
        "tf.random.set_seed(42)"
      ],
      "metadata": {
        "id": "9GLBUN_guG_O"
      },
      "execution_count": null,
      "outputs": []
    },
    {
      "cell_type": "code",
      "source": [
        "\n",
        "model = tf.keras.Sequential([\n",
        "    tf.keras.layers.Dense(128, activation='relu'),\n",
        "    tf.keras.layers.Dense(256, activation='relu'),\n",
        "    tf.keras.layers.Dense(256, activation='relu'),\n",
        "    tf.keras.layers.Dense(1, activation='sigmoid')\n",
        "])\n"
      ],
      "metadata": {
        "id": "JCMLea6guN6n"
      },
      "execution_count": null,
      "outputs": []
    },
    {
      "cell_type": "code",
      "source": [
        "model.compile(\n",
        "    loss=tf.keras.losses.binary_crossentropy,\n",
        "    optimizer=tf.keras.optimizers.Adam(lr=0.003),\n",
        "    metrics=[\n",
        "        tf.keras.metrics.BinaryAccuracy(name='accuracy'),\n",
        "        tf.keras.metrics.Precision(name='precision'),\n",
        "        tf.keras.metrics.Recall(name='recall')\n",
        "    ]\n",
        ")\n",
        "\n",
        "n_epoch = 200\n",
        "history = model.fit(train_X_dum_scale, train_Y, epochs=n_epoch)"
      ],
      "metadata": {
        "colab": {
          "base_uri": "https://localhost:8080/"
        },
        "id": "odkoNSJvuMOm",
        "outputId": "54af842a-529d-4b40-f35c-f940cb65e849"
      },
      "execution_count": null,
      "outputs": [
        {
          "output_type": "stream",
          "name": "stdout",
          "text": [
            "Epoch 1/200\n"
          ]
        },
        {
          "output_type": "stream",
          "name": "stderr",
          "text": [
            "/usr/local/lib/python3.7/dist-packages/keras/optimizers/optimizer_v2/adam.py:110: UserWarning: The `lr` argument is deprecated, use `learning_rate` instead.\n",
            "  super(Adam, self).__init__(name, **kwargs)\n"
          ]
        },
        {
          "output_type": "stream",
          "name": "stdout",
          "text": [
            "23/23 [==============================] - 2s 12ms/step - loss: 0.2680 - accuracy: 0.8848 - precision: 0.9221 - recall: 0.7812\n",
            "Epoch 2/200\n",
            "23/23 [==============================] - 0s 9ms/step - loss: 0.2318 - accuracy: 0.8933 - precision: 0.8985 - recall: 0.8299\n",
            "Epoch 3/200\n",
            "23/23 [==============================] - 0s 9ms/step - loss: 0.2354 - accuracy: 0.8947 - precision: 0.9209 - recall: 0.8090\n",
            "Epoch 4/200\n",
            "23/23 [==============================] - 0s 8ms/step - loss: 0.2483 - accuracy: 0.8904 - precision: 0.9134 - recall: 0.8056\n",
            "Epoch 5/200\n",
            "23/23 [==============================] - 0s 6ms/step - loss: 0.2361 - accuracy: 0.9059 - precision: 0.9234 - recall: 0.8368\n",
            "Epoch 6/200\n",
            "23/23 [==============================] - 0s 5ms/step - loss: 0.2366 - accuracy: 0.8919 - precision: 0.8922 - recall: 0.8333\n",
            "Epoch 7/200\n",
            "23/23 [==============================] - 0s 5ms/step - loss: 0.2216 - accuracy: 0.9003 - precision: 0.9157 - recall: 0.8299\n",
            "Epoch 8/200\n",
            "23/23 [==============================] - 0s 5ms/step - loss: 0.2362 - accuracy: 0.8848 - precision: 0.9087 - recall: 0.7951\n",
            "Epoch 9/200\n",
            "23/23 [==============================] - 0s 4ms/step - loss: 0.2493 - accuracy: 0.8904 - precision: 0.8832 - recall: 0.8403\n",
            "Epoch 10/200\n",
            "23/23 [==============================] - 0s 5ms/step - loss: 0.2375 - accuracy: 0.8989 - precision: 0.9091 - recall: 0.8333\n",
            "Epoch 11/200\n",
            "23/23 [==============================] - 0s 5ms/step - loss: 0.2264 - accuracy: 0.8961 - precision: 0.9023 - recall: 0.8333\n",
            "Epoch 12/200\n",
            "23/23 [==============================] - 0s 6ms/step - loss: 0.2195 - accuracy: 0.9017 - precision: 0.9007 - recall: 0.8507\n",
            "Epoch 13/200\n",
            "23/23 [==============================] - 0s 5ms/step - loss: 0.2105 - accuracy: 0.9059 - precision: 0.9018 - recall: 0.8611\n",
            "Epoch 14/200\n",
            "23/23 [==============================] - 0s 5ms/step - loss: 0.2089 - accuracy: 0.9017 - precision: 0.9037 - recall: 0.8472\n",
            "Epoch 15/200\n",
            "23/23 [==============================] - 0s 5ms/step - loss: 0.2247 - accuracy: 0.8975 - precision: 0.9057 - recall: 0.8333\n",
            "Epoch 16/200\n",
            "23/23 [==============================] - 0s 5ms/step - loss: 0.2454 - accuracy: 0.8834 - precision: 0.8810 - recall: 0.8229\n",
            "Epoch 17/200\n",
            "23/23 [==============================] - 0s 5ms/step - loss: 0.2418 - accuracy: 0.8904 - precision: 0.8777 - recall: 0.8472\n",
            "Epoch 18/200\n",
            "23/23 [==============================] - 0s 5ms/step - loss: 0.2466 - accuracy: 0.8848 - precision: 0.8931 - recall: 0.8125\n",
            "Epoch 19/200\n",
            "23/23 [==============================] - 0s 5ms/step - loss: 0.2384 - accuracy: 0.8947 - precision: 0.8817 - recall: 0.8542\n",
            "Epoch 20/200\n",
            "23/23 [==============================] - 0s 5ms/step - loss: 0.2249 - accuracy: 0.8975 - precision: 0.9087 - recall: 0.8299\n",
            "Epoch 21/200\n",
            "23/23 [==============================] - 0s 5ms/step - loss: 0.2222 - accuracy: 0.8989 - precision: 0.9030 - recall: 0.8403\n",
            "Epoch 22/200\n",
            "23/23 [==============================] - 0s 5ms/step - loss: 0.2224 - accuracy: 0.9031 - precision: 0.9041 - recall: 0.8507\n",
            "Epoch 23/200\n",
            "23/23 [==============================] - 0s 4ms/step - loss: 0.2129 - accuracy: 0.9031 - precision: 0.9011 - recall: 0.8542\n",
            "Epoch 24/200\n",
            "23/23 [==============================] - 0s 5ms/step - loss: 0.2277 - accuracy: 0.9003 - precision: 0.9064 - recall: 0.8403\n",
            "Epoch 25/200\n",
            "23/23 [==============================] - 0s 5ms/step - loss: 0.2147 - accuracy: 0.8975 - precision: 0.8996 - recall: 0.8403\n",
            "Epoch 26/200\n",
            "23/23 [==============================] - 0s 4ms/step - loss: 0.2088 - accuracy: 0.8989 - precision: 0.9122 - recall: 0.8299\n",
            "Epoch 27/200\n",
            "23/23 [==============================] - 0s 5ms/step - loss: 0.2110 - accuracy: 0.9017 - precision: 0.8893 - recall: 0.8646\n",
            "Epoch 28/200\n",
            "23/23 [==============================] - 0s 4ms/step - loss: 0.2138 - accuracy: 0.9059 - precision: 0.9234 - recall: 0.8368\n",
            "Epoch 29/200\n",
            "23/23 [==============================] - 0s 5ms/step - loss: 0.2227 - accuracy: 0.8989 - precision: 0.8857 - recall: 0.8611\n",
            "Epoch 30/200\n",
            "23/23 [==============================] - 0s 5ms/step - loss: 0.2109 - accuracy: 0.9045 - precision: 0.9264 - recall: 0.8299\n",
            "Epoch 31/200\n",
            "23/23 [==============================] - 0s 5ms/step - loss: 0.2041 - accuracy: 0.9087 - precision: 0.9240 - recall: 0.8438\n",
            "Epoch 32/200\n",
            "23/23 [==============================] - 0s 5ms/step - loss: 0.2176 - accuracy: 0.9059 - precision: 0.8961 - recall: 0.8681\n",
            "Epoch 33/200\n",
            "23/23 [==============================] - 0s 5ms/step - loss: 0.2137 - accuracy: 0.9045 - precision: 0.9104 - recall: 0.8472\n",
            "Epoch 34/200\n",
            "23/23 [==============================] - 0s 5ms/step - loss: 0.2051 - accuracy: 0.9073 - precision: 0.9173 - recall: 0.8472\n",
            "Epoch 35/200\n",
            "23/23 [==============================] - 0s 5ms/step - loss: 0.2059 - accuracy: 0.9073 - precision: 0.9173 - recall: 0.8472\n",
            "Epoch 36/200\n",
            "23/23 [==============================] - 0s 5ms/step - loss: 0.2165 - accuracy: 0.9073 - precision: 0.9081 - recall: 0.8576\n",
            "Epoch 37/200\n",
            "23/23 [==============================] - 0s 4ms/step - loss: 0.2115 - accuracy: 0.9017 - precision: 0.9129 - recall: 0.8368\n",
            "Epoch 38/200\n",
            "23/23 [==============================] - 0s 6ms/step - loss: 0.2268 - accuracy: 0.9073 - precision: 0.9081 - recall: 0.8576\n",
            "Epoch 39/200\n",
            "23/23 [==============================] - 0s 5ms/step - loss: 0.2113 - accuracy: 0.9059 - precision: 0.8989 - recall: 0.8646\n",
            "Epoch 40/200\n",
            "23/23 [==============================] - 0s 6ms/step - loss: 0.2118 - accuracy: 0.8961 - precision: 0.8963 - recall: 0.8403\n",
            "Epoch 41/200\n",
            "23/23 [==============================] - 0s 5ms/step - loss: 0.2285 - accuracy: 0.8975 - precision: 0.8938 - recall: 0.8472\n",
            "Epoch 42/200\n",
            "23/23 [==============================] - 0s 5ms/step - loss: 0.2107 - accuracy: 0.8975 - precision: 0.9026 - recall: 0.8368\n",
            "Epoch 43/200\n",
            "23/23 [==============================] - 0s 5ms/step - loss: 0.2127 - accuracy: 0.9087 - precision: 0.9025 - recall: 0.8681\n",
            "Epoch 44/200\n",
            "23/23 [==============================] - 0s 4ms/step - loss: 0.2127 - accuracy: 0.9031 - precision: 0.9041 - recall: 0.8507\n",
            "Epoch 45/200\n",
            "23/23 [==============================] - 0s 5ms/step - loss: 0.2125 - accuracy: 0.9003 - precision: 0.9125 - recall: 0.8333\n",
            "Epoch 46/200\n",
            "23/23 [==============================] - 0s 5ms/step - loss: 0.2044 - accuracy: 0.9101 - precision: 0.9148 - recall: 0.8576\n",
            "Epoch 47/200\n",
            "23/23 [==============================] - 0s 4ms/step - loss: 0.2098 - accuracy: 0.9031 - precision: 0.9163 - recall: 0.8368\n",
            "Epoch 48/200\n",
            "23/23 [==============================] - 0s 5ms/step - loss: 0.2142 - accuracy: 0.9017 - precision: 0.9007 - recall: 0.8507\n",
            "Epoch 49/200\n",
            "23/23 [==============================] - 0s 4ms/step - loss: 0.2126 - accuracy: 0.9017 - precision: 0.8978 - recall: 0.8542\n",
            "Epoch 50/200\n",
            "23/23 [==============================] - 0s 4ms/step - loss: 0.2187 - accuracy: 0.9017 - precision: 0.9067 - recall: 0.8438\n",
            "Epoch 51/200\n",
            "23/23 [==============================] - 0s 5ms/step - loss: 0.3051 - accuracy: 0.8961 - precision: 0.9315 - recall: 0.8021\n",
            "Epoch 52/200\n",
            "23/23 [==============================] - 0s 5ms/step - loss: 0.2224 - accuracy: 0.8975 - precision: 0.9352 - recall: 0.8021\n",
            "Epoch 53/200\n",
            "23/23 [==============================] - 0s 5ms/step - loss: 0.2192 - accuracy: 0.9031 - precision: 0.9195 - recall: 0.8333\n",
            "Epoch 54/200\n",
            "23/23 [==============================] - 0s 5ms/step - loss: 0.2100 - accuracy: 0.9101 - precision: 0.9148 - recall: 0.8576\n",
            "Epoch 55/200\n",
            "23/23 [==============================] - 0s 5ms/step - loss: 0.2037 - accuracy: 0.9073 - precision: 0.9370 - recall: 0.8264\n",
            "Epoch 56/200\n",
            "23/23 [==============================] - 0s 5ms/step - loss: 0.2005 - accuracy: 0.9115 - precision: 0.9213 - recall: 0.8542\n",
            "Epoch 57/200\n",
            "23/23 [==============================] - 0s 5ms/step - loss: 0.2084 - accuracy: 0.9087 - precision: 0.9176 - recall: 0.8507\n",
            "Epoch 58/200\n",
            "23/23 [==============================] - 0s 5ms/step - loss: 0.1990 - accuracy: 0.9143 - precision: 0.9158 - recall: 0.8681\n",
            "Epoch 59/200\n",
            "23/23 [==============================] - 0s 4ms/step - loss: 0.2059 - accuracy: 0.9059 - precision: 0.9266 - recall: 0.8333\n",
            "Epoch 60/200\n",
            "23/23 [==============================] - 0s 5ms/step - loss: 0.2162 - accuracy: 0.9059 - precision: 0.9077 - recall: 0.8542\n",
            "Epoch 61/200\n",
            "23/23 [==============================] - 0s 4ms/step - loss: 0.2155 - accuracy: 0.8989 - precision: 0.9000 - recall: 0.8438\n",
            "Epoch 62/200\n",
            "23/23 [==============================] - 0s 5ms/step - loss: 0.2150 - accuracy: 0.9031 - precision: 0.9163 - recall: 0.8368\n",
            "Epoch 63/200\n",
            "23/23 [==============================] - 0s 5ms/step - loss: 0.2244 - accuracy: 0.9101 - precision: 0.9000 - recall: 0.8750\n",
            "Epoch 64/200\n",
            "23/23 [==============================] - 0s 4ms/step - loss: 0.1966 - accuracy: 0.9129 - precision: 0.9154 - recall: 0.8646\n",
            "Epoch 65/200\n",
            "23/23 [==============================] - 0s 5ms/step - loss: 0.1996 - accuracy: 0.9129 - precision: 0.9280 - recall: 0.8507\n",
            "Epoch 66/200\n",
            "23/23 [==============================] - 0s 5ms/step - loss: 0.2049 - accuracy: 0.9073 - precision: 0.9081 - recall: 0.8576\n",
            "Epoch 67/200\n",
            "23/23 [==============================] - 0s 5ms/step - loss: 0.2059 - accuracy: 0.9031 - precision: 0.8982 - recall: 0.8576\n",
            "Epoch 68/200\n",
            "23/23 [==============================] - 0s 5ms/step - loss: 0.1934 - accuracy: 0.9185 - precision: 0.9291 - recall: 0.8646\n",
            "Epoch 69/200\n",
            "23/23 [==============================] - 0s 4ms/step - loss: 0.1886 - accuracy: 0.9143 - precision: 0.9188 - recall: 0.8646\n",
            "Epoch 70/200\n",
            "23/23 [==============================] - 0s 5ms/step - loss: 0.2052 - accuracy: 0.9087 - precision: 0.9025 - recall: 0.8681\n",
            "Epoch 71/200\n",
            "23/23 [==============================] - 0s 5ms/step - loss: 0.2136 - accuracy: 0.9073 - precision: 0.9022 - recall: 0.8646\n",
            "Epoch 72/200\n",
            "23/23 [==============================] - 0s 5ms/step - loss: 0.2113 - accuracy: 0.9171 - precision: 0.9354 - recall: 0.8542\n",
            "Epoch 73/200\n",
            "23/23 [==============================] - 0s 5ms/step - loss: 0.2322 - accuracy: 0.8961 - precision: 0.9023 - recall: 0.8333\n",
            "Epoch 74/200\n",
            "23/23 [==============================] - 0s 5ms/step - loss: 0.2167 - accuracy: 0.8989 - precision: 0.9091 - recall: 0.8333\n",
            "Epoch 75/200\n",
            "23/23 [==============================] - 0s 5ms/step - loss: 0.2455 - accuracy: 0.8919 - precision: 0.8922 - recall: 0.8333\n",
            "Epoch 76/200\n",
            "23/23 [==============================] - 0s 5ms/step - loss: 0.2212 - accuracy: 0.8989 - precision: 0.8971 - recall: 0.8472\n",
            "Epoch 77/200\n",
            "23/23 [==============================] - 0s 4ms/step - loss: 0.2014 - accuracy: 0.9073 - precision: 0.9081 - recall: 0.8576\n",
            "Epoch 78/200\n",
            "23/23 [==============================] - 0s 4ms/step - loss: 0.1953 - accuracy: 0.9115 - precision: 0.9245 - recall: 0.8507\n",
            "Epoch 79/200\n",
            "23/23 [==============================] - 0s 5ms/step - loss: 0.1955 - accuracy: 0.9087 - precision: 0.9084 - recall: 0.8611\n",
            "Epoch 80/200\n",
            "23/23 [==============================] - 0s 5ms/step - loss: 0.1961 - accuracy: 0.9101 - precision: 0.9211 - recall: 0.8507\n",
            "Epoch 81/200\n",
            "23/23 [==============================] - 0s 5ms/step - loss: 0.1952 - accuracy: 0.9143 - precision: 0.9158 - recall: 0.8681\n",
            "Epoch 82/200\n",
            "23/23 [==============================] - 0s 4ms/step - loss: 0.2107 - accuracy: 0.9003 - precision: 0.8945 - recall: 0.8542\n",
            "Epoch 83/200\n",
            "23/23 [==============================] - 0s 4ms/step - loss: 0.2102 - accuracy: 0.9073 - precision: 0.9111 - recall: 0.8542\n",
            "Epoch 84/200\n",
            "23/23 [==============================] - 0s 5ms/step - loss: 0.2030 - accuracy: 0.9087 - precision: 0.9208 - recall: 0.8472\n",
            "Epoch 85/200\n",
            "23/23 [==============================] - 0s 4ms/step - loss: 0.1876 - accuracy: 0.9129 - precision: 0.9280 - recall: 0.8507\n",
            "Epoch 86/200\n",
            "23/23 [==============================] - 0s 5ms/step - loss: 0.1890 - accuracy: 0.9115 - precision: 0.9482 - recall: 0.8264\n",
            "Epoch 87/200\n",
            "23/23 [==============================] - 0s 5ms/step - loss: 0.1853 - accuracy: 0.9073 - precision: 0.9205 - recall: 0.8438\n",
            "Epoch 88/200\n",
            "23/23 [==============================] - 0s 6ms/step - loss: 0.1973 - accuracy: 0.9087 - precision: 0.9145 - recall: 0.8542\n",
            "Epoch 89/200\n",
            "23/23 [==============================] - 0s 5ms/step - loss: 0.1987 - accuracy: 0.9059 - precision: 0.8932 - recall: 0.8715\n",
            "Epoch 90/200\n",
            "23/23 [==============================] - 0s 5ms/step - loss: 0.1904 - accuracy: 0.9101 - precision: 0.9275 - recall: 0.8438\n",
            "Epoch 91/200\n",
            "23/23 [==============================] - 0s 4ms/step - loss: 0.1956 - accuracy: 0.9129 - precision: 0.9124 - recall: 0.8681\n",
            "Epoch 92/200\n",
            "23/23 [==============================] - 0s 4ms/step - loss: 0.1803 - accuracy: 0.9171 - precision: 0.9321 - recall: 0.8576\n",
            "Epoch 93/200\n",
            "23/23 [==============================] - 0s 5ms/step - loss: 0.1844 - accuracy: 0.9171 - precision: 0.9321 - recall: 0.8576\n",
            "Epoch 94/200\n",
            "23/23 [==============================] - 0s 4ms/step - loss: 0.1797 - accuracy: 0.9185 - precision: 0.9259 - recall: 0.8681\n",
            "Epoch 95/200\n",
            "23/23 [==============================] - 0s 4ms/step - loss: 0.1924 - accuracy: 0.9115 - precision: 0.9151 - recall: 0.8611\n",
            "Epoch 96/200\n",
            "23/23 [==============================] - 0s 5ms/step - loss: 0.1893 - accuracy: 0.9101 - precision: 0.9409 - recall: 0.8299\n",
            "Epoch 97/200\n",
            "23/23 [==============================] - 0s 5ms/step - loss: 0.1893 - accuracy: 0.9101 - precision: 0.9029 - recall: 0.8715\n",
            "Epoch 98/200\n",
            "23/23 [==============================] - 0s 5ms/step - loss: 0.1993 - accuracy: 0.9143 - precision: 0.9127 - recall: 0.8715\n",
            "Epoch 99/200\n",
            "23/23 [==============================] - 0s 4ms/step - loss: 0.2055 - accuracy: 0.9073 - precision: 0.9051 - recall: 0.8611\n",
            "Epoch 100/200\n",
            "23/23 [==============================] - 0s 5ms/step - loss: 0.2034 - accuracy: 0.9087 - precision: 0.9305 - recall: 0.8368\n",
            "Epoch 101/200\n",
            "23/23 [==============================] - 0s 5ms/step - loss: 0.2056 - accuracy: 0.9115 - precision: 0.9213 - recall: 0.8542\n",
            "Epoch 102/200\n",
            "23/23 [==============================] - 0s 6ms/step - loss: 0.1981 - accuracy: 0.9073 - precision: 0.9269 - recall: 0.8368\n",
            "Epoch 103/200\n",
            "23/23 [==============================] - 0s 5ms/step - loss: 0.2024 - accuracy: 0.9129 - precision: 0.9248 - recall: 0.8542\n",
            "Epoch 104/200\n",
            "23/23 [==============================] - 0s 5ms/step - loss: 0.2038 - accuracy: 0.9059 - precision: 0.8961 - recall: 0.8681\n",
            "Epoch 105/200\n",
            "23/23 [==============================] - 0s 6ms/step - loss: 0.2149 - accuracy: 0.9017 - precision: 0.8978 - recall: 0.8542\n",
            "Epoch 106/200\n",
            "23/23 [==============================] - 0s 5ms/step - loss: 0.1974 - accuracy: 0.9101 - precision: 0.9118 - recall: 0.8611\n",
            "Epoch 107/200\n",
            "23/23 [==============================] - 0s 5ms/step - loss: 0.1932 - accuracy: 0.9256 - precision: 0.9434 - recall: 0.8681\n",
            "Epoch 108/200\n",
            "23/23 [==============================] - 0s 5ms/step - loss: 0.2019 - accuracy: 0.9143 - precision: 0.9451 - recall: 0.8368\n",
            "Epoch 109/200\n",
            "23/23 [==============================] - 0s 5ms/step - loss: 0.1903 - accuracy: 0.9213 - precision: 0.9394 - recall: 0.8611\n",
            "Epoch 110/200\n",
            "23/23 [==============================] - 0s 5ms/step - loss: 0.1858 - accuracy: 0.9143 - precision: 0.9349 - recall: 0.8472\n",
            "Epoch 111/200\n",
            "23/23 [==============================] - 0s 5ms/step - loss: 0.1775 - accuracy: 0.9228 - precision: 0.9299 - recall: 0.8750\n",
            "Epoch 112/200\n",
            "23/23 [==============================] - 0s 5ms/step - loss: 0.1786 - accuracy: 0.9199 - precision: 0.9494 - recall: 0.8472\n",
            "Epoch 113/200\n",
            "23/23 [==============================] - 0s 6ms/step - loss: 0.1865 - accuracy: 0.9185 - precision: 0.9259 - recall: 0.8681\n",
            "Epoch 114/200\n",
            "23/23 [==============================] - 0s 5ms/step - loss: 0.1826 - accuracy: 0.9157 - precision: 0.9351 - recall: 0.8507\n",
            "Epoch 115/200\n",
            "23/23 [==============================] - 0s 7ms/step - loss: 0.1835 - accuracy: 0.9171 - precision: 0.9164 - recall: 0.8750\n",
            "Epoch 116/200\n",
            "23/23 [==============================] - 0s 8ms/step - loss: 0.1819 - accuracy: 0.9171 - precision: 0.9257 - recall: 0.8646\n",
            "Epoch 117/200\n",
            "23/23 [==============================] - 0s 7ms/step - loss: 0.1753 - accuracy: 0.9213 - precision: 0.9328 - recall: 0.8681\n",
            "Epoch 118/200\n",
            "23/23 [==============================] - 0s 8ms/step - loss: 0.2020 - accuracy: 0.9213 - precision: 0.9361 - recall: 0.8646\n",
            "Epoch 119/200\n",
            "23/23 [==============================] - 0s 8ms/step - loss: 0.2764 - accuracy: 0.9087 - precision: 0.9208 - recall: 0.8472\n",
            "Epoch 120/200\n",
            "23/23 [==============================] - 0s 7ms/step - loss: 0.2345 - accuracy: 0.9003 - precision: 0.9157 - recall: 0.8299\n",
            "Epoch 121/200\n",
            "23/23 [==============================] - 0s 7ms/step - loss: 0.2181 - accuracy: 0.9031 - precision: 0.9163 - recall: 0.8368\n",
            "Epoch 122/200\n",
            "23/23 [==============================] - 0s 7ms/step - loss: 0.1964 - accuracy: 0.9157 - precision: 0.9191 - recall: 0.8681\n",
            "Epoch 123/200\n",
            "23/23 [==============================] - 0s 8ms/step - loss: 0.1934 - accuracy: 0.9199 - precision: 0.9459 - recall: 0.8507\n",
            "Epoch 124/200\n",
            "23/23 [==============================] - 0s 7ms/step - loss: 0.2125 - accuracy: 0.9115 - precision: 0.9151 - recall: 0.8611\n",
            "Epoch 125/200\n",
            "23/23 [==============================] - 0s 8ms/step - loss: 0.2212 - accuracy: 0.9073 - precision: 0.9237 - recall: 0.8403\n",
            "Epoch 126/200\n",
            "23/23 [==============================] - 0s 8ms/step - loss: 0.2115 - accuracy: 0.9143 - precision: 0.9283 - recall: 0.8542\n",
            "Epoch 127/200\n",
            "23/23 [==============================] - 0s 8ms/step - loss: 0.1982 - accuracy: 0.9129 - precision: 0.9346 - recall: 0.8438\n",
            "Epoch 128/200\n",
            "23/23 [==============================] - 0s 7ms/step - loss: 0.1917 - accuracy: 0.9199 - precision: 0.9392 - recall: 0.8576\n",
            "Epoch 129/200\n",
            "23/23 [==============================] - 0s 7ms/step - loss: 0.1848 - accuracy: 0.9171 - precision: 0.9257 - recall: 0.8646\n",
            "Epoch 130/200\n",
            "23/23 [==============================] - 0s 9ms/step - loss: 0.1993 - accuracy: 0.9087 - precision: 0.9272 - recall: 0.8403\n",
            "Epoch 131/200\n",
            "23/23 [==============================] - 0s 8ms/step - loss: 0.1870 - accuracy: 0.9213 - precision: 0.9265 - recall: 0.8750\n",
            "Epoch 132/200\n",
            "23/23 [==============================] - 0s 8ms/step - loss: 0.1948 - accuracy: 0.9157 - precision: 0.9191 - recall: 0.8681\n",
            "Epoch 133/200\n",
            "23/23 [==============================] - 0s 6ms/step - loss: 0.1950 - accuracy: 0.9157 - precision: 0.9351 - recall: 0.8507\n",
            "Epoch 134/200\n",
            "23/23 [==============================] - 0s 5ms/step - loss: 0.1838 - accuracy: 0.9228 - precision: 0.9498 - recall: 0.8542\n",
            "Epoch 135/200\n",
            "23/23 [==============================] - 0s 4ms/step - loss: 0.1860 - accuracy: 0.9199 - precision: 0.9231 - recall: 0.8750\n",
            "Epoch 136/200\n",
            "23/23 [==============================] - 0s 5ms/step - loss: 0.1829 - accuracy: 0.9185 - precision: 0.9291 - recall: 0.8646\n",
            "Epoch 137/200\n",
            "23/23 [==============================] - 0s 5ms/step - loss: 0.1901 - accuracy: 0.9213 - precision: 0.9234 - recall: 0.8785\n",
            "Epoch 138/200\n",
            "23/23 [==============================] - 0s 6ms/step - loss: 0.2015 - accuracy: 0.9087 - precision: 0.9208 - recall: 0.8472\n",
            "Epoch 139/200\n",
            "23/23 [==============================] - 0s 5ms/step - loss: 0.1891 - accuracy: 0.9171 - precision: 0.9225 - recall: 0.8681\n",
            "Epoch 140/200\n",
            "23/23 [==============================] - 0s 4ms/step - loss: 0.1835 - accuracy: 0.9199 - precision: 0.9262 - recall: 0.8715\n",
            "Epoch 141/200\n",
            "23/23 [==============================] - 0s 5ms/step - loss: 0.1900 - accuracy: 0.9199 - precision: 0.9294 - recall: 0.8681\n",
            "Epoch 142/200\n",
            "23/23 [==============================] - 0s 5ms/step - loss: 0.1922 - accuracy: 0.9143 - precision: 0.9127 - recall: 0.8715\n",
            "Epoch 143/200\n",
            "23/23 [==============================] - 0s 6ms/step - loss: 0.1896 - accuracy: 0.9185 - precision: 0.9323 - recall: 0.8611\n",
            "Epoch 144/200\n",
            "23/23 [==============================] - 0s 5ms/step - loss: 0.2003 - accuracy: 0.9171 - precision: 0.9354 - recall: 0.8542\n",
            "Epoch 145/200\n",
            "23/23 [==============================] - 0s 5ms/step - loss: 0.1928 - accuracy: 0.9143 - precision: 0.9316 - recall: 0.8507\n",
            "Epoch 146/200\n",
            "23/23 [==============================] - 0s 5ms/step - loss: 0.1894 - accuracy: 0.9171 - precision: 0.9421 - recall: 0.8472\n",
            "Epoch 147/200\n",
            "23/23 [==============================] - 0s 5ms/step - loss: 0.1752 - accuracy: 0.9185 - precision: 0.9423 - recall: 0.8507\n",
            "Epoch 148/200\n",
            "23/23 [==============================] - 0s 5ms/step - loss: 0.1865 - accuracy: 0.9185 - precision: 0.9107 - recall: 0.8854\n",
            "Epoch 149/200\n",
            "23/23 [==============================] - 0s 5ms/step - loss: 0.1744 - accuracy: 0.9256 - precision: 0.9242 - recall: 0.8889\n",
            "Epoch 150/200\n",
            "23/23 [==============================] - 0s 5ms/step - loss: 0.1693 - accuracy: 0.9228 - precision: 0.9363 - recall: 0.8681\n",
            "Epoch 151/200\n",
            "23/23 [==============================] - 0s 5ms/step - loss: 0.1875 - accuracy: 0.9185 - precision: 0.9323 - recall: 0.8611\n",
            "Epoch 152/200\n",
            "23/23 [==============================] - 0s 6ms/step - loss: 0.1833 - accuracy: 0.9199 - precision: 0.9170 - recall: 0.8819\n",
            "Epoch 153/200\n",
            "23/23 [==============================] - 0s 5ms/step - loss: 0.1892 - accuracy: 0.9143 - precision: 0.9158 - recall: 0.8681\n",
            "Epoch 154/200\n",
            "23/23 [==============================] - 0s 5ms/step - loss: 0.2069 - accuracy: 0.9045 - precision: 0.9044 - recall: 0.8542\n",
            "Epoch 155/200\n",
            "23/23 [==============================] - 0s 5ms/step - loss: 0.1953 - accuracy: 0.9213 - precision: 0.9361 - recall: 0.8646\n",
            "Epoch 156/200\n",
            "23/23 [==============================] - 0s 5ms/step - loss: 0.1812 - accuracy: 0.9185 - precision: 0.9356 - recall: 0.8576\n",
            "Epoch 157/200\n",
            "23/23 [==============================] - 0s 5ms/step - loss: 0.1720 - accuracy: 0.9185 - precision: 0.9457 - recall: 0.8472\n",
            "Epoch 158/200\n",
            "23/23 [==============================] - 0s 6ms/step - loss: 0.1911 - accuracy: 0.9143 - precision: 0.9382 - recall: 0.8438\n",
            "Epoch 159/200\n",
            "23/23 [==============================] - 0s 6ms/step - loss: 0.1790 - accuracy: 0.9213 - precision: 0.9427 - recall: 0.8576\n",
            "Epoch 160/200\n",
            "23/23 [==============================] - 0s 5ms/step - loss: 0.1737 - accuracy: 0.9199 - precision: 0.9392 - recall: 0.8576\n",
            "Epoch 161/200\n",
            "23/23 [==============================] - 0s 5ms/step - loss: 0.1695 - accuracy: 0.9242 - precision: 0.9432 - recall: 0.8646\n",
            "Epoch 162/200\n",
            "23/23 [==============================] - 0s 5ms/step - loss: 0.1680 - accuracy: 0.9213 - precision: 0.9203 - recall: 0.8819\n",
            "Epoch 163/200\n",
            "23/23 [==============================] - 0s 5ms/step - loss: 0.1678 - accuracy: 0.9242 - precision: 0.9398 - recall: 0.8681\n",
            "Epoch 164/200\n",
            "23/23 [==============================] - 0s 5ms/step - loss: 0.1777 - accuracy: 0.9199 - precision: 0.9231 - recall: 0.8750\n",
            "Epoch 165/200\n",
            "23/23 [==============================] - 0s 5ms/step - loss: 0.1819 - accuracy: 0.9143 - precision: 0.9416 - recall: 0.8403\n",
            "Epoch 166/200\n",
            "23/23 [==============================] - 0s 5ms/step - loss: 0.1865 - accuracy: 0.9087 - precision: 0.9114 - recall: 0.8576\n",
            "Epoch 167/200\n",
            "23/23 [==============================] - 0s 4ms/step - loss: 0.1805 - accuracy: 0.9242 - precision: 0.9398 - recall: 0.8681\n",
            "Epoch 168/200\n",
            "23/23 [==============================] - 0s 5ms/step - loss: 0.1695 - accuracy: 0.9256 - precision: 0.9368 - recall: 0.8750\n",
            "Epoch 169/200\n",
            "23/23 [==============================] - 0s 5ms/step - loss: 0.1845 - accuracy: 0.9228 - precision: 0.9430 - recall: 0.8611\n",
            "Epoch 170/200\n",
            "23/23 [==============================] - 0s 5ms/step - loss: 0.1787 - accuracy: 0.9157 - precision: 0.9286 - recall: 0.8576\n",
            "Epoch 171/200\n",
            "23/23 [==============================] - 0s 5ms/step - loss: 0.1755 - accuracy: 0.9157 - precision: 0.9191 - recall: 0.8681\n",
            "Epoch 172/200\n",
            "23/23 [==============================] - 0s 5ms/step - loss: 0.1728 - accuracy: 0.9228 - precision: 0.9331 - recall: 0.8715\n",
            "Epoch 173/200\n",
            "23/23 [==============================] - 0s 4ms/step - loss: 0.1679 - accuracy: 0.9228 - precision: 0.9498 - recall: 0.8542\n",
            "Epoch 174/200\n",
            "23/23 [==============================] - 0s 5ms/step - loss: 0.1641 - accuracy: 0.9228 - precision: 0.9605 - recall: 0.8438\n",
            "Epoch 175/200\n",
            "23/23 [==============================] - 0s 5ms/step - loss: 0.1742 - accuracy: 0.9185 - precision: 0.9107 - recall: 0.8854\n",
            "Epoch 176/200\n",
            "23/23 [==============================] - 0s 5ms/step - loss: 0.1688 - accuracy: 0.9228 - precision: 0.9498 - recall: 0.8542\n",
            "Epoch 177/200\n",
            "23/23 [==============================] - 0s 5ms/step - loss: 0.1686 - accuracy: 0.9213 - precision: 0.9265 - recall: 0.8750\n",
            "Epoch 178/200\n",
            "23/23 [==============================] - 0s 5ms/step - loss: 0.1701 - accuracy: 0.9171 - precision: 0.9075 - recall: 0.8854\n",
            "Epoch 179/200\n",
            "23/23 [==============================] - 0s 5ms/step - loss: 0.1720 - accuracy: 0.9256 - precision: 0.9537 - recall: 0.8576\n",
            "Epoch 180/200\n",
            "23/23 [==============================] - 0s 5ms/step - loss: 0.2147 - accuracy: 0.9199 - precision: 0.9262 - recall: 0.8715\n",
            "Epoch 181/200\n",
            "23/23 [==============================] - 0s 5ms/step - loss: 0.2153 - accuracy: 0.9087 - precision: 0.9272 - recall: 0.8403\n",
            "Epoch 182/200\n",
            "23/23 [==============================] - 0s 5ms/step - loss: 0.2668 - accuracy: 0.8947 - precision: 0.9049 - recall: 0.8264\n",
            "Epoch 183/200\n",
            "23/23 [==============================] - 0s 4ms/step - loss: 0.2107 - accuracy: 0.9087 - precision: 0.9055 - recall: 0.8646\n",
            "Epoch 184/200\n",
            "23/23 [==============================] - 0s 5ms/step - loss: 0.1970 - accuracy: 0.9073 - precision: 0.9237 - recall: 0.8403\n",
            "Epoch 185/200\n",
            "23/23 [==============================] - 0s 5ms/step - loss: 0.1839 - accuracy: 0.9157 - precision: 0.9286 - recall: 0.8576\n",
            "Epoch 186/200\n",
            "23/23 [==============================] - 0s 5ms/step - loss: 0.1747 - accuracy: 0.9213 - precision: 0.9296 - recall: 0.8715\n",
            "Epoch 187/200\n",
            "23/23 [==============================] - 0s 5ms/step - loss: 0.1805 - accuracy: 0.9242 - precision: 0.9500 - recall: 0.8576\n",
            "Epoch 188/200\n",
            "23/23 [==============================] - 0s 5ms/step - loss: 0.1705 - accuracy: 0.9242 - precision: 0.9333 - recall: 0.8750\n",
            "Epoch 189/200\n",
            "23/23 [==============================] - 0s 5ms/step - loss: 0.1605 - accuracy: 0.9284 - precision: 0.9405 - recall: 0.8785\n",
            "Epoch 190/200\n",
            "23/23 [==============================] - 0s 5ms/step - loss: 0.1569 - accuracy: 0.9256 - precision: 0.9502 - recall: 0.8611\n",
            "Epoch 191/200\n",
            "23/23 [==============================] - 0s 4ms/step - loss: 0.1690 - accuracy: 0.9242 - precision: 0.9466 - recall: 0.8611\n",
            "Epoch 192/200\n",
            "23/23 [==============================] - 0s 5ms/step - loss: 0.1579 - accuracy: 0.9284 - precision: 0.9438 - recall: 0.8750\n",
            "Epoch 193/200\n",
            "23/23 [==============================] - 0s 4ms/step - loss: 0.1513 - accuracy: 0.9340 - precision: 0.9414 - recall: 0.8924\n",
            "Epoch 194/200\n",
            "23/23 [==============================] - 0s 5ms/step - loss: 0.1577 - accuracy: 0.9228 - precision: 0.9331 - recall: 0.8715\n",
            "Epoch 195/200\n",
            "23/23 [==============================] - 0s 5ms/step - loss: 0.1619 - accuracy: 0.9312 - precision: 0.9283 - recall: 0.8993\n",
            "Epoch 196/200\n",
            "23/23 [==============================] - 0s 5ms/step - loss: 0.1692 - accuracy: 0.9228 - precision: 0.9430 - recall: 0.8611\n",
            "Epoch 197/200\n",
            "23/23 [==============================] - 0s 6ms/step - loss: 0.1793 - accuracy: 0.9199 - precision: 0.9262 - recall: 0.8715\n",
            "Epoch 198/200\n",
            "23/23 [==============================] - 0s 5ms/step - loss: 0.1682 - accuracy: 0.9312 - precision: 0.9442 - recall: 0.8819\n",
            "Epoch 199/200\n",
            "23/23 [==============================] - 0s 5ms/step - loss: 0.1669 - accuracy: 0.9270 - precision: 0.9370 - recall: 0.8785\n",
            "Epoch 200/200\n",
            "23/23 [==============================] - 0s 4ms/step - loss: 0.1619 - accuracy: 0.9284 - precision: 0.9405 - recall: 0.8785\n"
          ]
        }
      ]
    },
    {
      "cell_type": "code",
      "source": [
        "plt.plot(\n",
        "    np.arange(1, n_epoch+1), \n",
        "    history.history['loss'], label='Loss'\n",
        ")\n",
        "plt.plot(\n",
        "    np.arange(1, n_epoch+1), \n",
        "    history.history['accuracy'], label='Accuracy'\n",
        ")\n",
        "plt.plot(\n",
        "    np.arange(1, n_epoch+1), \n",
        "    history.history['precision'], label='Precision'\n",
        ")\n",
        "plt.plot(\n",
        "    np.arange(1, n_epoch+1), \n",
        "    history.history['recall'], label='Recall'\n",
        ")\n",
        "plt.title('Evaluation metrics', size=20)\n",
        "plt.xlabel('Epoch', size=14)\n",
        "plt.legend();"
      ],
      "metadata": {
        "colab": {
          "base_uri": "https://localhost:8080/",
          "height": 522
        },
        "id": "uLT2fr1MvA7k",
        "outputId": "34b27395-1fd8-4c48-9d8b-749fdde6dad3"
      },
      "execution_count": null,
      "outputs": [
        {
          "output_type": "display_data",
          "data": {
            "text/plain": [
              "<Figure size 1296x576 with 1 Axes>"
            ],
            "image/png": "[encoded data removed]"
          },
          "metadata": {
            "needs_background": "light"
          }
        }
      ]
    },
    {
      "cell_type": "code",
      "source": [
        "predictions = model.predict(test_X_dum_scale)\n"
      ],
      "metadata": {
        "colab": {
          "base_uri": "https://localhost:8080/"
        },
        "id": "4673EGx9vBQh",
        "outputId": "d5eaf6a2-0570-41ea-9a30-750a6bd8de6b"
      },
      "execution_count": null,
      "outputs": [
        {
          "output_type": "stream",
          "name": "stdout",
          "text": [
            "11/11 [==============================] - 0s 2ms/step\n"
          ]
        }
      ]
    },
    {
      "cell_type": "code",
      "source": [
        "prediction_classes = [\n",
        "    1 if prob > 0.5 else 0 for prob in np.ravel(predictions)\n",
        "]\n"
      ],
      "metadata": {
        "id": "_uap2HSgvTFn"
      },
      "execution_count": null,
      "outputs": []
    },
    {
      "cell_type": "code",
      "source": [
        "from sklearn.metrics import confusion_matrix\n",
        "\n",
        "print(confusion_matrix(test_Y, prediction_classes))"
      ],
      "metadata": {
        "colab": {
          "base_uri": "https://localhost:8080/"
        },
        "id": "xr4iU7nPvX6_",
        "outputId": "cba83cd9-0bfe-4911-c7bc-8bc39b6810ac"
      },
      "execution_count": null,
      "outputs": [
        {
          "output_type": "stream",
          "name": "stdout",
          "text": [
            "[[168  36]\n",
            " [ 31  96]]\n"
          ]
        }
      ]
    },
    {
      "cell_type": "code",
      "source": [
        "from sklearn.metrics import accuracy_score, precision_score, recall_score\n",
        "\n",
        "print(f'Accuracy: {accuracy_score(test_Y, prediction_classes):.2f}')\n",
        "print(f'Precision: {precision_score(test_Y, prediction_classes):.2f}')\n",
        "print(f'Recall: {recall_score(test_Y, prediction_classes):.2f}')\n"
      ],
      "metadata": {
        "colab": {
          "base_uri": "https://localhost:8080/"
        },
        "id": "T9O-IiF9vdME",
        "outputId": "406881db-dd9e-42e0-d670-c96620ebf6f1"
      },
      "execution_count": null,
      "outputs": [
        {
          "output_type": "stream",
          "name": "stdout",
          "text": [
            "Accuracy: 0.80\n",
            "Precision: 0.73\n",
            "Recall: 0.76\n"
          ]
        }
      ]
    },
    {
      "cell_type": "code",
      "source": [],
      "metadata": {
        "id": "rj37E0hgvjl3"
      },
      "execution_count": null,
      "outputs": []
    }
  ]
}