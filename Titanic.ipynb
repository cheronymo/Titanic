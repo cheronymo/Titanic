{
  "nbformat": 4,
  "nbformat_minor": 0,
  "metadata": {
    "colab": {
      "provenance": [],
      "authorship_tag": "ABX9TyOZZtZa6A/PtDT/nu/NmT1L",
      "include_colab_link": true
    },
    "kernelspec": {
      "name": "python3",
      "display_name": "Python 3"
    },
    "language_info": {
      "name": "python"
    }
  },
  "cells": [
    {
      "cell_type": "markdown",
      "metadata": {
        "id": "view-in-github",
        "colab_type": "text"
      },
      "source": [
        "<a href=\"https://colab.research.google.com/github/cheronymo/Titanic/blob/main/Titanic.ipynb\" target=\"_parent\"><img src=\"https://colab.research.google.com/assets/colab-badge.svg\" alt=\"Open In Colab\"/></a>"
      ]
    },
    {
      "cell_type": "markdown",
      "source": [
        "#Titanic predictions"
      ],
      "metadata": {
        "id": "0Sodt8I3H_Ti"
      }
    },
    {
      "cell_type": "markdown",
      "source": [
        "Dans ce notebook, on va chercher à comprendre la tragédie du Titanic et comment se distribuent les voyageurs entre les survivants et les morts. \n",
        "Le jeu de données vient de kaggle : https://www.kaggle.com/competitions/titanic/overview.\n"
      ],
      "metadata": {
        "id": "ciDu3XJ8TW-g"
      }
    },
    {
      "cell_type": "markdown",
      "source": [
        "##Import packages"
      ],
      "metadata": {
        "id": "uYpUJrmIIEj6"
      }
    },
    {
      "cell_type": "markdown",
      "source": [
        "On importe les packages de bases sur python."
      ],
      "metadata": {
        "id": "WJfmibmaT1PY"
      }
    },
    {
      "cell_type": "code",
      "source": [
        "import pandas as pd\n",
        "import numpy as np\n",
        "import matplotlib.pyplot as plt\n",
        "import tensorflow as tf\n",
        "import seaborn as sns"
      ],
      "metadata": {
        "id": "6RhMYAqSILnj"
      },
      "execution_count": null,
      "outputs": []
    },
    {
      "cell_type": "markdown",
      "source": [
        "##Import Data & Exploration"
      ],
      "metadata": {
        "id": "gq97rEp9IEmm"
      }
    },
    {
      "cell_type": "markdown",
      "source": [
        "On va importer tous les jeux de données et voir ce qu'on peut faire avec."
      ],
      "metadata": {
        "id": "ciZsuBEQT56Y"
      }
    },
    {
      "cell_type": "markdown",
      "source": [
        "###Train"
      ],
      "metadata": {
        "id": "xDHI4_E3JAar"
      }
    },
    {
      "cell_type": "code",
      "source": [
        "train = pd.read_csv('train.csv', index_col = 0)\n",
        "train.head()"
      ],
      "metadata": {
        "colab": {
          "base_uri": "https://localhost:8080/",
          "height": 316
        },
        "id": "PD94Fg40I5tE",
        "outputId": "ae11c4b0-9483-4cb9-f45b-bee4d0627b01"
      },
      "execution_count": null,
      "outputs": [
        {
          "output_type": "execute_result",
          "data": {
            "text/plain": [
              "             Survived  Pclass  \\\n",
              "PassengerId                     \n",
              "1                   0       3   \n",
              "2                   1       1   \n",
              "3                   1       3   \n",
              "4                   1       1   \n",
              "5                   0       3   \n",
              "\n",
              "                                                          Name     Sex   Age  \\\n",
              "PassengerId                                                                    \n",
              "1                                      Braund, Mr. Owen Harris    male  22.0   \n",
              "2            Cumings, Mrs. John Bradley (Florence Briggs Th...  female  38.0   \n",
              "3                                       Heikkinen, Miss. Laina  female  26.0   \n",
              "4                 Futrelle, Mrs. Jacques Heath (Lily May Peel)  female  35.0   \n",
              "5                                     Allen, Mr. William Henry    male  35.0   \n",
              "\n",
              "             SibSp  Parch            Ticket     Fare Cabin Embarked  \n",
              "PassengerId                                                          \n",
              "1                1      0         A/5 21171   7.2500   NaN        S  \n",
              "2                1      0          PC 17599  71.2833   C85        C  \n",
              "3                0      0  STON/O2. 3101282   7.9250   NaN        S  \n",
              "4                1      0            113803  53.1000  C123        S  \n",
              "5                0      0            373450   8.0500   NaN        S  "
            ],
            "text/html": [
              "\n",
              "  <div id=\"df-0c6dc485-a17b-482c-a144-717fccbf4691\">\n",
              "    <div class=\"colab-df-container\">\n",
              "      <div>\n",
              "<style scoped>\n",
              "    .dataframe tbody tr th:only-of-type {\n",
              "        vertical-align: middle;\n",
              "    }\n",
              "\n",
              "    .dataframe tbody tr th {\n",
              "        vertical-align: top;\n",
              "    }\n",
              "\n",
              "    .dataframe thead th {\n",
              "        text-align: right;\n",
              "    }\n",
              "</style>\n",
              "<table border=\"1\" class=\"dataframe\">\n",
              "  <thead>\n",
              "    <tr style=\"text-align: right;\">\n",
              "      <th></th>\n",
              "      <th>Survived</th>\n",
              "      <th>Pclass</th>\n",
              "      <th>Name</th>\n",
              "      <th>Sex</th>\n",
              "      <th>Age</th>\n",
              "      <th>SibSp</th>\n",
              "      <th>Parch</th>\n",
              "      <th>Ticket</th>\n",
              "      <th>Fare</th>\n",
              "      <th>Cabin</th>\n",
              "      <th>Embarked</th>\n",
              "    </tr>\n",
              "    <tr>\n",
              "      <th>PassengerId</th>\n",
              "      <th></th>\n",
              "      <th></th>\n",
              "      <th></th>\n",
              "      <th></th>\n",
              "      <th></th>\n",
              "      <th></th>\n",
              "      <th></th>\n",
              "      <th></th>\n",
              "      <th></th>\n",
              "      <th></th>\n",
              "      <th></th>\n",
              "    </tr>\n",
              "  </thead>\n",
              "  <tbody>\n",
              "    <tr>\n",
              "      <th>1</th>\n",
              "      <td>0</td>\n",
              "      <td>3</td>\n",
              "      <td>Braund, Mr. Owen Harris</td>\n",
              "      <td>male</td>\n",
              "      <td>22.0</td>\n",
              "      <td>1</td>\n",
              "      <td>0</td>\n",
              "      <td>A/5 21171</td>\n",
              "      <td>7.2500</td>\n",
              "      <td>NaN</td>\n",
              "      <td>S</td>\n",
              "    </tr>\n",
              "    <tr>\n",
              "      <th>2</th>\n",
              "      <td>1</td>\n",
              "      <td>1</td>\n",
              "      <td>Cumings, Mrs. John Bradley (Florence Briggs Th...</td>\n",
              "      <td>female</td>\n",
              "      <td>38.0</td>\n",
              "      <td>1</td>\n",
              "      <td>0</td>\n",
              "      <td>PC 17599</td>\n",
              "      <td>71.2833</td>\n",
              "      <td>C85</td>\n",
              "      <td>C</td>\n",
              "    </tr>\n",
              "    <tr>\n",
              "      <th>3</th>\n",
              "      <td>1</td>\n",
              "      <td>3</td>\n",
              "      <td>Heikkinen, Miss. Laina</td>\n",
              "      <td>female</td>\n",
              "      <td>26.0</td>\n",
              "      <td>0</td>\n",
              "      <td>0</td>\n",
              "      <td>STON/O2. 3101282</td>\n",
              "      <td>7.9250</td>\n",
              "      <td>NaN</td>\n",
              "      <td>S</td>\n",
              "    </tr>\n",
              "    <tr>\n",
              "      <th>4</th>\n",
              "      <td>1</td>\n",
              "      <td>1</td>\n",
              "      <td>Futrelle, Mrs. Jacques Heath (Lily May Peel)</td>\n",
              "      <td>female</td>\n",
              "      <td>35.0</td>\n",
              "      <td>1</td>\n",
              "      <td>0</td>\n",
              "      <td>113803</td>\n",
              "      <td>53.1000</td>\n",
              "      <td>C123</td>\n",
              "      <td>S</td>\n",
              "    </tr>\n",
              "    <tr>\n",
              "      <th>5</th>\n",
              "      <td>0</td>\n",
              "      <td>3</td>\n",
              "      <td>Allen, Mr. William Henry</td>\n",
              "      <td>male</td>\n",
              "      <td>35.0</td>\n",
              "      <td>0</td>\n",
              "      <td>0</td>\n",
              "      <td>373450</td>\n",
              "      <td>8.0500</td>\n",
              "      <td>NaN</td>\n",
              "      <td>S</td>\n",
              "    </tr>\n",
              "  </tbody>\n",
              "</table>\n",
              "</div>\n",
              "      <button class=\"colab-df-convert\" onclick=\"convertToInteractive('df-0c6dc485-a17b-482c-a144-717fccbf4691')\"\n",
              "              title=\"Convert this dataframe to an interactive table.\"\n",
              "              style=\"display:none;\">\n",
              "        \n",
              "  <svg xmlns=\"http://www.w3.org/2000/svg\" height=\"24px\"viewBox=\"0 0 24 24\"\n",
              "       width=\"24px\">\n",
              "    <path d=\"M0 0h24v24H0V0z\" fill=\"none\"/>\n",
              "    <path d=\"M18.56 5.44l.94 2.06.94-2.06 2.06-.94-2.06-.94-.94-2.06-.94 2.06-2.06.94zm-11 1L8.5 8.5l.94-2.06 2.06-.94-2.06-.94L8.5 2.5l-.94 2.06-2.06.94zm10 10l.94 2.06.94-2.06 2.06-.94-2.06-.94-.94-2.06-.94 2.06-2.06.94z\"/><path d=\"M17.41 7.96l-1.37-1.37c-.4-.4-.92-.59-1.43-.59-.52 0-1.04.2-1.43.59L10.3 9.45l-7.72 7.72c-.78.78-.78 2.05 0 2.83L4 21.41c.39.39.9.59 1.41.59.51 0 1.02-.2 1.41-.59l7.78-7.78 2.81-2.81c.8-.78.8-2.07 0-2.86zM5.41 20L4 18.59l7.72-7.72 1.47 1.35L5.41 20z\"/>\n",
              "  </svg>\n",
              "      </button>\n",
              "      \n",
              "  <style>\n",
              "    .colab-df-container {\n",
              "      display:flex;\n",
              "      flex-wrap:wrap;\n",
              "      gap: 12px;\n",
              "    }\n",
              "\n",
              "    .colab-df-convert {\n",
              "      background-color: #E8F0FE;\n",
              "      border: none;\n",
              "      border-radius: 50%;\n",
              "      cursor: pointer;\n",
              "      display: none;\n",
              "      fill: #1967D2;\n",
              "      height: 32px;\n",
              "      padding: 0 0 0 0;\n",
              "      width: 32px;\n",
              "    }\n",
              "\n",
              "    .colab-df-convert:hover {\n",
              "      background-color: #E2EBFA;\n",
              "      box-shadow: 0px 1px 2px rgba(60, 64, 67, 0.3), 0px 1px 3px 1px rgba(60, 64, 67, 0.15);\n",
              "      fill: #174EA6;\n",
              "    }\n",
              "\n",
              "    [theme=dark] .colab-df-convert {\n",
              "      background-color: #3B4455;\n",
              "      fill: #D2E3FC;\n",
              "    }\n",
              "\n",
              "    [theme=dark] .colab-df-convert:hover {\n",
              "      background-color: #434B5C;\n",
              "      box-shadow: 0px 1px 3px 1px rgba(0, 0, 0, 0.15);\n",
              "      filter: drop-shadow(0px 1px 2px rgba(0, 0, 0, 0.3));\n",
              "      fill: #FFFFFF;\n",
              "    }\n",
              "  </style>\n",
              "\n",
              "      <script>\n",
              "        const buttonEl =\n",
              "          document.querySelector('#df-0c6dc485-a17b-482c-a144-717fccbf4691 button.colab-df-convert');\n",
              "        buttonEl.style.display =\n",
              "          google.colab.kernel.accessAllowed ? 'block' : 'none';\n",
              "\n",
              "        async function convertToInteractive(key) {\n",
              "          const element = document.querySelector('#df-0c6dc485-a17b-482c-a144-717fccbf4691');\n",
              "          const dataTable =\n",
              "            await google.colab.kernel.invokeFunction('convertToInteractive',\n",
              "                                                     [key], {});\n",
              "          if (!dataTable) return;\n",
              "\n",
              "          const docLinkHtml = 'Like what you see? Visit the ' +\n",
              "            '<a target=\"_blank\" href=https://colab.research.google.com/notebooks/data_table.ipynb>data table notebook</a>'\n",
              "            + ' to learn more about interactive tables.';\n",
              "          element.innerHTML = '';\n",
              "          dataTable['output_type'] = 'display_data';\n",
              "          await google.colab.output.renderOutput(dataTable, element);\n",
              "          const docLink = document.createElement('div');\n",
              "          docLink.innerHTML = docLinkHtml;\n",
              "          element.appendChild(docLink);\n",
              "        }\n",
              "      </script>\n",
              "    </div>\n",
              "  </div>\n",
              "  "
            ]
          },
          "metadata": {},
          "execution_count": 8
        }
      ]
    },
    {
      "cell_type": "markdown",
      "source": [
        "####Survivor proportion"
      ],
      "metadata": {
        "id": "Efln3meOKuHU"
      }
    },
    {
      "cell_type": "code",
      "source": [
        "sns.countplot(x=train[\"Survived\"]);\n"
      ],
      "metadata": {
        "colab": {
          "base_uri": "https://localhost:8080/",
          "height": 279
        },
        "id": "5IBAAqGQJY8Y",
        "outputId": "0783167c-dd8b-4fb0-d467-a87da807abf0"
      },
      "execution_count": null,
      "outputs": [
        {
          "output_type": "display_data",
          "data": {
            "text/plain": [
              "<Figure size 432x288 with 1 Axes>"
            ],
            "image/png": "[encoded data removed]"
          },
          "metadata": {
            "needs_background": "light"
          }
        }
      ]
    },
    {
      "cell_type": "markdown",
      "source": [
        "C'est à peu près equilibré on devrait pouvoir prédir la survie."
      ],
      "metadata": {
        "id": "po8e7TssMdjg"
      }
    },
    {
      "cell_type": "markdown",
      "source": [
        "####Exploration"
      ],
      "metadata": {
        "id": "hY6wT3GWK2Yq"
      }
    },
    {
      "cell_type": "code",
      "source": [
        "sns.countplot(x=train[\"Sex\"], hue=train[\"Survived\"]);\n"
      ],
      "metadata": {
        "colab": {
          "base_uri": "https://localhost:8080/",
          "height": 279
        },
        "id": "B79ybQJQK_Kc",
        "outputId": "2003ac63-a55b-401a-f97d-299ec2a7e033"
      },
      "execution_count": null,
      "outputs": [
        {
          "output_type": "display_data",
          "data": {
            "text/plain": [
              "<Figure size 432x288 with 1 Axes>"
            ],
            "image/png": "[encoded data removed]"
          },
          "metadata": {
            "needs_background": "light"
          }
        }
      ]
    },
    {
      "cell_type": "markdown",
      "source": [
        "Les hommes semblent mourir plus que les femmes\n"
      ],
      "metadata": {
        "id": "rK5HltIGMkeF"
      }
    },
    {
      "cell_type": "code",
      "source": [
        "sns.countplot(x=train[\"Pclass\"], hue=train[\"Survived\"]);\n"
      ],
      "metadata": {
        "colab": {
          "base_uri": "https://localhost:8080/",
          "height": 279
        },
        "id": "AyI0npGQLdG9",
        "outputId": "6ad03d8f-b99f-4042-b1e2-68a65233218a"
      },
      "execution_count": null,
      "outputs": [
        {
          "output_type": "display_data",
          "data": {
            "text/plain": [
              "<Figure size 432x288 with 1 Axes>"
            ],
            "image/png": "[encoded data removed]"
          },
          "metadata": {
            "needs_background": "light"
          }
        }
      ]
    },
    {
      "cell_type": "markdown",
      "source": [
        "Les 3eme classes semblent plus mourir"
      ],
      "metadata": {
        "id": "deEgnFH9MuYD"
      }
    },
    {
      "cell_type": "code",
      "source": [
        "print(\"L'age moyen des SURVIVANTS est de \", train[train[\"Survived\"]==1]['Age'].mean(), \"ans.\")"
      ],
      "metadata": {
        "colab": {
          "base_uri": "https://localhost:8080/"
        },
        "id": "m_9XtuOdLxnd",
        "outputId": "9d51f65b-fce7-48dc-cded-de76f446a737"
      },
      "execution_count": null,
      "outputs": [
        {
          "output_type": "stream",
          "name": "stdout",
          "text": [
            "L'age moyen des SURVIVANTS est de  28.343689655172415 ans.\n"
          ]
        }
      ]
    },
    {
      "cell_type": "code",
      "source": [
        "print(\"L'age moyen des MORTS est de \", train[train[\"Survived\"]==0]['Age'].mean(), \"ans.\")\n"
      ],
      "metadata": {
        "colab": {
          "base_uri": "https://localhost:8080/"
        },
        "id": "Y7IXxeVgNkze",
        "outputId": "47644894-bab8-4c47-c4ca-aaf899b0e215"
      },
      "execution_count": null,
      "outputs": [
        {
          "output_type": "stream",
          "name": "stdout",
          "text": [
            "L'age moyen des MORTS est de  30.62617924528302 ans.\n"
          ]
        }
      ]
    },
    {
      "cell_type": "markdown",
      "source": [
        "Les vieux sont plus mort"
      ],
      "metadata": {
        "id": "Ya_ljRl2Pwdz"
      }
    },
    {
      "cell_type": "code",
      "source": [
        "print(\"Le prix moyen des SURVIVANTS est de \", train[train[\"Survived\"]==1]['Fare'].mean(), \"$.\")"
      ],
      "metadata": {
        "colab": {
          "base_uri": "https://localhost:8080/"
        },
        "id": "FyEW7h3hPrpF",
        "outputId": "6aa7247d-1df5-40a1-d3f1-abe42968201a"
      },
      "execution_count": null,
      "outputs": [
        {
          "output_type": "stream",
          "name": "stdout",
          "text": [
            "Le prix moyen des SURVIVANTS est de  48.39540760233918 $.\n"
          ]
        }
      ]
    },
    {
      "cell_type": "code",
      "source": [
        "print(\"Le prix moyen des MORTS est de \", train[train[\"Survived\"]==0]['Fare'].mean(), \"$.\")"
      ],
      "metadata": {
        "colab": {
          "base_uri": "https://localhost:8080/"
        },
        "id": "OmnS9sZZP01d",
        "outputId": "87edbe14-aff7-4d39-b6fa-75d1912423b2"
      },
      "execution_count": null,
      "outputs": [
        {
          "output_type": "stream",
          "name": "stdout",
          "text": [
            "Le prix moyen des MORTS est de  22.117886885245902 $.\n"
          ]
        }
      ]
    },
    {
      "cell_type": "markdown",
      "source": [
        "Les pauvres sont plus mort"
      ],
      "metadata": {
        "id": "zv6bOPZRP4DL"
      }
    },
    {
      "cell_type": "code",
      "source": [
        "sns.countplot(x=train[\"Embarked\"], hue=train[\"Survived\"]);\n"
      ],
      "metadata": {
        "colab": {
          "base_uri": "https://localhost:8080/",
          "height": 279
        },
        "id": "0jYBp-lQP-QI",
        "outputId": "19aa2d6a-519d-47ae-e863-14fa4842af5f"
      },
      "execution_count": null,
      "outputs": [
        {
          "output_type": "display_data",
          "data": {
            "text/plain": [
              "<Figure size 432x288 with 1 Axes>"
            ],
            "image/png": "[encoded data removed]"
          },
          "metadata": {
            "needs_background": "light"
          }
        }
      ]
    },
    {
      "cell_type": "markdown",
      "source": [
        "###Test"
      ],
      "metadata": {
        "id": "dvAP07wmJCaV"
      }
    },
    {
      "cell_type": "code",
      "source": [
        "test = pd.read_csv('test.csv', index_col = 0)\n",
        "test.head()"
      ],
      "metadata": {
        "colab": {
          "base_uri": "https://localhost:8080/",
          "height": 238
        },
        "id": "cDInt7D7Ilfk",
        "outputId": "d567729a-0170-4d5c-dc3d-3d0b6251d307"
      },
      "execution_count": null,
      "outputs": [
        {
          "output_type": "execute_result",
          "data": {
            "text/plain": [
              "             Pclass                                          Name     Sex  \\\n",
              "PassengerId                                                                 \n",
              "892               3                              Kelly, Mr. James    male   \n",
              "893               3              Wilkes, Mrs. James (Ellen Needs)  female   \n",
              "894               2                     Myles, Mr. Thomas Francis    male   \n",
              "895               3                              Wirz, Mr. Albert    male   \n",
              "896               3  Hirvonen, Mrs. Alexander (Helga E Lindqvist)  female   \n",
              "\n",
              "              Age  SibSp  Parch   Ticket     Fare Cabin Embarked  \n",
              "PassengerId                                                       \n",
              "892          34.5      0      0   330911   7.8292   NaN        Q  \n",
              "893          47.0      1      0   363272   7.0000   NaN        S  \n",
              "894          62.0      0      0   240276   9.6875   NaN        Q  \n",
              "895          27.0      0      0   315154   8.6625   NaN        S  \n",
              "896          22.0      1      1  3101298  12.2875   NaN        S  "
            ],
            "text/html": [
              "\n",
              "  <div id=\"df-6f53ed7f-776d-41a1-a853-e6b5872149e9\">\n",
              "    <div class=\"colab-df-container\">\n",
              "      <div>\n",
              "<style scoped>\n",
              "    .dataframe tbody tr th:only-of-type {\n",
              "        vertical-align: middle;\n",
              "    }\n",
              "\n",
              "    .dataframe tbody tr th {\n",
              "        vertical-align: top;\n",
              "    }\n",
              "\n",
              "    .dataframe thead th {\n",
              "        text-align: right;\n",
              "    }\n",
              "</style>\n",
              "<table border=\"1\" class=\"dataframe\">\n",
              "  <thead>\n",
              "    <tr style=\"text-align: right;\">\n",
              "      <th></th>\n",
              "      <th>Pclass</th>\n",
              "      <th>Name</th>\n",
              "      <th>Sex</th>\n",
              "      <th>Age</th>\n",
              "      <th>SibSp</th>\n",
              "      <th>Parch</th>\n",
              "      <th>Ticket</th>\n",
              "      <th>Fare</th>\n",
              "      <th>Cabin</th>\n",
              "      <th>Embarked</th>\n",
              "    </tr>\n",
              "    <tr>\n",
              "      <th>PassengerId</th>\n",
              "      <th></th>\n",
              "      <th></th>\n",
              "      <th></th>\n",
              "      <th></th>\n",
              "      <th></th>\n",
              "      <th></th>\n",
              "      <th></th>\n",
              "      <th></th>\n",
              "      <th></th>\n",
              "      <th></th>\n",
              "    </tr>\n",
              "  </thead>\n",
              "  <tbody>\n",
              "    <tr>\n",
              "      <th>892</th>\n",
              "      <td>3</td>\n",
              "      <td>Kelly, Mr. James</td>\n",
              "      <td>male</td>\n",
              "      <td>34.5</td>\n",
              "      <td>0</td>\n",
              "      <td>0</td>\n",
              "      <td>330911</td>\n",
              "      <td>7.8292</td>\n",
              "      <td>NaN</td>\n",
              "      <td>Q</td>\n",
              "    </tr>\n",
              "    <tr>\n",
              "      <th>893</th>\n",
              "      <td>3</td>\n",
              "      <td>Wilkes, Mrs. James (Ellen Needs)</td>\n",
              "      <td>female</td>\n",
              "      <td>47.0</td>\n",
              "      <td>1</td>\n",
              "      <td>0</td>\n",
              "      <td>363272</td>\n",
              "      <td>7.0000</td>\n",
              "      <td>NaN</td>\n",
              "      <td>S</td>\n",
              "    </tr>\n",
              "    <tr>\n",
              "      <th>894</th>\n",
              "      <td>2</td>\n",
              "      <td>Myles, Mr. Thomas Francis</td>\n",
              "      <td>male</td>\n",
              "      <td>62.0</td>\n",
              "      <td>0</td>\n",
              "      <td>0</td>\n",
              "      <td>240276</td>\n",
              "      <td>9.6875</td>\n",
              "      <td>NaN</td>\n",
              "      <td>Q</td>\n",
              "    </tr>\n",
              "    <tr>\n",
              "      <th>895</th>\n",
              "      <td>3</td>\n",
              "      <td>Wirz, Mr. Albert</td>\n",
              "      <td>male</td>\n",
              "      <td>27.0</td>\n",
              "      <td>0</td>\n",
              "      <td>0</td>\n",
              "      <td>315154</td>\n",
              "      <td>8.6625</td>\n",
              "      <td>NaN</td>\n",
              "      <td>S</td>\n",
              "    </tr>\n",
              "    <tr>\n",
              "      <th>896</th>\n",
              "      <td>3</td>\n",
              "      <td>Hirvonen, Mrs. Alexander (Helga E Lindqvist)</td>\n",
              "      <td>female</td>\n",
              "      <td>22.0</td>\n",
              "      <td>1</td>\n",
              "      <td>1</td>\n",
              "      <td>3101298</td>\n",
              "      <td>12.2875</td>\n",
              "      <td>NaN</td>\n",
              "      <td>S</td>\n",
              "    </tr>\n",
              "  </tbody>\n",
              "</table>\n",
              "</div>\n",
              "      <button class=\"colab-df-convert\" onclick=\"convertToInteractive('df-6f53ed7f-776d-41a1-a853-e6b5872149e9')\"\n",
              "              title=\"Convert this dataframe to an interactive table.\"\n",
              "              style=\"display:none;\">\n",
              "        \n",
              "  <svg xmlns=\"http://www.w3.org/2000/svg\" height=\"24px\"viewBox=\"0 0 24 24\"\n",
              "       width=\"24px\">\n",
              "    <path d=\"M0 0h24v24H0V0z\" fill=\"none\"/>\n",
              "    <path d=\"M18.56 5.44l.94 2.06.94-2.06 2.06-.94-2.06-.94-.94-2.06-.94 2.06-2.06.94zm-11 1L8.5 8.5l.94-2.06 2.06-.94-2.06-.94L8.5 2.5l-.94 2.06-2.06.94zm10 10l.94 2.06.94-2.06 2.06-.94-2.06-.94-.94-2.06-.94 2.06-2.06.94z\"/><path d=\"M17.41 7.96l-1.37-1.37c-.4-.4-.92-.59-1.43-.59-.52 0-1.04.2-1.43.59L10.3 9.45l-7.72 7.72c-.78.78-.78 2.05 0 2.83L4 21.41c.39.39.9.59 1.41.59.51 0 1.02-.2 1.41-.59l7.78-7.78 2.81-2.81c.8-.78.8-2.07 0-2.86zM5.41 20L4 18.59l7.72-7.72 1.47 1.35L5.41 20z\"/>\n",
              "  </svg>\n",
              "      </button>\n",
              "      \n",
              "  <style>\n",
              "    .colab-df-container {\n",
              "      display:flex;\n",
              "      flex-wrap:wrap;\n",
              "      gap: 12px;\n",
              "    }\n",
              "\n",
              "    .colab-df-convert {\n",
              "      background-color: #E8F0FE;\n",
              "      border: none;\n",
              "      border-radius: 50%;\n",
              "      cursor: pointer;\n",
              "      display: none;\n",
              "      fill: #1967D2;\n",
              "      height: 32px;\n",
              "      padding: 0 0 0 0;\n",
              "      width: 32px;\n",
              "    }\n",
              "\n",
              "    .colab-df-convert:hover {\n",
              "      background-color: #E2EBFA;\n",
              "      box-shadow: 0px 1px 2px rgba(60, 64, 67, 0.3), 0px 1px 3px 1px rgba(60, 64, 67, 0.15);\n",
              "      fill: #174EA6;\n",
              "    }\n",
              "\n",
              "    [theme=dark] .colab-df-convert {\n",
              "      background-color: #3B4455;\n",
              "      fill: #D2E3FC;\n",
              "    }\n",
              "\n",
              "    [theme=dark] .colab-df-convert:hover {\n",
              "      background-color: #434B5C;\n",
              "      box-shadow: 0px 1px 3px 1px rgba(0, 0, 0, 0.15);\n",
              "      filter: drop-shadow(0px 1px 2px rgba(0, 0, 0, 0.3));\n",
              "      fill: #FFFFFF;\n",
              "    }\n",
              "  </style>\n",
              "\n",
              "      <script>\n",
              "        const buttonEl =\n",
              "          document.querySelector('#df-6f53ed7f-776d-41a1-a853-e6b5872149e9 button.colab-df-convert');\n",
              "        buttonEl.style.display =\n",
              "          google.colab.kernel.accessAllowed ? 'block' : 'none';\n",
              "\n",
              "        async function convertToInteractive(key) {\n",
              "          const element = document.querySelector('#df-6f53ed7f-776d-41a1-a853-e6b5872149e9');\n",
              "          const dataTable =\n",
              "            await google.colab.kernel.invokeFunction('convertToInteractive',\n",
              "                                                     [key], {});\n",
              "          if (!dataTable) return;\n",
              "\n",
              "          const docLinkHtml = 'Like what you see? Visit the ' +\n",
              "            '<a target=\"_blank\" href=https://colab.research.google.com/notebooks/data_table.ipynb>data table notebook</a>'\n",
              "            + ' to learn more about interactive tables.';\n",
              "          element.innerHTML = '';\n",
              "          dataTable['output_type'] = 'display_data';\n",
              "          await google.colab.output.renderOutput(dataTable, element);\n",
              "          const docLink = document.createElement('div');\n",
              "          docLink.innerHTML = docLinkHtml;\n",
              "          element.appendChild(docLink);\n",
              "        }\n",
              "      </script>\n",
              "    </div>\n",
              "  </div>\n",
              "  "
            ]
          },
          "metadata": {},
          "execution_count": 17
        }
      ]
    },
    {
      "cell_type": "markdown",
      "source": [
        "####Test predict"
      ],
      "metadata": {
        "id": "4Og5ruBiI-X3"
      }
    },
    {
      "cell_type": "code",
      "source": [
        "predict = pd.read_csv('gender_submission.csv', index_col = 0)\n",
        "predict.head()"
      ],
      "metadata": {
        "colab": {
          "base_uri": "https://localhost:8080/",
          "height": 238
        },
        "id": "o6SOMlRZHtr_",
        "outputId": "cadfc432-7317-423b-8303-5a2b46d56562"
      },
      "execution_count": null,
      "outputs": [
        {
          "output_type": "execute_result",
          "data": {
            "text/plain": [
              "             Survived\n",
              "PassengerId          \n",
              "892                 0\n",
              "893                 1\n",
              "894                 0\n",
              "895                 0\n",
              "896                 1"
            ],
            "text/html": [
              "\n",
              "  <div id=\"df-0a5aced5-fc6e-472d-ae6a-c21c6f0351b1\">\n",
              "    <div class=\"colab-df-container\">\n",
              "      <div>\n",
              "<style scoped>\n",
              "    .dataframe tbody tr th:only-of-type {\n",
              "        vertical-align: middle;\n",
              "    }\n",
              "\n",
              "    .dataframe tbody tr th {\n",
              "        vertical-align: top;\n",
              "    }\n",
              "\n",
              "    .dataframe thead th {\n",
              "        text-align: right;\n",
              "    }\n",
              "</style>\n",
              "<table border=\"1\" class=\"dataframe\">\n",
              "  <thead>\n",
              "    <tr style=\"text-align: right;\">\n",
              "      <th></th>\n",
              "      <th>Survived</th>\n",
              "    </tr>\n",
              "    <tr>\n",
              "      <th>PassengerId</th>\n",
              "      <th></th>\n",
              "    </tr>\n",
              "  </thead>\n",
              "  <tbody>\n",
              "    <tr>\n",
              "      <th>892</th>\n",
              "      <td>0</td>\n",
              "    </tr>\n",
              "    <tr>\n",
              "      <th>893</th>\n",
              "      <td>1</td>\n",
              "    </tr>\n",
              "    <tr>\n",
              "      <th>894</th>\n",
              "      <td>0</td>\n",
              "    </tr>\n",
              "    <tr>\n",
              "      <th>895</th>\n",
              "      <td>0</td>\n",
              "    </tr>\n",
              "    <tr>\n",
              "      <th>896</th>\n",
              "      <td>1</td>\n",
              "    </tr>\n",
              "  </tbody>\n",
              "</table>\n",
              "</div>\n",
              "      <button class=\"colab-df-convert\" onclick=\"convertToInteractive('df-0a5aced5-fc6e-472d-ae6a-c21c6f0351b1')\"\n",
              "              title=\"Convert this dataframe to an interactive table.\"\n",
              "              style=\"display:none;\">\n",
              "        \n",
              "  <svg xmlns=\"http://www.w3.org/2000/svg\" height=\"24px\"viewBox=\"0 0 24 24\"\n",
              "       width=\"24px\">\n",
              "    <path d=\"M0 0h24v24H0V0z\" fill=\"none\"/>\n",
              "    <path d=\"M18.56 5.44l.94 2.06.94-2.06 2.06-.94-2.06-.94-.94-2.06-.94 2.06-2.06.94zm-11 1L8.5 8.5l.94-2.06 2.06-.94-2.06-.94L8.5 2.5l-.94 2.06-2.06.94zm10 10l.94 2.06.94-2.06 2.06-.94-2.06-.94-.94-2.06-.94 2.06-2.06.94z\"/><path d=\"M17.41 7.96l-1.37-1.37c-.4-.4-.92-.59-1.43-.59-.52 0-1.04.2-1.43.59L10.3 9.45l-7.72 7.72c-.78.78-.78 2.05 0 2.83L4 21.41c.39.39.9.59 1.41.59.51 0 1.02-.2 1.41-.59l7.78-7.78 2.81-2.81c.8-.78.8-2.07 0-2.86zM5.41 20L4 18.59l7.72-7.72 1.47 1.35L5.41 20z\"/>\n",
              "  </svg>\n",
              "      </button>\n",
              "      \n",
              "  <style>\n",
              "    .colab-df-container {\n",
              "      display:flex;\n",
              "      flex-wrap:wrap;\n",
              "      gap: 12px;\n",
              "    }\n",
              "\n",
              "    .colab-df-convert {\n",
              "      background-color: #E8F0FE;\n",
              "      border: none;\n",
              "      border-radius: 50%;\n",
              "      cursor: pointer;\n",
              "      display: none;\n",
              "      fill: #1967D2;\n",
              "      height: 32px;\n",
              "      padding: 0 0 0 0;\n",
              "      width: 32px;\n",
              "    }\n",
              "\n",
              "    .colab-df-convert:hover {\n",
              "      background-color: #E2EBFA;\n",
              "      box-shadow: 0px 1px 2px rgba(60, 64, 67, 0.3), 0px 1px 3px 1px rgba(60, 64, 67, 0.15);\n",
              "      fill: #174EA6;\n",
              "    }\n",
              "\n",
              "    [theme=dark] .colab-df-convert {\n",
              "      background-color: #3B4455;\n",
              "      fill: #D2E3FC;\n",
              "    }\n",
              "\n",
              "    [theme=dark] .colab-df-convert:hover {\n",
              "      background-color: #434B5C;\n",
              "      box-shadow: 0px 1px 3px 1px rgba(0, 0, 0, 0.15);\n",
              "      filter: drop-shadow(0px 1px 2px rgba(0, 0, 0, 0.3));\n",
              "      fill: #FFFFFF;\n",
              "    }\n",
              "  </style>\n",
              "\n",
              "      <script>\n",
              "        const buttonEl =\n",
              "          document.querySelector('#df-0a5aced5-fc6e-472d-ae6a-c21c6f0351b1 button.colab-df-convert');\n",
              "        buttonEl.style.display =\n",
              "          google.colab.kernel.accessAllowed ? 'block' : 'none';\n",
              "\n",
              "        async function convertToInteractive(key) {\n",
              "          const element = document.querySelector('#df-0a5aced5-fc6e-472d-ae6a-c21c6f0351b1');\n",
              "          const dataTable =\n",
              "            await google.colab.kernel.invokeFunction('convertToInteractive',\n",
              "                                                     [key], {});\n",
              "          if (!dataTable) return;\n",
              "\n",
              "          const docLinkHtml = 'Like what you see? Visit the ' +\n",
              "            '<a target=\"_blank\" href=https://colab.research.google.com/notebooks/data_table.ipynb>data table notebook</a>'\n",
              "            + ' to learn more about interactive tables.';\n",
              "          element.innerHTML = '';\n",
              "          dataTable['output_type'] = 'display_data';\n",
              "          await google.colab.output.renderOutput(dataTable, element);\n",
              "          const docLink = document.createElement('div');\n",
              "          docLink.innerHTML = docLinkHtml;\n",
              "          element.appendChild(docLink);\n",
              "        }\n",
              "      </script>\n",
              "    </div>\n",
              "  </div>\n",
              "  "
            ]
          },
          "metadata": {},
          "execution_count": 18
        }
      ]
    },
    {
      "cell_type": "code",
      "source": [
        "sns.countplot(x=predict[\"Survived\"]);\n"
      ],
      "metadata": {
        "colab": {
          "base_uri": "https://localhost:8080/",
          "height": 279
        },
        "id": "eqr6BHKtIrZ6",
        "outputId": "e8d3e98c-f00b-47c2-ac4c-6fd40431959a"
      },
      "execution_count": null,
      "outputs": [
        {
          "output_type": "display_data",
          "data": {
            "text/plain": [
              "<Figure size 432x288 with 1 Axes>"
            ],
            "image/png": "[encoded data removed]"
          },
          "metadata": {
            "needs_background": "light"
          }
        }
      ]
    },
    {
      "cell_type": "code",
      "source": [],
      "metadata": {
        "id": "Odl66Co7Jc6H"
      },
      "execution_count": null,
      "outputs": []
    },
    {
      "cell_type": "markdown",
      "source": [
        "## Data transformation"
      ],
      "metadata": {
        "id": "HxGiD42hOyu_"
      }
    },
    {
      "cell_type": "markdown",
      "source": [
        "###Train"
      ],
      "metadata": {
        "id": "pQksHvyaQyt6"
      }
    },
    {
      "cell_type": "code",
      "source": [
        "train.head()"
      ],
      "metadata": {
        "colab": {
          "base_uri": "https://localhost:8080/",
          "height": 316
        },
        "id": "pmWx9tfnO2w_",
        "outputId": "b5d059f9-a0d7-46ad-e8b5-56a47b04b607"
      },
      "execution_count": null,
      "outputs": [
        {
          "output_type": "execute_result",
          "data": {
            "text/plain": [
              "             Survived  Pclass  \\\n",
              "PassengerId                     \n",
              "1                   0       3   \n",
              "2                   1       1   \n",
              "3                   1       3   \n",
              "4                   1       1   \n",
              "5                   0       3   \n",
              "\n",
              "                                                          Name     Sex   Age  \\\n",
              "PassengerId                                                                    \n",
              "1                                      Braund, Mr. Owen Harris    male  22.0   \n",
              "2            Cumings, Mrs. John Bradley (Florence Briggs Th...  female  38.0   \n",
              "3                                       Heikkinen, Miss. Laina  female  26.0   \n",
              "4                 Futrelle, Mrs. Jacques Heath (Lily May Peel)  female  35.0   \n",
              "5                                     Allen, Mr. William Henry    male  35.0   \n",
              "\n",
              "             SibSp  Parch            Ticket     Fare Cabin Embarked  \n",
              "PassengerId                                                          \n",
              "1                1      0         A/5 21171   7.2500   NaN        S  \n",
              "2                1      0          PC 17599  71.2833   C85        C  \n",
              "3                0      0  STON/O2. 3101282   7.9250   NaN        S  \n",
              "4                1      0            113803  53.1000  C123        S  \n",
              "5                0      0            373450   8.0500   NaN        S  "
            ],
            "text/html": [
              "\n",
              "  <div id=\"df-520a209d-a5ad-4ac2-9e58-589b35467741\">\n",
              "    <div class=\"colab-df-container\">\n",
              "      <div>\n",
              "<style scoped>\n",
              "    .dataframe tbody tr th:only-of-type {\n",
              "        vertical-align: middle;\n",
              "    }\n",
              "\n",
              "    .dataframe tbody tr th {\n",
              "        vertical-align: top;\n",
              "    }\n",
              "\n",
              "    .dataframe thead th {\n",
              "        text-align: right;\n",
              "    }\n",
              "</style>\n",
              "<table border=\"1\" class=\"dataframe\">\n",
              "  <thead>\n",
              "    <tr style=\"text-align: right;\">\n",
              "      <th></th>\n",
              "      <th>Survived</th>\n",
              "      <th>Pclass</th>\n",
              "      <th>Name</th>\n",
              "      <th>Sex</th>\n",
              "      <th>Age</th>\n",
              "      <th>SibSp</th>\n",
              "      <th>Parch</th>\n",
              "      <th>Ticket</th>\n",
              "      <th>Fare</th>\n",
              "      <th>Cabin</th>\n",
              "      <th>Embarked</th>\n",
              "    </tr>\n",
              "    <tr>\n",
              "      <th>PassengerId</th>\n",
              "      <th></th>\n",
              "      <th></th>\n",
              "      <th></th>\n",
              "      <th></th>\n",
              "      <th></th>\n",
              "      <th></th>\n",
              "      <th></th>\n",
              "      <th></th>\n",
              "      <th></th>\n",
              "      <th></th>\n",
              "      <th></th>\n",
              "    </tr>\n",
              "  </thead>\n",
              "  <tbody>\n",
              "    <tr>\n",
              "      <th>1</th>\n",
              "      <td>0</td>\n",
              "      <td>3</td>\n",
              "      <td>Braund, Mr. Owen Harris</td>\n",
              "      <td>male</td>\n",
              "      <td>22.0</td>\n",
              "      <td>1</td>\n",
              "      <td>0</td>\n",
              "      <td>A/5 21171</td>\n",
              "      <td>7.2500</td>\n",
              "      <td>NaN</td>\n",
              "      <td>S</td>\n",
              "    </tr>\n",
              "    <tr>\n",
              "      <th>2</th>\n",
              "      <td>1</td>\n",
              "      <td>1</td>\n",
              "      <td>Cumings, Mrs. John Bradley (Florence Briggs Th...</td>\n",
              "      <td>female</td>\n",
              "      <td>38.0</td>\n",
              "      <td>1</td>\n",
              "      <td>0</td>\n",
              "      <td>PC 17599</td>\n",
              "      <td>71.2833</td>\n",
              "      <td>C85</td>\n",
              "      <td>C</td>\n",
              "    </tr>\n",
              "    <tr>\n",
              "      <th>3</th>\n",
              "      <td>1</td>\n",
              "      <td>3</td>\n",
              "      <td>Heikkinen, Miss. Laina</td>\n",
              "      <td>female</td>\n",
              "      <td>26.0</td>\n",
              "      <td>0</td>\n",
              "      <td>0</td>\n",
              "      <td>STON/O2. 3101282</td>\n",
              "      <td>7.9250</td>\n",
              "      <td>NaN</td>\n",
              "      <td>S</td>\n",
              "    </tr>\n",
              "    <tr>\n",
              "      <th>4</th>\n",
              "      <td>1</td>\n",
              "      <td>1</td>\n",
              "      <td>Futrelle, Mrs. Jacques Heath (Lily May Peel)</td>\n",
              "      <td>female</td>\n",
              "      <td>35.0</td>\n",
              "      <td>1</td>\n",
              "      <td>0</td>\n",
              "      <td>113803</td>\n",
              "      <td>53.1000</td>\n",
              "      <td>C123</td>\n",
              "      <td>S</td>\n",
              "    </tr>\n",
              "    <tr>\n",
              "      <th>5</th>\n",
              "      <td>0</td>\n",
              "      <td>3</td>\n",
              "      <td>Allen, Mr. William Henry</td>\n",
              "      <td>male</td>\n",
              "      <td>35.0</td>\n",
              "      <td>0</td>\n",
              "      <td>0</td>\n",
              "      <td>373450</td>\n",
              "      <td>8.0500</td>\n",
              "      <td>NaN</td>\n",
              "      <td>S</td>\n",
              "    </tr>\n",
              "  </tbody>\n",
              "</table>\n",
              "</div>\n",
              "      <button class=\"colab-df-convert\" onclick=\"convertToInteractive('df-520a209d-a5ad-4ac2-9e58-589b35467741')\"\n",
              "              title=\"Convert this dataframe to an interactive table.\"\n",
              "              style=\"display:none;\">\n",
              "        \n",
              "  <svg xmlns=\"http://www.w3.org/2000/svg\" height=\"24px\"viewBox=\"0 0 24 24\"\n",
              "       width=\"24px\">\n",
              "    <path d=\"M0 0h24v24H0V0z\" fill=\"none\"/>\n",
              "    <path d=\"M18.56 5.44l.94 2.06.94-2.06 2.06-.94-2.06-.94-.94-2.06-.94 2.06-2.06.94zm-11 1L8.5 8.5l.94-2.06 2.06-.94-2.06-.94L8.5 2.5l-.94 2.06-2.06.94zm10 10l.94 2.06.94-2.06 2.06-.94-2.06-.94-.94-2.06-.94 2.06-2.06.94z\"/><path d=\"M17.41 7.96l-1.37-1.37c-.4-.4-.92-.59-1.43-.59-.52 0-1.04.2-1.43.59L10.3 9.45l-7.72 7.72c-.78.78-.78 2.05 0 2.83L4 21.41c.39.39.9.59 1.41.59.51 0 1.02-.2 1.41-.59l7.78-7.78 2.81-2.81c.8-.78.8-2.07 0-2.86zM5.41 20L4 18.59l7.72-7.72 1.47 1.35L5.41 20z\"/>\n",
              "  </svg>\n",
              "      </button>\n",
              "      \n",
              "  <style>\n",
              "    .colab-df-container {\n",
              "      display:flex;\n",
              "      flex-wrap:wrap;\n",
              "      gap: 12px;\n",
              "    }\n",
              "\n",
              "    .colab-df-convert {\n",
              "      background-color: #E8F0FE;\n",
              "      border: none;\n",
              "      border-radius: 50%;\n",
              "      cursor: pointer;\n",
              "      display: none;\n",
              "      fill: #1967D2;\n",
              "      height: 32px;\n",
              "      padding: 0 0 0 0;\n",
              "      width: 32px;\n",
              "    }\n",
              "\n",
              "    .colab-df-convert:hover {\n",
              "      background-color: #E2EBFA;\n",
              "      box-shadow: 0px 1px 2px rgba(60, 64, 67, 0.3), 0px 1px 3px 1px rgba(60, 64, 67, 0.15);\n",
              "      fill: #174EA6;\n",
              "    }\n",
              "\n",
              "    [theme=dark] .colab-df-convert {\n",
              "      background-color: #3B4455;\n",
              "      fill: #D2E3FC;\n",
              "    }\n",
              "\n",
              "    [theme=dark] .colab-df-convert:hover {\n",
              "      background-color: #434B5C;\n",
              "      box-shadow: 0px 1px 3px 1px rgba(0, 0, 0, 0.15);\n",
              "      filter: drop-shadow(0px 1px 2px rgba(0, 0, 0, 0.3));\n",
              "      fill: #FFFFFF;\n",
              "    }\n",
              "  </style>\n",
              "\n",
              "      <script>\n",
              "        const buttonEl =\n",
              "          document.querySelector('#df-520a209d-a5ad-4ac2-9e58-589b35467741 button.colab-df-convert');\n",
              "        buttonEl.style.display =\n",
              "          google.colab.kernel.accessAllowed ? 'block' : 'none';\n",
              "\n",
              "        async function convertToInteractive(key) {\n",
              "          const element = document.querySelector('#df-520a209d-a5ad-4ac2-9e58-589b35467741');\n",
              "          const dataTable =\n",
              "            await google.colab.kernel.invokeFunction('convertToInteractive',\n",
              "                                                     [key], {});\n",
              "          if (!dataTable) return;\n",
              "\n",
              "          const docLinkHtml = 'Like what you see? Visit the ' +\n",
              "            '<a target=\"_blank\" href=https://colab.research.google.com/notebooks/data_table.ipynb>data table notebook</a>'\n",
              "            + ' to learn more about interactive tables.';\n",
              "          element.innerHTML = '';\n",
              "          dataTable['output_type'] = 'display_data';\n",
              "          await google.colab.output.renderOutput(dataTable, element);\n",
              "          const docLink = document.createElement('div');\n",
              "          docLink.innerHTML = docLinkHtml;\n",
              "          element.appendChild(docLink);\n",
              "        }\n",
              "      </script>\n",
              "    </div>\n",
              "  </div>\n",
              "  "
            ]
          },
          "metadata": {},
          "execution_count": 20
        }
      ]
    },
    {
      "cell_type": "code",
      "source": [
        "train = train.drop([\"Name\",'Ticket',\"Cabin\" ], axis = 1)\n",
        "train"
      ],
      "metadata": {
        "colab": {
          "base_uri": "https://localhost:8080/",
          "height": 455
        },
        "id": "6qxZWtiOO5BH",
        "outputId": "2676ef7c-bb78-4f63-ce3c-7a2af398bee3"
      },
      "execution_count": null,
      "outputs": [
        {
          "output_type": "execute_result",
          "data": {
            "text/plain": [
              "             Survived  Pclass     Sex   Age  SibSp  Parch     Fare Embarked\n",
              "PassengerId                                                                \n",
              "1                   0       3    male  22.0      1      0   7.2500        S\n",
              "2                   1       1  female  38.0      1      0  71.2833        C\n",
              "3                   1       3  female  26.0      0      0   7.9250        S\n",
              "4                   1       1  female  35.0      1      0  53.1000        S\n",
              "5                   0       3    male  35.0      0      0   8.0500        S\n",
              "...               ...     ...     ...   ...    ...    ...      ...      ...\n",
              "887                 0       2    male  27.0      0      0  13.0000        S\n",
              "888                 1       1  female  19.0      0      0  30.0000        S\n",
              "889                 0       3  female   NaN      1      2  23.4500        S\n",
              "890                 1       1    male  26.0      0      0  30.0000        C\n",
              "891                 0       3    male  32.0      0      0   7.7500        Q\n",
              "\n",
              "[891 rows x 8 columns]"
            ],
            "text/html": [
              "\n",
              "  <div id=\"df-a90362b3-bba7-4a7f-8cea-6858b85c6da1\">\n",
              "    <div class=\"colab-df-container\">\n",
              "      <div>\n",
              "<style scoped>\n",
              "    .dataframe tbody tr th:only-of-type {\n",
              "        vertical-align: middle;\n",
              "    }\n",
              "\n",
              "    .dataframe tbody tr th {\n",
              "        vertical-align: top;\n",
              "    }\n",
              "\n",
              "    .dataframe thead th {\n",
              "        text-align: right;\n",
              "    }\n",
              "</style>\n",
              "<table border=\"1\" class=\"dataframe\">\n",
              "  <thead>\n",
              "    <tr style=\"text-align: right;\">\n",
              "      <th></th>\n",
              "      <th>Survived</th>\n",
              "      <th>Pclass</th>\n",
              "      <th>Sex</th>\n",
              "      <th>Age</th>\n",
              "      <th>SibSp</th>\n",
              "      <th>Parch</th>\n",
              "      <th>Fare</th>\n",
              "      <th>Embarked</th>\n",
              "    </tr>\n",
              "    <tr>\n",
              "      <th>PassengerId</th>\n",
              "      <th></th>\n",
              "      <th></th>\n",
              "      <th></th>\n",
              "      <th></th>\n",
              "      <th></th>\n",
              "      <th></th>\n",
              "      <th></th>\n",
              "      <th></th>\n",
              "    </tr>\n",
              "  </thead>\n",
              "  <tbody>\n",
              "    <tr>\n",
              "      <th>1</th>\n",
              "      <td>0</td>\n",
              "      <td>3</td>\n",
              "      <td>male</td>\n",
              "      <td>22.0</td>\n",
              "      <td>1</td>\n",
              "      <td>0</td>\n",
              "      <td>7.2500</td>\n",
              "      <td>S</td>\n",
              "    </tr>\n",
              "    <tr>\n",
              "      <th>2</th>\n",
              "      <td>1</td>\n",
              "      <td>1</td>\n",
              "      <td>female</td>\n",
              "      <td>38.0</td>\n",
              "      <td>1</td>\n",
              "      <td>0</td>\n",
              "      <td>71.2833</td>\n",
              "      <td>C</td>\n",
              "    </tr>\n",
              "    <tr>\n",
              "      <th>3</th>\n",
              "      <td>1</td>\n",
              "      <td>3</td>\n",
              "      <td>female</td>\n",
              "      <td>26.0</td>\n",
              "      <td>0</td>\n",
              "      <td>0</td>\n",
              "      <td>7.9250</td>\n",
              "      <td>S</td>\n",
              "    </tr>\n",
              "    <tr>\n",
              "      <th>4</th>\n",
              "      <td>1</td>\n",
              "      <td>1</td>\n",
              "      <td>female</td>\n",
              "      <td>35.0</td>\n",
              "      <td>1</td>\n",
              "      <td>0</td>\n",
              "      <td>53.1000</td>\n",
              "      <td>S</td>\n",
              "    </tr>\n",
              "    <tr>\n",
              "      <th>5</th>\n",
              "      <td>0</td>\n",
              "      <td>3</td>\n",
              "      <td>male</td>\n",
              "      <td>35.0</td>\n",
              "      <td>0</td>\n",
              "      <td>0</td>\n",
              "      <td>8.0500</td>\n",
              "      <td>S</td>\n",
              "    </tr>\n",
              "    <tr>\n",
              "      <th>...</th>\n",
              "      <td>...</td>\n",
              "      <td>...</td>\n",
              "      <td>...</td>\n",
              "      <td>...</td>\n",
              "      <td>...</td>\n",
              "      <td>...</td>\n",
              "      <td>...</td>\n",
              "      <td>...</td>\n",
              "    </tr>\n",
              "    <tr>\n",
              "      <th>887</th>\n",
              "      <td>0</td>\n",
              "      <td>2</td>\n",
              "      <td>male</td>\n",
              "      <td>27.0</td>\n",
              "      <td>0</td>\n",
              "      <td>0</td>\n",
              "      <td>13.0000</td>\n",
              "      <td>S</td>\n",
              "    </tr>\n",
              "    <tr>\n",
              "      <th>888</th>\n",
              "      <td>1</td>\n",
              "      <td>1</td>\n",
              "      <td>female</td>\n",
              "      <td>19.0</td>\n",
              "      <td>0</td>\n",
              "      <td>0</td>\n",
              "      <td>30.0000</td>\n",
              "      <td>S</td>\n",
              "    </tr>\n",
              "    <tr>\n",
              "      <th>889</th>\n",
              "      <td>0</td>\n",
              "      <td>3</td>\n",
              "      <td>female</td>\n",
              "      <td>NaN</td>\n",
              "      <td>1</td>\n",
              "      <td>2</td>\n",
              "      <td>23.4500</td>\n",
              "      <td>S</td>\n",
              "    </tr>\n",
              "    <tr>\n",
              "      <th>890</th>\n",
              "      <td>1</td>\n",
              "      <td>1</td>\n",
              "      <td>male</td>\n",
              "      <td>26.0</td>\n",
              "      <td>0</td>\n",
              "      <td>0</td>\n",
              "      <td>30.0000</td>\n",
              "      <td>C</td>\n",
              "    </tr>\n",
              "    <tr>\n",
              "      <th>891</th>\n",
              "      <td>0</td>\n",
              "      <td>3</td>\n",
              "      <td>male</td>\n",
              "      <td>32.0</td>\n",
              "      <td>0</td>\n",
              "      <td>0</td>\n",
              "      <td>7.7500</td>\n",
              "      <td>Q</td>\n",
              "    </tr>\n",
              "  </tbody>\n",
              "</table>\n",
              "<p>891 rows × 8 columns</p>\n",
              "</div>\n",
              "      <button class=\"colab-df-convert\" onclick=\"convertToInteractive('df-a90362b3-bba7-4a7f-8cea-6858b85c6da1')\"\n",
              "              title=\"Convert this dataframe to an interactive table.\"\n",
              "              style=\"display:none;\">\n",
              "        \n",
              "  <svg xmlns=\"http://www.w3.org/2000/svg\" height=\"24px\"viewBox=\"0 0 24 24\"\n",
              "       width=\"24px\">\n",
              "    <path d=\"M0 0h24v24H0V0z\" fill=\"none\"/>\n",
              "    <path d=\"M18.56 5.44l.94 2.06.94-2.06 2.06-.94-2.06-.94-.94-2.06-.94 2.06-2.06.94zm-11 1L8.5 8.5l.94-2.06 2.06-.94-2.06-.94L8.5 2.5l-.94 2.06-2.06.94zm10 10l.94 2.06.94-2.06 2.06-.94-2.06-.94-.94-2.06-.94 2.06-2.06.94z\"/><path d=\"M17.41 7.96l-1.37-1.37c-.4-.4-.92-.59-1.43-.59-.52 0-1.04.2-1.43.59L10.3 9.45l-7.72 7.72c-.78.78-.78 2.05 0 2.83L4 21.41c.39.39.9.59 1.41.59.51 0 1.02-.2 1.41-.59l7.78-7.78 2.81-2.81c.8-.78.8-2.07 0-2.86zM5.41 20L4 18.59l7.72-7.72 1.47 1.35L5.41 20z\"/>\n",
              "  </svg>\n",
              "      </button>\n",
              "      \n",
              "  <style>\n",
              "    .colab-df-container {\n",
              "      display:flex;\n",
              "      flex-wrap:wrap;\n",
              "      gap: 12px;\n",
              "    }\n",
              "\n",
              "    .colab-df-convert {\n",
              "      background-color: #E8F0FE;\n",
              "      border: none;\n",
              "      border-radius: 50%;\n",
              "      cursor: pointer;\n",
              "      display: none;\n",
              "      fill: #1967D2;\n",
              "      height: 32px;\n",
              "      padding: 0 0 0 0;\n",
              "      width: 32px;\n",
              "    }\n",
              "\n",
              "    .colab-df-convert:hover {\n",
              "      background-color: #E2EBFA;\n",
              "      box-shadow: 0px 1px 2px rgba(60, 64, 67, 0.3), 0px 1px 3px 1px rgba(60, 64, 67, 0.15);\n",
              "      fill: #174EA6;\n",
              "    }\n",
              "\n",
              "    [theme=dark] .colab-df-convert {\n",
              "      background-color: #3B4455;\n",
              "      fill: #D2E3FC;\n",
              "    }\n",
              "\n",
              "    [theme=dark] .colab-df-convert:hover {\n",
              "      background-color: #434B5C;\n",
              "      box-shadow: 0px 1px 3px 1px rgba(0, 0, 0, 0.15);\n",
              "      filter: drop-shadow(0px 1px 2px rgba(0, 0, 0, 0.3));\n",
              "      fill: #FFFFFF;\n",
              "    }\n",
              "  </style>\n",
              "\n",
              "      <script>\n",
              "        const buttonEl =\n",
              "          document.querySelector('#df-a90362b3-bba7-4a7f-8cea-6858b85c6da1 button.colab-df-convert');\n",
              "        buttonEl.style.display =\n",
              "          google.colab.kernel.accessAllowed ? 'block' : 'none';\n",
              "\n",
              "        async function convertToInteractive(key) {\n",
              "          const element = document.querySelector('#df-a90362b3-bba7-4a7f-8cea-6858b85c6da1');\n",
              "          const dataTable =\n",
              "            await google.colab.kernel.invokeFunction('convertToInteractive',\n",
              "                                                     [key], {});\n",
              "          if (!dataTable) return;\n",
              "\n",
              "          const docLinkHtml = 'Like what you see? Visit the ' +\n",
              "            '<a target=\"_blank\" href=https://colab.research.google.com/notebooks/data_table.ipynb>data table notebook</a>'\n",
              "            + ' to learn more about interactive tables.';\n",
              "          element.innerHTML = '';\n",
              "          dataTable['output_type'] = 'display_data';\n",
              "          await google.colab.output.renderOutput(dataTable, element);\n",
              "          const docLink = document.createElement('div');\n",
              "          docLink.innerHTML = docLinkHtml;\n",
              "          element.appendChild(docLink);\n",
              "        }\n",
              "      </script>\n",
              "    </div>\n",
              "  </div>\n",
              "  "
            ]
          },
          "metadata": {},
          "execution_count": 21
        }
      ]
    },
    {
      "cell_type": "code",
      "source": [
        "train.isna().sum()"
      ],
      "metadata": {
        "colab": {
          "base_uri": "https://localhost:8080/"
        },
        "id": "yAinh1gGTC_x",
        "outputId": "16c8bb6a-db68-4897-bbe9-1d2646cb8983"
      },
      "execution_count": null,
      "outputs": [
        {
          "output_type": "execute_result",
          "data": {
            "text/plain": [
              "Survived      0\n",
              "Pclass        0\n",
              "Sex           0\n",
              "Age         177\n",
              "SibSp         0\n",
              "Parch         0\n",
              "Fare          0\n",
              "Embarked      2\n",
              "dtype: int64"
            ]
          },
          "metadata": {},
          "execution_count": 22
        }
      ]
    },
    {
      "cell_type": "markdown",
      "source": [
        "Il y a 177 NaN sur 891 lignes, on prend la decision de les retirer."
      ],
      "metadata": {
        "id": "70NRUd6aTTZJ"
      }
    },
    {
      "cell_type": "code",
      "source": [
        "train = train.dropna()\n",
        "train.isna().sum()"
      ],
      "metadata": {
        "colab": {
          "base_uri": "https://localhost:8080/"
        },
        "id": "2eaNwn48Tkhi",
        "outputId": "6b228d2a-20bf-466d-d5cf-d460c05c2608"
      },
      "execution_count": null,
      "outputs": [
        {
          "output_type": "execute_result",
          "data": {
            "text/plain": [
              "Survived    0\n",
              "Pclass      0\n",
              "Sex         0\n",
              "Age         0\n",
              "SibSp       0\n",
              "Parch       0\n",
              "Fare        0\n",
              "Embarked    0\n",
              "dtype: int64"
            ]
          },
          "metadata": {},
          "execution_count": 23
        }
      ]
    },
    {
      "cell_type": "code",
      "source": [
        "train_X = train.drop([\"Survived\"], axis = 1)\n"
      ],
      "metadata": {
        "id": "znMdN_6WT_Ya"
      },
      "execution_count": null,
      "outputs": []
    },
    {
      "cell_type": "code",
      "source": [
        "train_X_dum = pd.get_dummies(train_X)\n",
        "train_X_dum"
      ],
      "metadata": {
        "colab": {
          "base_uri": "https://localhost:8080/",
          "height": 455
        },
        "id": "l0DkZM0FQfyk",
        "outputId": "94caaba5-17e0-4223-fe30-76c58599087a"
      },
      "execution_count": null,
      "outputs": [
        {
          "output_type": "execute_result",
          "data": {
            "text/plain": [
              "             Pclass   Age  SibSp  Parch     Fare  Sex_female  Sex_male  \\\n",
              "PassengerId                                                              \n",
              "1                 3  22.0      1      0   7.2500           0         1   \n",
              "2                 1  38.0      1      0  71.2833           1         0   \n",
              "3                 3  26.0      0      0   7.9250           1         0   \n",
              "4                 1  35.0      1      0  53.1000           1         0   \n",
              "5                 3  35.0      0      0   8.0500           0         1   \n",
              "...             ...   ...    ...    ...      ...         ...       ...   \n",
              "886               3  39.0      0      5  29.1250           1         0   \n",
              "887               2  27.0      0      0  13.0000           0         1   \n",
              "888               1  19.0      0      0  30.0000           1         0   \n",
              "890               1  26.0      0      0  30.0000           0         1   \n",
              "891               3  32.0      0      0   7.7500           0         1   \n",
              "\n",
              "             Embarked_C  Embarked_Q  Embarked_S  \n",
              "PassengerId                                      \n",
              "1                     0           0           1  \n",
              "2                     1           0           0  \n",
              "3                     0           0           1  \n",
              "4                     0           0           1  \n",
              "5                     0           0           1  \n",
              "...                 ...         ...         ...  \n",
              "886                   0           1           0  \n",
              "887                   0           0           1  \n",
              "888                   0           0           1  \n",
              "890                   1           0           0  \n",
              "891                   0           1           0  \n",
              "\n",
              "[712 rows x 10 columns]"
            ],
            "text/html": [
              "\n",
              "  <div id=\"df-ebc3d205-a91e-4394-aad8-33173de5c2d0\">\n",
              "    <div class=\"colab-df-container\">\n",
              "      <div>\n",
              "<style scoped>\n",
              "    .dataframe tbody tr th:only-of-type {\n",
              "        vertical-align: middle;\n",
              "    }\n",
              "\n",
              "    .dataframe tbody tr th {\n",
              "        vertical-align: top;\n",
              "    }\n",
              "\n",
              "    .dataframe thead th {\n",
              "        text-align: right;\n",
              "    }\n",
              "</style>\n",
              "<table border=\"1\" class=\"dataframe\">\n",
              "  <thead>\n",
              "    <tr style=\"text-align: right;\">\n",
              "      <th></th>\n",
              "      <th>Pclass</th>\n",
              "      <th>Age</th>\n",
              "      <th>SibSp</th>\n",
              "      <th>Parch</th>\n",
              "      <th>Fare</th>\n",
              "      <th>Sex_female</th>\n",
              "      <th>Sex_male</th>\n",
              "      <th>Embarked_C</th>\n",
              "      <th>Embarked_Q</th>\n",
              "      <th>Embarked_S</th>\n",
              "    </tr>\n",
              "    <tr>\n",
              "      <th>PassengerId</th>\n",
              "      <th></th>\n",
              "      <th></th>\n",
              "      <th></th>\n",
              "      <th></th>\n",
              "      <th></th>\n",
              "      <th></th>\n",
              "      <th></th>\n",
              "      <th></th>\n",
              "      <th></th>\n",
              "      <th></th>\n",
              "    </tr>\n",
              "  </thead>\n",
              "  <tbody>\n",
              "    <tr>\n",
              "      <th>1</th>\n",
              "      <td>3</td>\n",
              "      <td>22.0</td>\n",
              "      <td>1</td>\n",
              "      <td>0</td>\n",
              "      <td>7.2500</td>\n",
              "      <td>0</td>\n",
              "      <td>1</td>\n",
              "      <td>0</td>\n",
              "      <td>0</td>\n",
              "      <td>1</td>\n",
              "    </tr>\n",
              "    <tr>\n",
              "      <th>2</th>\n",
              "      <td>1</td>\n",
              "      <td>38.0</td>\n",
              "      <td>1</td>\n",
              "      <td>0</td>\n",
              "      <td>71.2833</td>\n",
              "      <td>1</td>\n",
              "      <td>0</td>\n",
              "      <td>1</td>\n",
              "      <td>0</td>\n",
              "      <td>0</td>\n",
              "    </tr>\n",
              "    <tr>\n",
              "      <th>3</th>\n",
              "      <td>3</td>\n",
              "      <td>26.0</td>\n",
              "      <td>0</td>\n",
              "      <td>0</td>\n",
              "      <td>7.9250</td>\n",
              "      <td>1</td>\n",
              "      <td>0</td>\n",
              "      <td>0</td>\n",
              "      <td>0</td>\n",
              "      <td>1</td>\n",
              "    </tr>\n",
              "    <tr>\n",
              "      <th>4</th>\n",
              "      <td>1</td>\n",
              "      <td>35.0</td>\n",
              "      <td>1</td>\n",
              "      <td>0</td>\n",
              "      <td>53.1000</td>\n",
              "      <td>1</td>\n",
              "      <td>0</td>\n",
              "      <td>0</td>\n",
              "      <td>0</td>\n",
              "      <td>1</td>\n",
              "    </tr>\n",
              "    <tr>\n",
              "      <th>5</th>\n",
              "      <td>3</td>\n",
              "      <td>35.0</td>\n",
              "      <td>0</td>\n",
              "      <td>0</td>\n",
              "      <td>8.0500</td>\n",
              "      <td>0</td>\n",
              "      <td>1</td>\n",
              "      <td>0</td>\n",
              "      <td>0</td>\n",
              "      <td>1</td>\n",
              "    </tr>\n",
              "    <tr>\n",
              "      <th>...</th>\n",
              "      <td>...</td>\n",
              "      <td>...</td>\n",
              "      <td>...</td>\n",
              "      <td>...</td>\n",
              "      <td>...</td>\n",
              "      <td>...</td>\n",
              "      <td>...</td>\n",
              "      <td>...</td>\n",
              "      <td>...</td>\n",
              "      <td>...</td>\n",
              "    </tr>\n",
              "    <tr>\n",
              "      <th>886</th>\n",
              "      <td>3</td>\n",
              "      <td>39.0</td>\n",
              "      <td>0</td>\n",
              "      <td>5</td>\n",
              "      <td>29.1250</td>\n",
              "      <td>1</td>\n",
              "      <td>0</td>\n",
              "      <td>0</td>\n",
              "      <td>1</td>\n",
              "      <td>0</td>\n",
              "    </tr>\n",
              "    <tr>\n",
              "      <th>887</th>\n",
              "      <td>2</td>\n",
              "      <td>27.0</td>\n",
              "      <td>0</td>\n",
              "      <td>0</td>\n",
              "      <td>13.0000</td>\n",
              "      <td>0</td>\n",
              "      <td>1</td>\n",
              "      <td>0</td>\n",
              "      <td>0</td>\n",
              "      <td>1</td>\n",
              "    </tr>\n",
              "    <tr>\n",
              "      <th>888</th>\n",
              "      <td>1</td>\n",
              "      <td>19.0</td>\n",
              "      <td>0</td>\n",
              "      <td>0</td>\n",
              "      <td>30.0000</td>\n",
              "      <td>1</td>\n",
              "      <td>0</td>\n",
              "      <td>0</td>\n",
              "      <td>0</td>\n",
              "      <td>1</td>\n",
              "    </tr>\n",
              "    <tr>\n",
              "      <th>890</th>\n",
              "      <td>1</td>\n",
              "      <td>26.0</td>\n",
              "      <td>0</td>\n",
              "      <td>0</td>\n",
              "      <td>30.0000</td>\n",
              "      <td>0</td>\n",
              "      <td>1</td>\n",
              "      <td>1</td>\n",
              "      <td>0</td>\n",
              "      <td>0</td>\n",
              "    </tr>\n",
              "    <tr>\n",
              "      <th>891</th>\n",
              "      <td>3</td>\n",
              "      <td>32.0</td>\n",
              "      <td>0</td>\n",
              "      <td>0</td>\n",
              "      <td>7.7500</td>\n",
              "      <td>0</td>\n",
              "      <td>1</td>\n",
              "      <td>0</td>\n",
              "      <td>1</td>\n",
              "      <td>0</td>\n",
              "    </tr>\n",
              "  </tbody>\n",
              "</table>\n",
              "<p>712 rows × 10 columns</p>\n",
              "</div>\n",
              "      <button class=\"colab-df-convert\" onclick=\"convertToInteractive('df-ebc3d205-a91e-4394-aad8-33173de5c2d0')\"\n",
              "              title=\"Convert this dataframe to an interactive table.\"\n",
              "              style=\"display:none;\">\n",
              "        \n",
              "  <svg xmlns=\"http://www.w3.org/2000/svg\" height=\"24px\"viewBox=\"0 0 24 24\"\n",
              "       width=\"24px\">\n",
              "    <path d=\"M0 0h24v24H0V0z\" fill=\"none\"/>\n",
              "    <path d=\"M18.56 5.44l.94 2.06.94-2.06 2.06-.94-2.06-.94-.94-2.06-.94 2.06-2.06.94zm-11 1L8.5 8.5l.94-2.06 2.06-.94-2.06-.94L8.5 2.5l-.94 2.06-2.06.94zm10 10l.94 2.06.94-2.06 2.06-.94-2.06-.94-.94-2.06-.94 2.06-2.06.94z\"/><path d=\"M17.41 7.96l-1.37-1.37c-.4-.4-.92-.59-1.43-.59-.52 0-1.04.2-1.43.59L10.3 9.45l-7.72 7.72c-.78.78-.78 2.05 0 2.83L4 21.41c.39.39.9.59 1.41.59.51 0 1.02-.2 1.41-.59l7.78-7.78 2.81-2.81c.8-.78.8-2.07 0-2.86zM5.41 20L4 18.59l7.72-7.72 1.47 1.35L5.41 20z\"/>\n",
              "  </svg>\n",
              "      </button>\n",
              "      \n",
              "  <style>\n",
              "    .colab-df-container {\n",
              "      display:flex;\n",
              "      flex-wrap:wrap;\n",
              "      gap: 12px;\n",
              "    }\n",
              "\n",
              "    .colab-df-convert {\n",
              "      background-color: #E8F0FE;\n",
              "      border: none;\n",
              "      border-radius: 50%;\n",
              "      cursor: pointer;\n",
              "      display: none;\n",
              "      fill: #1967D2;\n",
              "      height: 32px;\n",
              "      padding: 0 0 0 0;\n",
              "      width: 32px;\n",
              "    }\n",
              "\n",
              "    .colab-df-convert:hover {\n",
              "      background-color: #E2EBFA;\n",
              "      box-shadow: 0px 1px 2px rgba(60, 64, 67, 0.3), 0px 1px 3px 1px rgba(60, 64, 67, 0.15);\n",
              "      fill: #174EA6;\n",
              "    }\n",
              "\n",
              "    [theme=dark] .colab-df-convert {\n",
              "      background-color: #3B4455;\n",
              "      fill: #D2E3FC;\n",
              "    }\n",
              "\n",
              "    [theme=dark] .colab-df-convert:hover {\n",
              "      background-color: #434B5C;\n",
              "      box-shadow: 0px 1px 3px 1px rgba(0, 0, 0, 0.15);\n",
              "      filter: drop-shadow(0px 1px 2px rgba(0, 0, 0, 0.3));\n",
              "      fill: #FFFFFF;\n",
              "    }\n",
              "  </style>\n",
              "\n",
              "      <script>\n",
              "        const buttonEl =\n",
              "          document.querySelector('#df-ebc3d205-a91e-4394-aad8-33173de5c2d0 button.colab-df-convert');\n",
              "        buttonEl.style.display =\n",
              "          google.colab.kernel.accessAllowed ? 'block' : 'none';\n",
              "\n",
              "        async function convertToInteractive(key) {\n",
              "          const element = document.querySelector('#df-ebc3d205-a91e-4394-aad8-33173de5c2d0');\n",
              "          const dataTable =\n",
              "            await google.colab.kernel.invokeFunction('convertToInteractive',\n",
              "                                                     [key], {});\n",
              "          if (!dataTable) return;\n",
              "\n",
              "          const docLinkHtml = 'Like what you see? Visit the ' +\n",
              "            '<a target=\"_blank\" href=https://colab.research.google.com/notebooks/data_table.ipynb>data table notebook</a>'\n",
              "            + ' to learn more about interactive tables.';\n",
              "          element.innerHTML = '';\n",
              "          dataTable['output_type'] = 'display_data';\n",
              "          await google.colab.output.renderOutput(dataTable, element);\n",
              "          const docLink = document.createElement('div');\n",
              "          docLink.innerHTML = docLinkHtml;\n",
              "          element.appendChild(docLink);\n",
              "        }\n",
              "      </script>\n",
              "    </div>\n",
              "  </div>\n",
              "  "
            ]
          },
          "metadata": {},
          "execution_count": 25
        }
      ]
    },
    {
      "cell_type": "code",
      "source": [
        "train_Y = train['Survived']\n",
        "train_Y"
      ],
      "metadata": {
        "colab": {
          "base_uri": "https://localhost:8080/"
        },
        "id": "ECmD-bdYPHSh",
        "outputId": "31a44512-e0ac-4289-8a46-a0f1cc996dae"
      },
      "execution_count": null,
      "outputs": [
        {
          "output_type": "execute_result",
          "data": {
            "text/plain": [
              "PassengerId\n",
              "1      0\n",
              "2      1\n",
              "3      1\n",
              "4      1\n",
              "5      0\n",
              "      ..\n",
              "886    0\n",
              "887    0\n",
              "888    1\n",
              "890    1\n",
              "891    0\n",
              "Name: Survived, Length: 712, dtype: int64"
            ]
          },
          "metadata": {},
          "execution_count": 26
        }
      ]
    },
    {
      "cell_type": "markdown",
      "source": [
        "###Test"
      ],
      "metadata": {
        "id": "8zxFwbnBQ1Qw"
      }
    },
    {
      "cell_type": "code",
      "source": [
        "test.isna().sum()"
      ],
      "metadata": {
        "colab": {
          "base_uri": "https://localhost:8080/"
        },
        "id": "pjOtEp3WUnEs",
        "outputId": "e70e8968-d24d-421f-f2fb-62ed399d3263"
      },
      "execution_count": null,
      "outputs": [
        {
          "output_type": "execute_result",
          "data": {
            "text/plain": [
              "Pclass        0\n",
              "Name          0\n",
              "Sex           0\n",
              "Age          86\n",
              "SibSp         0\n",
              "Parch         0\n",
              "Ticket        0\n",
              "Fare          1\n",
              "Cabin       327\n",
              "Embarked      0\n",
              "dtype: int64"
            ]
          },
          "metadata": {},
          "execution_count": 27
        }
      ]
    },
    {
      "cell_type": "code",
      "source": [
        "test_tot =  pd.merge(test, predict, on=\"PassengerId\")\n",
        "test_tot.isna().sum()"
      ],
      "metadata": {
        "colab": {
          "base_uri": "https://localhost:8080/"
        },
        "id": "fn-LBF5IU4rI",
        "outputId": "3f3623be-2942-424a-b072-a90230b9f3b6"
      },
      "execution_count": null,
      "outputs": [
        {
          "output_type": "execute_result",
          "data": {
            "text/plain": [
              "Pclass        0\n",
              "Name          0\n",
              "Sex           0\n",
              "Age          86\n",
              "SibSp         0\n",
              "Parch         0\n",
              "Ticket        0\n",
              "Fare          1\n",
              "Cabin       327\n",
              "Embarked      0\n",
              "Survived      0\n",
              "dtype: int64"
            ]
          },
          "metadata": {},
          "execution_count": 28
        }
      ]
    },
    {
      "cell_type": "code",
      "source": [
        "test_tot = test_tot.drop([\"Name\",'Ticket',\"Cabin\" ], axis = 1)"
      ],
      "metadata": {
        "id": "TkkOQ92MVIrX"
      },
      "execution_count": null,
      "outputs": []
    },
    {
      "cell_type": "code",
      "source": [
        "test_tot = test_tot.dropna()\n",
        "test_tot.isna().sum()"
      ],
      "metadata": {
        "colab": {
          "base_uri": "https://localhost:8080/"
        },
        "id": "oYG512aDVMkU",
        "outputId": "500d7213-4138-474c-ec4f-6c0fadd6aa52"
      },
      "execution_count": null,
      "outputs": [
        {
          "output_type": "execute_result",
          "data": {
            "text/plain": [
              "Pclass      0\n",
              "Sex         0\n",
              "Age         0\n",
              "SibSp       0\n",
              "Parch       0\n",
              "Fare        0\n",
              "Embarked    0\n",
              "Survived    0\n",
              "dtype: int64"
            ]
          },
          "metadata": {},
          "execution_count": 30
        }
      ]
    },
    {
      "cell_type": "code",
      "source": [
        "test_X_clean = test_tot.drop([\"Survived\"], axis = 1)\n"
      ],
      "metadata": {
        "id": "FzPJh3-lVTBu"
      },
      "execution_count": null,
      "outputs": []
    },
    {
      "cell_type": "code",
      "source": [
        "test_X_dum = pd.get_dummies(test_X_clean)\n",
        "test_X_dum"
      ],
      "metadata": {
        "colab": {
          "base_uri": "https://localhost:8080/",
          "height": 455
        },
        "id": "pF_MwgbJPOEe",
        "outputId": "f5e186b5-da42-45c3-f742-7be8c041196b"
      },
      "execution_count": null,
      "outputs": [
        {
          "output_type": "execute_result",
          "data": {
            "text/plain": [
              "             Pclass   Age  SibSp  Parch      Fare  Sex_female  Sex_male  \\\n",
              "PassengerId                                                               \n",
              "892               3  34.5      0      0    7.8292           0         1   \n",
              "893               3  47.0      1      0    7.0000           1         0   \n",
              "894               2  62.0      0      0    9.6875           0         1   \n",
              "895               3  27.0      0      0    8.6625           0         1   \n",
              "896               3  22.0      1      1   12.2875           1         0   \n",
              "...             ...   ...    ...    ...       ...         ...       ...   \n",
              "1301              3   3.0      1      1   13.7750           1         0   \n",
              "1303              1  37.0      1      0   90.0000           1         0   \n",
              "1304              3  28.0      0      0    7.7750           1         0   \n",
              "1306              1  39.0      0      0  108.9000           1         0   \n",
              "1307              3  38.5      0      0    7.2500           0         1   \n",
              "\n",
              "             Embarked_C  Embarked_Q  Embarked_S  \n",
              "PassengerId                                      \n",
              "892                   0           1           0  \n",
              "893                   0           0           1  \n",
              "894                   0           1           0  \n",
              "895                   0           0           1  \n",
              "896                   0           0           1  \n",
              "...                 ...         ...         ...  \n",
              "1301                  0           0           1  \n",
              "1303                  0           1           0  \n",
              "1304                  0           0           1  \n",
              "1306                  1           0           0  \n",
              "1307                  0           0           1  \n",
              "\n",
              "[331 rows x 10 columns]"
            ],
            "text/html": [
              "\n",
              "  <div id=\"df-5b01fb0c-e966-4717-b0a1-e5ee88a5bed6\">\n",
              "    <div class=\"colab-df-container\">\n",
              "      <div>\n",
              "<style scoped>\n",
              "    .dataframe tbody tr th:only-of-type {\n",
              "        vertical-align: middle;\n",
              "    }\n",
              "\n",
              "    .dataframe tbody tr th {\n",
              "        vertical-align: top;\n",
              "    }\n",
              "\n",
              "    .dataframe thead th {\n",
              "        text-align: right;\n",
              "    }\n",
              "</style>\n",
              "<table border=\"1\" class=\"dataframe\">\n",
              "  <thead>\n",
              "    <tr style=\"text-align: right;\">\n",
              "      <th></th>\n",
              "      <th>Pclass</th>\n",
              "      <th>Age</th>\n",
              "      <th>SibSp</th>\n",
              "      <th>Parch</th>\n",
              "      <th>Fare</th>\n",
              "      <th>Sex_female</th>\n",
              "      <th>Sex_male</th>\n",
              "      <th>Embarked_C</th>\n",
              "      <th>Embarked_Q</th>\n",
              "      <th>Embarked_S</th>\n",
              "    </tr>\n",
              "    <tr>\n",
              "      <th>PassengerId</th>\n",
              "      <th></th>\n",
              "      <th></th>\n",
              "      <th></th>\n",
              "      <th></th>\n",
              "      <th></th>\n",
              "      <th></th>\n",
              "      <th></th>\n",
              "      <th></th>\n",
              "      <th></th>\n",
              "      <th></th>\n",
              "    </tr>\n",
              "  </thead>\n",
              "  <tbody>\n",
              "    <tr>\n",
              "      <th>892</th>\n",
              "      <td>3</td>\n",
              "      <td>34.5</td>\n",
              "      <td>0</td>\n",
              "      <td>0</td>\n",
              "      <td>7.8292</td>\n",
              "      <td>0</td>\n",
              "      <td>1</td>\n",
              "      <td>0</td>\n",
              "      <td>1</td>\n",
              "      <td>0</td>\n",
              "    </tr>\n",
              "    <tr>\n",
              "      <th>893</th>\n",
              "      <td>3</td>\n",
              "      <td>47.0</td>\n",
              "      <td>1</td>\n",
              "      <td>0</td>\n",
              "      <td>7.0000</td>\n",
              "      <td>1</td>\n",
              "      <td>0</td>\n",
              "      <td>0</td>\n",
              "      <td>0</td>\n",
              "      <td>1</td>\n",
              "    </tr>\n",
              "    <tr>\n",
              "      <th>894</th>\n",
              "      <td>2</td>\n",
              "      <td>62.0</td>\n",
              "      <td>0</td>\n",
              "      <td>0</td>\n",
              "      <td>9.6875</td>\n",
              "      <td>0</td>\n",
              "      <td>1</td>\n",
              "      <td>0</td>\n",
              "      <td>1</td>\n",
              "      <td>0</td>\n",
              "    </tr>\n",
              "    <tr>\n",
              "      <th>895</th>\n",
              "      <td>3</td>\n",
              "      <td>27.0</td>\n",
              "      <td>0</td>\n",
              "      <td>0</td>\n",
              "      <td>8.6625</td>\n",
              "      <td>0</td>\n",
              "      <td>1</td>\n",
              "      <td>0</td>\n",
              "      <td>0</td>\n",
              "      <td>1</td>\n",
              "    </tr>\n",
              "    <tr>\n",
              "      <th>896</th>\n",
              "      <td>3</td>\n",
              "      <td>22.0</td>\n",
              "      <td>1</td>\n",
              "      <td>1</td>\n",
              "      <td>12.2875</td>\n",
              "      <td>1</td>\n",
              "      <td>0</td>\n",
              "      <td>0</td>\n",
              "      <td>0</td>\n",
              "      <td>1</td>\n",
              "    </tr>\n",
              "    <tr>\n",
              "      <th>...</th>\n",
              "      <td>...</td>\n",
              "      <td>...</td>\n",
              "      <td>...</td>\n",
              "      <td>...</td>\n",
              "      <td>...</td>\n",
              "      <td>...</td>\n",
              "      <td>...</td>\n",
              "      <td>...</td>\n",
              "      <td>...</td>\n",
              "      <td>...</td>\n",
              "    </tr>\n",
              "    <tr>\n",
              "      <th>1301</th>\n",
              "      <td>3</td>\n",
              "      <td>3.0</td>\n",
              "      <td>1</td>\n",
              "      <td>1</td>\n",
              "      <td>13.7750</td>\n",
              "      <td>1</td>\n",
              "      <td>0</td>\n",
              "      <td>0</td>\n",
              "      <td>0</td>\n",
              "      <td>1</td>\n",
              "    </tr>\n",
              "    <tr>\n",
              "      <th>1303</th>\n",
              "      <td>1</td>\n",
              "      <td>37.0</td>\n",
              "      <td>1</td>\n",
              "      <td>0</td>\n",
              "      <td>90.0000</td>\n",
              "      <td>1</td>\n",
              "      <td>0</td>\n",
              "      <td>0</td>\n",
              "      <td>1</td>\n",
              "      <td>0</td>\n",
              "    </tr>\n",
              "    <tr>\n",
              "      <th>1304</th>\n",
              "      <td>3</td>\n",
              "      <td>28.0</td>\n",
              "      <td>0</td>\n",
              "      <td>0</td>\n",
              "      <td>7.7750</td>\n",
              "      <td>1</td>\n",
              "      <td>0</td>\n",
              "      <td>0</td>\n",
              "      <td>0</td>\n",
              "      <td>1</td>\n",
              "    </tr>\n",
              "    <tr>\n",
              "      <th>1306</th>\n",
              "      <td>1</td>\n",
              "      <td>39.0</td>\n",
              "      <td>0</td>\n",
              "      <td>0</td>\n",
              "      <td>108.9000</td>\n",
              "      <td>1</td>\n",
              "      <td>0</td>\n",
              "      <td>1</td>\n",
              "      <td>0</td>\n",
              "      <td>0</td>\n",
              "    </tr>\n",
              "    <tr>\n",
              "      <th>1307</th>\n",
              "      <td>3</td>\n",
              "      <td>38.5</td>\n",
              "      <td>0</td>\n",
              "      <td>0</td>\n",
              "      <td>7.2500</td>\n",
              "      <td>0</td>\n",
              "      <td>1</td>\n",
              "      <td>0</td>\n",
              "      <td>0</td>\n",
              "      <td>1</td>\n",
              "    </tr>\n",
              "  </tbody>\n",
              "</table>\n",
              "<p>331 rows × 10 columns</p>\n",
              "</div>\n",
              "      <button class=\"colab-df-convert\" onclick=\"convertToInteractive('df-5b01fb0c-e966-4717-b0a1-e5ee88a5bed6')\"\n",
              "              title=\"Convert this dataframe to an interactive table.\"\n",
              "              style=\"display:none;\">\n",
              "        \n",
              "  <svg xmlns=\"http://www.w3.org/2000/svg\" height=\"24px\"viewBox=\"0 0 24 24\"\n",
              "       width=\"24px\">\n",
              "    <path d=\"M0 0h24v24H0V0z\" fill=\"none\"/>\n",
              "    <path d=\"M18.56 5.44l.94 2.06.94-2.06 2.06-.94-2.06-.94-.94-2.06-.94 2.06-2.06.94zm-11 1L8.5 8.5l.94-2.06 2.06-.94-2.06-.94L8.5 2.5l-.94 2.06-2.06.94zm10 10l.94 2.06.94-2.06 2.06-.94-2.06-.94-.94-2.06-.94 2.06-2.06.94z\"/><path d=\"M17.41 7.96l-1.37-1.37c-.4-.4-.92-.59-1.43-.59-.52 0-1.04.2-1.43.59L10.3 9.45l-7.72 7.72c-.78.78-.78 2.05 0 2.83L4 21.41c.39.39.9.59 1.41.59.51 0 1.02-.2 1.41-.59l7.78-7.78 2.81-2.81c.8-.78.8-2.07 0-2.86zM5.41 20L4 18.59l7.72-7.72 1.47 1.35L5.41 20z\"/>\n",
              "  </svg>\n",
              "      </button>\n",
              "      \n",
              "  <style>\n",
              "    .colab-df-container {\n",
              "      display:flex;\n",
              "      flex-wrap:wrap;\n",
              "      gap: 12px;\n",
              "    }\n",
              "\n",
              "    .colab-df-convert {\n",
              "      background-color: #E8F0FE;\n",
              "      border: none;\n",
              "      border-radius: 50%;\n",
              "      cursor: pointer;\n",
              "      display: none;\n",
              "      fill: #1967D2;\n",
              "      height: 32px;\n",
              "      padding: 0 0 0 0;\n",
              "      width: 32px;\n",
              "    }\n",
              "\n",
              "    .colab-df-convert:hover {\n",
              "      background-color: #E2EBFA;\n",
              "      box-shadow: 0px 1px 2px rgba(60, 64, 67, 0.3), 0px 1px 3px 1px rgba(60, 64, 67, 0.15);\n",
              "      fill: #174EA6;\n",
              "    }\n",
              "\n",
              "    [theme=dark] .colab-df-convert {\n",
              "      background-color: #3B4455;\n",
              "      fill: #D2E3FC;\n",
              "    }\n",
              "\n",
              "    [theme=dark] .colab-df-convert:hover {\n",
              "      background-color: #434B5C;\n",
              "      box-shadow: 0px 1px 3px 1px rgba(0, 0, 0, 0.15);\n",
              "      filter: drop-shadow(0px 1px 2px rgba(0, 0, 0, 0.3));\n",
              "      fill: #FFFFFF;\n",
              "    }\n",
              "  </style>\n",
              "\n",
              "      <script>\n",
              "        const buttonEl =\n",
              "          document.querySelector('#df-5b01fb0c-e966-4717-b0a1-e5ee88a5bed6 button.colab-df-convert');\n",
              "        buttonEl.style.display =\n",
              "          google.colab.kernel.accessAllowed ? 'block' : 'none';\n",
              "\n",
              "        async function convertToInteractive(key) {\n",
              "          const element = document.querySelector('#df-5b01fb0c-e966-4717-b0a1-e5ee88a5bed6');\n",
              "          const dataTable =\n",
              "            await google.colab.kernel.invokeFunction('convertToInteractive',\n",
              "                                                     [key], {});\n",
              "          if (!dataTable) return;\n",
              "\n",
              "          const docLinkHtml = 'Like what you see? Visit the ' +\n",
              "            '<a target=\"_blank\" href=https://colab.research.google.com/notebooks/data_table.ipynb>data table notebook</a>'\n",
              "            + ' to learn more about interactive tables.';\n",
              "          element.innerHTML = '';\n",
              "          dataTable['output_type'] = 'display_data';\n",
              "          await google.colab.output.renderOutput(dataTable, element);\n",
              "          const docLink = document.createElement('div');\n",
              "          docLink.innerHTML = docLinkHtml;\n",
              "          element.appendChild(docLink);\n",
              "        }\n",
              "      </script>\n",
              "    </div>\n",
              "  </div>\n",
              "  "
            ]
          },
          "metadata": {},
          "execution_count": 32
        }
      ]
    },
    {
      "cell_type": "code",
      "source": [
        "test_Y = test_tot['Survived']\n",
        "test_Y"
      ],
      "metadata": {
        "colab": {
          "base_uri": "https://localhost:8080/"
        },
        "id": "5rzF7FhDRStZ",
        "outputId": "06e06d06-01d5-4d3d-d819-a68ad4a3418c"
      },
      "execution_count": null,
      "outputs": [
        {
          "output_type": "execute_result",
          "data": {
            "text/plain": [
              "PassengerId\n",
              "892     0\n",
              "893     1\n",
              "894     0\n",
              "895     0\n",
              "896     1\n",
              "       ..\n",
              "1301    1\n",
              "1303    1\n",
              "1304    1\n",
              "1306    1\n",
              "1307    0\n",
              "Name: Survived, Length: 331, dtype: int64"
            ]
          },
          "metadata": {},
          "execution_count": 33
        }
      ]
    },
    {
      "cell_type": "code",
      "source": [
        "from sklearn.preprocessing import StandardScaler\n",
        "\n",
        "scaler = StandardScaler()\n",
        "train_X_dum_scale = scaler.fit_transform(train_X_dum)\n",
        "test_X_dum_scale = scaler.transform(test_X_dum)"
      ],
      "metadata": {
        "id": "QMs6J_jBstEC"
      },
      "execution_count": null,
      "outputs": []
    },
    {
      "cell_type": "markdown",
      "source": [
        "##Models"
      ],
      "metadata": {
        "id": "VwYlgqQ0Rlym"
      }
    },
    {
      "cell_type": "markdown",
      "source": [
        "####Decision Tree"
      ],
      "metadata": {
        "id": "W5nT5GjCR4bG"
      }
    },
    {
      "cell_type": "code",
      "source": [
        "from sklearn.tree import DecisionTreeClassifier\n",
        "from sklearn import metrics #Import scikit-learn metrics module for accuracy calculation\n"
      ],
      "metadata": {
        "id": "JoZkKzgvRb4p"
      },
      "execution_count": null,
      "outputs": []
    },
    {
      "cell_type": "code",
      "source": [
        "clf = DecisionTreeClassifier(random_state=0)\n",
        "clf = clf.fit(train_X_dum_scale, train_Y)\n"
      ],
      "metadata": {
        "id": "YEeZFRk8SNNe"
      },
      "execution_count": null,
      "outputs": []
    },
    {
      "cell_type": "code",
      "source": [
        "y_pred = clf.predict(test_X_dum_scale)"
      ],
      "metadata": {
        "id": "kUa0uIybSa8_"
      },
      "execution_count": null,
      "outputs": []
    },
    {
      "cell_type": "code",
      "source": [
        "print(\"Accuracy:\",metrics.accuracy_score(test_Y, y_pred))\n"
      ],
      "metadata": {
        "colab": {
          "base_uri": "https://localhost:8080/"
        },
        "id": "VVs2rgdFUaF-",
        "outputId": "f3503cf7-cbd5-4209-8e3e-bcb197e8f39e"
      },
      "execution_count": null,
      "outputs": [
        {
          "output_type": "stream",
          "name": "stdout",
          "text": [
            "Accuracy: 0.770392749244713\n"
          ]
        }
      ]
    },
    {
      "cell_type": "code",
      "source": [
        "importance = clf.feature_importances_\n",
        "i = 0\n",
        "\n",
        "while i < len(test_X_dum.columns):\n",
        "  print(\"L'importance relative de \",test_X_dum.columns[i],'est de ', round(importance[i]*100, 2), '%')\n",
        "  i += 1"
      ],
      "metadata": {
        "colab": {
          "base_uri": "https://localhost:8080/"
        },
        "id": "iqd2NJh_q-3U",
        "outputId": "a429f2f0-3db5-4d4e-b5a9-a2832ed2c650"
      },
      "execution_count": null,
      "outputs": [
        {
          "output_type": "stream",
          "name": "stdout",
          "text": [
            "L'importance relative de  Pclass est de  13.38 %\n",
            "L'importance relative de  Age est de  26.0 %\n",
            "L'importance relative de  SibSp est de  5.87 %\n",
            "L'importance relative de  Parch est de  2.42 %\n",
            "L'importance relative de  Fare est de  20.24 %\n",
            "L'importance relative de  Sex_female est de  0.0 %\n",
            "L'importance relative de  Sex_male est de  29.74 %\n",
            "L'importance relative de  Embarked_C est de  1.4 %\n",
            "L'importance relative de  Embarked_Q est de  0.12 %\n",
            "L'importance relative de  Embarked_S est de  0.84 %\n"
          ]
        }
      ]
    },
    {
      "cell_type": "markdown",
      "source": [
        "#####Vizualisation"
      ],
      "metadata": {
        "id": "LnbbfS0LWUvR"
      }
    },
    {
      "cell_type": "code",
      "source": [
        "from sklearn import tree\n",
        "\n",
        "fig = plt.figure(figsize=(25,20))\n",
        "_ = tree.plot_tree(clf,\n",
        "                   feature_names = train_X_dum.columns,\n",
        "                   filled=True)"
      ],
      "metadata": {
        "colab": {
          "base_uri": "https://localhost:8080/",
          "height": 868
        },
        "id": "GfiF6M0BWri6",
        "outputId": "5196f481-8fa6-491b-f384-7e9fbc2f54b1"
      },
      "execution_count": null,
      "outputs": [
        {
          "output_type": "display_data",
          "data": {
            "text/plain": [
              "<Figure size 1800x1440 with 1 Axes>"
            ],
            "image/png": "[encoded data removed]"
          },
          "metadata": {
            "needs_background": "light"
          }
        }
      ]
    },
    {
      "cell_type": "markdown",
      "source": [
        "####Gradient Boosting"
      ],
      "metadata": {
        "id": "2tG2cz-sWG_a"
      }
    },
    {
      "cell_type": "code",
      "source": [
        "from sklearn.ensemble import AdaBoostClassifier"
      ],
      "metadata": {
        "id": "7YsQw-wdWLn-"
      },
      "execution_count": null,
      "outputs": []
    },
    {
      "cell_type": "code",
      "source": [
        "ada_clf = AdaBoostClassifier(n_estimators=100, random_state=0)\n",
        "ada_clf.fit(train_X_dum_scale, train_Y)\n"
      ],
      "metadata": {
        "colab": {
          "base_uri": "https://localhost:8080/"
        },
        "id": "0N1KV4eKXNai",
        "outputId": "7aa8979a-4835-4488-d01d-5a454379eb2e"
      },
      "execution_count": null,
      "outputs": [
        {
          "output_type": "execute_result",
          "data": {
            "text/plain": [
              "AdaBoostClassifier(n_estimators=100, random_state=0)"
            ]
          },
          "metadata": {},
          "execution_count": 42
        }
      ]
    },
    {
      "cell_type": "code",
      "source": [
        "y_pred_ada = ada_clf.predict(test_X_dum_scale)"
      ],
      "metadata": {
        "id": "nDGekXhOYLKC"
      },
      "execution_count": null,
      "outputs": []
    },
    {
      "cell_type": "code",
      "source": [
        "print(\"Accuracy:\",metrics.accuracy_score(test_Y, y_pred_ada))\n"
      ],
      "metadata": {
        "colab": {
          "base_uri": "https://localhost:8080/"
        },
        "id": "cYX3GP4uYSnf",
        "outputId": "4ad8d815-6445-4e7b-9b31-3a83fb5f4b53"
      },
      "execution_count": null,
      "outputs": [
        {
          "output_type": "stream",
          "name": "stdout",
          "text": [
            "Accuracy: 0.8942598187311178\n"
          ]
        }
      ]
    },
    {
      "cell_type": "code",
      "source": [
        "importance = ada_clf.feature_importances_\n",
        "i = 0\n",
        "\n",
        "while i < len(test_X_dum.columns):\n",
        "  print(\"L'importance relative de \",test_X_dum.columns[i],'est de ', round(importance[i]*100, 2), '%')\n",
        "  i += 1"
      ],
      "metadata": {
        "colab": {
          "base_uri": "https://localhost:8080/"
        },
        "id": "j6eBBAuwqyvM",
        "outputId": "c7cdb114-c587-4063-9ead-21691602fd75"
      },
      "execution_count": null,
      "outputs": [
        {
          "output_type": "stream",
          "name": "stdout",
          "text": [
            "L'importance relative de  Pclass est de  3.0 %\n",
            "L'importance relative de  Age est de  33.0 %\n",
            "L'importance relative de  SibSp est de  5.0 %\n",
            "L'importance relative de  Parch est de  1.0 %\n",
            "L'importance relative de  Fare est de  53.0 %\n",
            "L'importance relative de  Sex_female est de  0.0 %\n",
            "L'importance relative de  Sex_male est de  4.0 %\n",
            "L'importance relative de  Embarked_C est de  1.0 %\n",
            "L'importance relative de  Embarked_Q est de  0.0 %\n",
            "L'importance relative de  Embarked_S est de  0.0 %\n"
          ]
        }
      ]
    },
    {
      "cell_type": "code",
      "source": [],
      "metadata": {
        "id": "76mLs72Uqo7T"
      },
      "execution_count": null,
      "outputs": []
    },
    {
      "cell_type": "code",
      "source": [
        "from sklearn.model_selection import GridSearchCV\n",
        "\n",
        "abc = AdaBoostClassifier(base_estimator=DecisionTreeClassifier())\n",
        "\n",
        "parameters = {'base_estimator__max_depth':[i for i in range(2,11,2)],\n",
        "              'base_estimator__min_samples_leaf':[5,10],\n",
        "              'n_estimators':[10,50,250,1000],\n",
        "              'learning_rate':[0.01,0.1]}\n",
        "\n",
        "clf_grid = GridSearchCV(abc, parameters,verbose=3,scoring='f1',n_jobs=-1)\n",
        "clf_grid.fit(train_X_dum, train_Y)\n",
        "\n"
      ],
      "metadata": {
        "colab": {
          "base_uri": "https://localhost:8080/"
        },
        "id": "HR3EGFYoYUIE",
        "outputId": "ff0c54bf-44b2-49ce-a45c-d85bfb232afb"
      },
      "execution_count": null,
      "outputs": [
        {
          "output_type": "stream",
          "name": "stdout",
          "text": [
            "Fitting 5 folds for each of 80 candidates, totalling 400 fits\n"
          ]
        },
        {
          "output_type": "execute_result",
          "data": {
            "text/plain": [
              "GridSearchCV(estimator=AdaBoostClassifier(base_estimator=DecisionTreeClassifier()),\n",
              "             n_jobs=-1,\n",
              "             param_grid={'base_estimator__max_depth': [2, 4, 6, 8, 10],\n",
              "                         'base_estimator__min_samples_leaf': [5, 10],\n",
              "                         'learning_rate': [0.01, 0.1],\n",
              "                         'n_estimators': [10, 50, 250, 1000]},\n",
              "             scoring='f1', verbose=3)"
            ]
          },
          "metadata": {},
          "execution_count": 46
        }
      ]
    },
    {
      "cell_type": "code",
      "source": [
        "y_pred_ada_grid = clf_grid.predict(test_X_dum)\n",
        "print(\"Accuracy:\",metrics.accuracy_score(test_Y, y_pred_ada_grid))\n"
      ],
      "metadata": {
        "colab": {
          "base_uri": "https://localhost:8080/"
        },
        "id": "TCC9JGOOYrOA",
        "outputId": "dac9d60f-368c-427b-c41c-1a9445a4b56e"
      },
      "execution_count": null,
      "outputs": [
        {
          "output_type": "stream",
          "name": "stdout",
          "text": [
            "Accuracy: 0.8700906344410876\n"
          ]
        }
      ]
    },
    {
      "cell_type": "markdown",
      "source": [
        "####Random Forest"
      ],
      "metadata": {
        "id": "tQMQPM9um_bn"
      }
    },
    {
      "cell_type": "code",
      "source": [
        "from sklearn.ensemble import RandomForestClassifier\n",
        "from sklearn.datasets import make_classification"
      ],
      "metadata": {
        "id": "XpjgNRRwnBl_"
      },
      "execution_count": null,
      "outputs": []
    },
    {
      "cell_type": "code",
      "source": [
        "rdf = RandomForestClassifier(max_depth=2, random_state=0)"
      ],
      "metadata": {
        "id": "feoQAUa6nLht"
      },
      "execution_count": null,
      "outputs": []
    },
    {
      "cell_type": "code",
      "source": [
        "rdf.fit(train_X_dum_scale, train_Y)\n",
        "y_pred_rdf = rdf.predict(test_X_dum_scale)"
      ],
      "metadata": {
        "id": "1KM1faSQnPNH"
      },
      "execution_count": null,
      "outputs": []
    },
    {
      "cell_type": "code",
      "source": [
        "print(\"Accuracy:\",metrics.accuracy_score(test_Y, y_pred_rdf))\n"
      ],
      "metadata": {
        "colab": {
          "base_uri": "https://localhost:8080/"
        },
        "id": "RTjzYOVbnTfs",
        "outputId": "c5ca97f4-956b-4b73-922e-d357585d55e6"
      },
      "execution_count": null,
      "outputs": [
        {
          "output_type": "stream",
          "name": "stdout",
          "text": [
            "Accuracy: 1.0\n"
          ]
        }
      ]
    },
    {
      "cell_type": "code",
      "source": [
        "rdf.predict_proba(test_X_dum_scale)[:10]"
      ],
      "metadata": {
        "colab": {
          "base_uri": "https://localhost:8080/"
        },
        "id": "KtjVfeEnnd_k",
        "outputId": "b0c5f455-054a-4ee7-c34d-529a9f615641"
      },
      "execution_count": null,
      "outputs": [
        {
          "output_type": "execute_result",
          "data": {
            "text/plain": [
              "array([[0.81619636, 0.18380364],\n",
              "       [0.47693326, 0.52306674],\n",
              "       [0.78451001, 0.21548999],\n",
              "       [0.81727816, 0.18272184],\n",
              "       [0.43329436, 0.56670564],\n",
              "       [0.81389219, 0.18610781],\n",
              "       [0.47487296, 0.52512704],\n",
              "       [0.72122281, 0.27877719],\n",
              "       [0.43660871, 0.56339129],\n",
              "       [0.79217028, 0.20782972]])"
            ]
          },
          "metadata": {},
          "execution_count": 52
        }
      ]
    },
    {
      "cell_type": "code",
      "source": [
        "rdf.feature_importances_"
      ],
      "metadata": {
        "colab": {
          "base_uri": "https://localhost:8080/"
        },
        "id": "Ph3bv0FxpPDd",
        "outputId": "909e0798-e7c9-4f72-e450-ac7209a9eee9"
      },
      "execution_count": null,
      "outputs": [
        {
          "output_type": "execute_result",
          "data": {
            "text/plain": [
              "array([0.14446725, 0.03434812, 0.00949961, 0.01672763, 0.10496907,\n",
              "       0.30869195, 0.34939103, 0.02766314, 0.00089364, 0.00334857])"
            ]
          },
          "metadata": {},
          "execution_count": 53
        }
      ]
    },
    {
      "cell_type": "code",
      "source": [
        "importance = rdf.feature_importances_\n",
        "i = 0\n",
        "\n",
        "while i < len(test_X_dum.columns):\n",
        "  print(\"L'importance relative de \",test_X_dum.columns[i],'est de ', round(importance[i]*100, 2), '%')\n",
        "  i += 1"
      ],
      "metadata": {
        "colab": {
          "base_uri": "https://localhost:8080/"
        },
        "id": "J3fSEHkypgXH",
        "outputId": "6c228444-97db-412b-a79c-02e476d74fc5"
      },
      "execution_count": null,
      "outputs": [
        {
          "output_type": "stream",
          "name": "stdout",
          "text": [
            "L'importance relative de  Pclass est de  14.45 %\n",
            "L'importance relative de  Age est de  3.43 %\n",
            "L'importance relative de  SibSp est de  0.95 %\n",
            "L'importance relative de  Parch est de  1.67 %\n",
            "L'importance relative de  Fare est de  10.5 %\n",
            "L'importance relative de  Sex_female est de  30.87 %\n",
            "L'importance relative de  Sex_male est de  34.94 %\n",
            "L'importance relative de  Embarked_C est de  2.77 %\n",
            "L'importance relative de  Embarked_Q est de  0.09 %\n",
            "L'importance relative de  Embarked_S est de  0.33 %\n"
          ]
        }
      ]
    },
    {
      "cell_type": "code",
      "source": [],
      "metadata": {
        "id": "JETvyBwfpwNG"
      },
      "execution_count": null,
      "outputs": []
    },
    {
      "cell_type": "markdown",
      "source": [
        "####SVC"
      ],
      "metadata": {
        "id": "UVc5YHcprLhp"
      }
    },
    {
      "cell_type": "code",
      "source": [
        "from sklearn.svm import SVC"
      ],
      "metadata": {
        "id": "abz2JviCrNDc"
      },
      "execution_count": null,
      "outputs": []
    },
    {
      "cell_type": "code",
      "source": [
        "clf_SVC = SVC(gamma='auto')\n",
        "clf_SVC.fit(train_X_dum_scale, train_Y)\n",
        "y_pred_SVC = clf_SVC.predict(test_X_dum_scale)"
      ],
      "metadata": {
        "id": "A4hzPDQ1rTk7"
      },
      "execution_count": null,
      "outputs": []
    },
    {
      "cell_type": "code",
      "source": [
        "print(\"Accuracy:\",metrics.accuracy_score(test_Y, y_pred_SVC))\n"
      ],
      "metadata": {
        "colab": {
          "base_uri": "https://localhost:8080/"
        },
        "id": "YyGDSxWqrhiy",
        "outputId": "006add6c-ea09-4185-f04b-7edcc8d70c67"
      },
      "execution_count": null,
      "outputs": [
        {
          "output_type": "stream",
          "name": "stdout",
          "text": [
            "Accuracy: 0.9365558912386707\n"
          ]
        }
      ]
    },
    {
      "cell_type": "markdown",
      "source": [
        "####Tensorflow - deep learning"
      ],
      "metadata": {
        "id": "SZQQVvu4t_vF"
      }
    },
    {
      "cell_type": "code",
      "source": [
        "import tensorflow as tf\n",
        "tf.random.set_seed(42)"
      ],
      "metadata": {
        "id": "9GLBUN_guG_O"
      },
      "execution_count": null,
      "outputs": []
    },
    {
      "cell_type": "code",
      "source": [
        "\n",
        "model = tf.keras.Sequential([\n",
        "    tf.keras.layers.Dense(128, activation='relu'),\n",
        "    tf.keras.layers.Dense(256, activation='relu'),\n",
        "    tf.keras.layers.Dense(256, activation='relu'),\n",
        "    tf.keras.layers.Dense(1, activation='sigmoid')\n",
        "])\n"
      ],
      "metadata": {
        "id": "JCMLea6guN6n"
      },
      "execution_count": null,
      "outputs": []
    },
    {
      "cell_type": "code",
      "source": [
        "model.compile(\n",
        "    loss=tf.keras.losses.binary_crossentropy,\n",
        "    optimizer=tf.keras.optimizers.Adam(lr=0.003),\n",
        "    metrics=[\n",
        "        tf.keras.metrics.BinaryAccuracy(name='accuracy'),\n",
        "        tf.keras.metrics.Precision(name='precision'),\n",
        "        tf.keras.metrics.Recall(name='recall')\n",
        "    ]\n",
        ")\n",
        "\n",
        "n_epoch = 200\n",
        "history = model.fit(train_X_dum_scale, train_Y, epochs=n_epoch)"
      ],
      "metadata": {
        "colab": {
          "base_uri": "https://localhost:8080/"
        },
        "id": "odkoNSJvuMOm",
        "outputId": "b1544da4-c2b8-4951-89f5-8f877460492e"
      },
      "execution_count": null,
      "outputs": [
        {
          "metadata": {
            "tags": null
          },
          "name": "stderr",
          "output_type": "stream",
          "text": [
            "/usr/local/lib/python3.7/dist-packages/keras/optimizers/optimizer_v2/adam.py:110: UserWarning: The `lr` argument is deprecated, use `learning_rate` instead.\n",
            "  super(Adam, self).__init__(name, **kwargs)\n"
          ]
        },
        {
          "output_type": "stream",
          "name": "stdout",
          "text": [
            "Epoch 1/200\n",
            "23/23 [==============================] - 1s 5ms/step - loss: 0.4877 - accuracy: 0.7795 - precision: 0.7472 - recall: 0.6875\n",
            "Epoch 2/200\n",
            "23/23 [==============================] - 0s 4ms/step - loss: 0.4293 - accuracy: 0.8202 - precision: 0.8279 - recall: 0.7014\n",
            "Epoch 3/200\n",
            "23/23 [==============================] - 0s 4ms/step - loss: 0.4238 - accuracy: 0.8258 - precision: 0.8228 - recall: 0.7257\n",
            "Epoch 4/200\n",
            "23/23 [==============================] - 0s 4ms/step - loss: 0.4162 - accuracy: 0.8329 - precision: 0.8658 - recall: 0.6944\n",
            "Epoch 5/200\n",
            "23/23 [==============================] - 0s 4ms/step - loss: 0.4049 - accuracy: 0.8427 - precision: 0.8667 - recall: 0.7222\n",
            "Epoch 6/200\n",
            "23/23 [==============================] - 0s 5ms/step - loss: 0.4095 - accuracy: 0.8202 - precision: 0.8478 - recall: 0.6771\n",
            "Epoch 7/200\n",
            "23/23 [==============================] - 0s 4ms/step - loss: 0.3926 - accuracy: 0.8455 - precision: 0.8560 - recall: 0.7431\n",
            "Epoch 8/200\n",
            "23/23 [==============================] - 0s 4ms/step - loss: 0.3900 - accuracy: 0.8244 - precision: 0.8410 - recall: 0.6979\n",
            "Epoch 9/200\n",
            "23/23 [==============================] - 0s 4ms/step - loss: 0.3898 - accuracy: 0.8301 - precision: 0.8408 - recall: 0.7153\n",
            "Epoch 10/200\n",
            "23/23 [==============================] - 0s 5ms/step - loss: 0.3796 - accuracy: 0.8497 - precision: 0.8664 - recall: 0.7431\n",
            "Epoch 11/200\n",
            "23/23 [==============================] - 0s 4ms/step - loss: 0.3772 - accuracy: 0.8469 - precision: 0.8566 - recall: 0.7465\n",
            "Epoch 12/200\n",
            "23/23 [==============================] - 0s 4ms/step - loss: 0.3608 - accuracy: 0.8539 - precision: 0.8770 - recall: 0.7431\n",
            "Epoch 13/200\n",
            "23/23 [==============================] - 0s 4ms/step - loss: 0.3579 - accuracy: 0.8525 - precision: 0.8588 - recall: 0.7604\n",
            "Epoch 14/200\n",
            "23/23 [==============================] - 0s 4ms/step - loss: 0.3607 - accuracy: 0.8469 - precision: 0.8623 - recall: 0.7396\n",
            "Epoch 15/200\n",
            "23/23 [==============================] - 0s 4ms/step - loss: 0.3561 - accuracy: 0.8497 - precision: 0.8606 - recall: 0.7500\n",
            "Epoch 16/200\n",
            "23/23 [==============================] - 0s 4ms/step - loss: 0.3547 - accuracy: 0.8539 - precision: 0.8966 - recall: 0.7222\n",
            "Epoch 17/200\n",
            "23/23 [==============================] - 0s 4ms/step - loss: 0.3582 - accuracy: 0.8483 - precision: 0.8435 - recall: 0.7674\n",
            "Epoch 18/200\n",
            "23/23 [==============================] - 0s 4ms/step - loss: 0.3424 - accuracy: 0.8497 - precision: 0.8635 - recall: 0.7465\n",
            "Epoch 19/200\n",
            "23/23 [==============================] - 0s 4ms/step - loss: 0.3470 - accuracy: 0.8694 - precision: 0.8794 - recall: 0.7847\n",
            "Epoch 20/200\n",
            "23/23 [==============================] - 0s 5ms/step - loss: 0.3448 - accuracy: 0.8567 - precision: 0.8875 - recall: 0.7396\n",
            "Epoch 21/200\n",
            "23/23 [==============================] - 0s 4ms/step - loss: 0.3569 - accuracy: 0.8539 - precision: 0.8622 - recall: 0.7604\n",
            "Epoch 22/200\n",
            "23/23 [==============================] - 0s 4ms/step - loss: 0.3352 - accuracy: 0.8624 - precision: 0.8654 - recall: 0.7812\n",
            "Epoch 23/200\n",
            "23/23 [==============================] - 0s 5ms/step - loss: 0.3276 - accuracy: 0.8581 - precision: 0.8667 - recall: 0.7674\n",
            "Epoch 24/200\n",
            "23/23 [==============================] - 0s 4ms/step - loss: 0.3301 - accuracy: 0.8610 - precision: 0.8826 - recall: 0.7569\n",
            "Epoch 25/200\n",
            "23/23 [==============================] - 0s 4ms/step - loss: 0.3426 - accuracy: 0.8567 - precision: 0.8690 - recall: 0.7604\n",
            "Epoch 26/200\n",
            "23/23 [==============================] - 0s 4ms/step - loss: 0.3446 - accuracy: 0.8624 - precision: 0.8626 - recall: 0.7847\n",
            "Epoch 27/200\n",
            "23/23 [==============================] - 0s 4ms/step - loss: 0.3566 - accuracy: 0.8511 - precision: 0.8297 - recall: 0.7951\n",
            "Epoch 28/200\n",
            "23/23 [==============================] - 0s 5ms/step - loss: 0.3316 - accuracy: 0.8652 - precision: 0.8721 - recall: 0.7812\n",
            "Epoch 29/200\n",
            "23/23 [==============================] - 0s 4ms/step - loss: 0.3351 - accuracy: 0.8539 - precision: 0.8511 - recall: 0.7743\n",
            "Epoch 30/200\n",
            "23/23 [==============================] - 0s 4ms/step - loss: 0.3223 - accuracy: 0.8596 - precision: 0.8701 - recall: 0.7674\n",
            "Epoch 31/200\n",
            "23/23 [==============================] - 0s 4ms/step - loss: 0.3289 - accuracy: 0.8638 - precision: 0.9030 - recall: 0.7431\n",
            "Epoch 32/200\n",
            "23/23 [==============================] - 0s 4ms/step - loss: 0.3215 - accuracy: 0.8736 - precision: 0.8837 - recall: 0.7917\n",
            "Epoch 33/200\n",
            "23/23 [==============================] - 0s 4ms/step - loss: 0.3236 - accuracy: 0.8638 - precision: 0.8687 - recall: 0.7812\n",
            "Epoch 34/200\n",
            "23/23 [==============================] - 0s 5ms/step - loss: 0.3104 - accuracy: 0.8708 - precision: 0.8828 - recall: 0.7847\n",
            "Epoch 35/200\n",
            "23/23 [==============================] - 0s 4ms/step - loss: 0.3211 - accuracy: 0.8750 - precision: 0.8996 - recall: 0.7778\n",
            "Epoch 36/200\n",
            "23/23 [==============================] - 0s 4ms/step - loss: 0.3098 - accuracy: 0.8624 - precision: 0.8770 - recall: 0.7674\n",
            "Epoch 37/200\n",
            "23/23 [==============================] - 0s 5ms/step - loss: 0.3205 - accuracy: 0.8694 - precision: 0.8980 - recall: 0.7639\n",
            "Epoch 38/200\n",
            "23/23 [==============================] - 0s 5ms/step - loss: 0.3240 - accuracy: 0.8624 - precision: 0.8493 - recall: 0.8021\n",
            "Epoch 39/200\n",
            "23/23 [==============================] - 0s 5ms/step - loss: 0.3133 - accuracy: 0.8750 - precision: 0.8842 - recall: 0.7951\n",
            "Epoch 40/200\n",
            "23/23 [==============================] - 0s 4ms/step - loss: 0.3140 - accuracy: 0.8638 - precision: 0.8631 - recall: 0.7882\n",
            "Epoch 41/200\n",
            "23/23 [==============================] - 0s 4ms/step - loss: 0.3166 - accuracy: 0.8652 - precision: 0.8902 - recall: 0.7604\n",
            "Epoch 42/200\n",
            "23/23 [==============================] - 0s 4ms/step - loss: 0.2898 - accuracy: 0.8778 - precision: 0.8972 - recall: 0.7882\n",
            "Epoch 43/200\n",
            "23/23 [==============================] - 0s 4ms/step - loss: 0.2959 - accuracy: 0.8806 - precision: 0.8889 - recall: 0.8056\n",
            "Epoch 44/200\n",
            "23/23 [==============================] - 0s 4ms/step - loss: 0.2900 - accuracy: 0.8694 - precision: 0.8794 - recall: 0.7847\n",
            "Epoch 45/200\n",
            "23/23 [==============================] - 0s 4ms/step - loss: 0.2921 - accuracy: 0.8778 - precision: 0.9102 - recall: 0.7743\n",
            "Epoch 46/200\n",
            "23/23 [==============================] - 0s 4ms/step - loss: 0.2865 - accuracy: 0.8792 - precision: 0.9008 - recall: 0.7882\n",
            "Epoch 47/200\n",
            "23/23 [==============================] - 0s 4ms/step - loss: 0.2888 - accuracy: 0.8764 - precision: 0.9065 - recall: 0.7743\n",
            "Epoch 48/200\n",
            "23/23 [==============================] - 0s 5ms/step - loss: 0.2911 - accuracy: 0.8820 - precision: 0.8953 - recall: 0.8021\n",
            "Epoch 49/200\n",
            "23/23 [==============================] - 0s 4ms/step - loss: 0.2899 - accuracy: 0.8792 - precision: 0.8769 - recall: 0.8160\n",
            "Epoch 50/200\n",
            "23/23 [==============================] - 0s 4ms/step - loss: 0.2829 - accuracy: 0.8848 - precision: 0.8787 - recall: 0.8299\n",
            "Epoch 51/200\n",
            "23/23 [==============================] - 0s 5ms/step - loss: 0.3034 - accuracy: 0.8581 - precision: 0.9231 - recall: 0.7083\n",
            "Epoch 52/200\n",
            "23/23 [==============================] - 0s 4ms/step - loss: 0.2839 - accuracy: 0.8764 - precision: 0.8731 - recall: 0.8125\n",
            "Epoch 53/200\n",
            "23/23 [==============================] - 0s 4ms/step - loss: 0.2868 - accuracy: 0.8792 - precision: 0.8769 - recall: 0.8160\n",
            "Epoch 54/200\n",
            "23/23 [==============================] - 0s 4ms/step - loss: 0.2760 - accuracy: 0.8792 - precision: 0.8686 - recall: 0.8264\n",
            "Epoch 55/200\n",
            "23/23 [==============================] - 0s 4ms/step - loss: 0.2767 - accuracy: 0.8722 - precision: 0.8833 - recall: 0.7882\n",
            "Epoch 56/200\n",
            "23/23 [==============================] - 0s 4ms/step - loss: 0.2758 - accuracy: 0.8834 - precision: 0.8810 - recall: 0.8229\n",
            "Epoch 57/200\n",
            "23/23 [==============================] - 0s 5ms/step - loss: 0.2911 - accuracy: 0.8764 - precision: 0.8817 - recall: 0.8021\n",
            "Epoch 58/200\n",
            "23/23 [==============================] - 0s 4ms/step - loss: 0.2930 - accuracy: 0.8610 - precision: 0.8539 - recall: 0.7917\n",
            "Epoch 59/200\n",
            "23/23 [==============================] - 0s 4ms/step - loss: 0.2801 - accuracy: 0.8778 - precision: 0.9036 - recall: 0.7812\n",
            "Epoch 60/200\n",
            "23/23 [==============================] - 0s 5ms/step - loss: 0.2810 - accuracy: 0.8820 - precision: 0.9215 - recall: 0.7743\n",
            "Epoch 61/200\n",
            "23/23 [==============================] - 0s 5ms/step - loss: 0.2732 - accuracy: 0.8834 - precision: 0.8927 - recall: 0.8090\n",
            "Epoch 62/200\n",
            "23/23 [==============================] - 0s 4ms/step - loss: 0.2849 - accuracy: 0.8694 - precision: 0.8884 - recall: 0.7743\n",
            "Epoch 63/200\n",
            "23/23 [==============================] - 0s 4ms/step - loss: 0.2829 - accuracy: 0.8862 - precision: 0.8906 - recall: 0.8194\n",
            "Epoch 64/200\n",
            "23/23 [==============================] - 0s 4ms/step - loss: 0.2701 - accuracy: 0.8806 - precision: 0.8949 - recall: 0.7986\n",
            "Epoch 65/200\n",
            "23/23 [==============================] - 0s 4ms/step - loss: 0.2643 - accuracy: 0.8820 - precision: 0.9080 - recall: 0.7882\n",
            "Epoch 66/200\n",
            "23/23 [==============================] - 0s 4ms/step - loss: 0.2627 - accuracy: 0.8820 - precision: 0.8984 - recall: 0.7986\n",
            "Epoch 67/200\n",
            "23/23 [==============================] - 0s 4ms/step - loss: 0.2638 - accuracy: 0.8750 - precision: 0.8812 - recall: 0.7986\n",
            "Epoch 68/200\n",
            "23/23 [==============================] - 0s 4ms/step - loss: 0.2646 - accuracy: 0.8834 - precision: 0.9253 - recall: 0.7743\n",
            "Epoch 69/200\n",
            "23/23 [==============================] - 0s 4ms/step - loss: 0.2594 - accuracy: 0.8834 - precision: 0.8897 - recall: 0.8125\n",
            "Epoch 70/200\n",
            "23/23 [==============================] - 0s 4ms/step - loss: 0.2604 - accuracy: 0.8904 - precision: 0.8977 - recall: 0.8229\n",
            "Epoch 71/200\n",
            "23/23 [==============================] - 0s 4ms/step - loss: 0.2657 - accuracy: 0.8876 - precision: 0.9000 - recall: 0.8125\n",
            "Epoch 72/200\n",
            "23/23 [==============================] - 0s 5ms/step - loss: 0.2635 - accuracy: 0.8862 - precision: 0.8906 - recall: 0.8194\n",
            "Epoch 73/200\n",
            "23/23 [==============================] - 0s 4ms/step - loss: 0.2600 - accuracy: 0.8820 - precision: 0.8893 - recall: 0.8090\n",
            "Epoch 74/200\n",
            "23/23 [==============================] - 0s 4ms/step - loss: 0.2600 - accuracy: 0.8848 - precision: 0.9055 - recall: 0.7986\n",
            "Epoch 75/200\n",
            "23/23 [==============================] - 0s 4ms/step - loss: 0.2853 - accuracy: 0.8778 - precision: 0.8764 - recall: 0.8125\n",
            "Epoch 76/200\n",
            "23/23 [==============================] - 0s 5ms/step - loss: 0.2742 - accuracy: 0.8750 - precision: 0.9028 - recall: 0.7743\n",
            "Epoch 77/200\n",
            "23/23 [==============================] - 0s 5ms/step - loss: 0.2751 - accuracy: 0.8778 - precision: 0.8736 - recall: 0.8160\n",
            "Epoch 78/200\n",
            "23/23 [==============================] - 0s 4ms/step - loss: 0.2889 - accuracy: 0.8792 - precision: 0.8885 - recall: 0.8021\n",
            "Epoch 79/200\n",
            "23/23 [==============================] - 0s 4ms/step - loss: 0.2700 - accuracy: 0.8890 - precision: 0.8885 - recall: 0.8299\n",
            "Epoch 80/200\n",
            "23/23 [==============================] - 0s 5ms/step - loss: 0.2763 - accuracy: 0.8722 - precision: 0.9020 - recall: 0.7674\n",
            "Epoch 81/200\n",
            "23/23 [==============================] - 0s 4ms/step - loss: 0.2641 - accuracy: 0.8919 - precision: 0.8893 - recall: 0.8368\n",
            "Epoch 82/200\n",
            "23/23 [==============================] - 0s 4ms/step - loss: 0.2566 - accuracy: 0.8876 - precision: 0.8796 - recall: 0.8368\n",
            "Epoch 83/200\n",
            "23/23 [==============================] - 0s 4ms/step - loss: 0.2481 - accuracy: 0.8919 - precision: 0.8922 - recall: 0.8333\n",
            "Epoch 84/200\n",
            "23/23 [==============================] - 0s 4ms/step - loss: 0.2510 - accuracy: 0.8890 - precision: 0.8943 - recall: 0.8229\n",
            "Epoch 85/200\n",
            "23/23 [==============================] - 0s 4ms/step - loss: 0.2693 - accuracy: 0.8820 - precision: 0.8617 - recall: 0.8438\n",
            "Epoch 86/200\n",
            "23/23 [==============================] - 0s 4ms/step - loss: 0.2941 - accuracy: 0.8694 - precision: 0.8764 - recall: 0.7882\n",
            "Epoch 87/200\n",
            "23/23 [==============================] - 0s 4ms/step - loss: 0.2601 - accuracy: 0.8750 - precision: 0.8902 - recall: 0.7882\n",
            "Epoch 88/200\n",
            "23/23 [==============================] - 0s 5ms/step - loss: 0.2729 - accuracy: 0.8764 - precision: 0.8817 - recall: 0.8021\n",
            "Epoch 89/200\n",
            "23/23 [==============================] - 0s 4ms/step - loss: 0.2672 - accuracy: 0.8862 - precision: 0.8966 - recall: 0.8125\n",
            "Epoch 90/200\n",
            "23/23 [==============================] - 0s 4ms/step - loss: 0.2551 - accuracy: 0.8806 - precision: 0.9044 - recall: 0.7882\n",
            "Epoch 91/200\n",
            "23/23 [==============================] - 0s 4ms/step - loss: 0.2663 - accuracy: 0.8792 - precision: 0.8797 - recall: 0.8125\n",
            "Epoch 92/200\n",
            "23/23 [==============================] - 0s 5ms/step - loss: 0.2559 - accuracy: 0.8848 - precision: 0.8962 - recall: 0.8090\n",
            "Epoch 93/200\n",
            "23/23 [==============================] - 0s 5ms/step - loss: 0.2439 - accuracy: 0.8904 - precision: 0.9234 - recall: 0.7951\n",
            "Epoch 94/200\n",
            "23/23 [==============================] - 0s 5ms/step - loss: 0.2407 - accuracy: 0.8975 - precision: 0.9087 - recall: 0.8299\n",
            "Epoch 95/200\n",
            "23/23 [==============================] - 0s 4ms/step - loss: 0.2443 - accuracy: 0.8933 - precision: 0.8955 - recall: 0.8333\n",
            "Epoch 96/200\n",
            "23/23 [==============================] - 0s 4ms/step - loss: 0.2340 - accuracy: 0.8919 - precision: 0.9203 - recall: 0.8021\n",
            "Epoch 97/200\n",
            "23/23 [==============================] - 0s 4ms/step - loss: 0.2434 - accuracy: 0.8961 - precision: 0.8877 - recall: 0.8507\n",
            "Epoch 98/200\n",
            "23/23 [==============================] - 0s 4ms/step - loss: 0.2523 - accuracy: 0.8848 - precision: 0.8872 - recall: 0.8194\n",
            "Epoch 99/200\n",
            "23/23 [==============================] - 0s 4ms/step - loss: 0.2380 - accuracy: 0.8961 - precision: 0.8905 - recall: 0.8472\n",
            "Epoch 100/200\n",
            "23/23 [==============================] - 0s 5ms/step - loss: 0.2371 - accuracy: 0.9003 - precision: 0.9094 - recall: 0.8368\n",
            "Epoch 101/200\n",
            "23/23 [==============================] - 0s 4ms/step - loss: 0.2507 - accuracy: 0.8904 - precision: 0.8889 - recall: 0.8333\n",
            "Epoch 102/200\n",
            "23/23 [==============================] - 0s 4ms/step - loss: 0.2371 - accuracy: 0.8947 - precision: 0.8930 - recall: 0.8403\n",
            "Epoch 103/200\n",
            "23/23 [==============================] - 0s 5ms/step - loss: 0.2482 - accuracy: 0.8904 - precision: 0.8777 - recall: 0.8472\n",
            "Epoch 104/200\n",
            "23/23 [==============================] - 0s 4ms/step - loss: 0.2446 - accuracy: 0.8904 - precision: 0.8918 - recall: 0.8299\n",
            "Epoch 105/200\n",
            "23/23 [==============================] - 0s 4ms/step - loss: 0.2488 - accuracy: 0.8919 - precision: 0.8951 - recall: 0.8299\n",
            "Epoch 106/200\n",
            "23/23 [==============================] - 0s 4ms/step - loss: 0.2554 - accuracy: 0.8961 - precision: 0.8963 - recall: 0.8403\n",
            "Epoch 107/200\n",
            "23/23 [==============================] - 0s 4ms/step - loss: 0.2359 - accuracy: 0.8975 - precision: 0.8996 - recall: 0.8403\n",
            "Epoch 108/200\n",
            "23/23 [==============================] - 0s 4ms/step - loss: 0.2401 - accuracy: 0.8862 - precision: 0.8996 - recall: 0.8090\n",
            "Epoch 109/200\n",
            "23/23 [==============================] - 0s 4ms/step - loss: 0.2322 - accuracy: 0.8919 - precision: 0.8893 - recall: 0.8368\n",
            "Epoch 110/200\n",
            "23/23 [==============================] - 0s 4ms/step - loss: 0.2592 - accuracy: 0.8933 - precision: 0.8955 - recall: 0.8333\n",
            "Epoch 111/200\n",
            "23/23 [==============================] - 0s 4ms/step - loss: 0.2406 - accuracy: 0.8876 - precision: 0.8939 - recall: 0.8194\n",
            "Epoch 112/200\n",
            "23/23 [==============================] - 0s 5ms/step - loss: 0.2392 - accuracy: 0.8919 - precision: 0.9137 - recall: 0.8090\n",
            "Epoch 113/200\n",
            "23/23 [==============================] - 0s 4ms/step - loss: 0.2582 - accuracy: 0.8947 - precision: 0.9144 - recall: 0.8160\n",
            "Epoch 114/200\n",
            "23/23 [==============================] - 0s 4ms/step - loss: 0.2377 - accuracy: 0.8904 - precision: 0.9102 - recall: 0.8090\n",
            "Epoch 115/200\n",
            "23/23 [==============================] - 0s 4ms/step - loss: 0.2332 - accuracy: 0.8947 - precision: 0.9080 - recall: 0.8229\n",
            "Epoch 116/200\n",
            "23/23 [==============================] - 0s 4ms/step - loss: 0.2264 - accuracy: 0.8989 - precision: 0.8885 - recall: 0.8576\n",
            "Epoch 117/200\n",
            "23/23 [==============================] - 0s 4ms/step - loss: 0.2236 - accuracy: 0.8989 - precision: 0.9030 - recall: 0.8403\n",
            "Epoch 118/200\n",
            "23/23 [==============================] - 0s 4ms/step - loss: 0.2229 - accuracy: 0.9073 - precision: 0.9111 - recall: 0.8542\n",
            "Epoch 119/200\n",
            "23/23 [==============================] - 0s 6ms/step - loss: 0.2349 - accuracy: 0.8961 - precision: 0.9023 - recall: 0.8333\n",
            "Epoch 120/200\n",
            "23/23 [==============================] - 0s 5ms/step - loss: 0.2474 - accuracy: 0.8820 - precision: 0.8864 - recall: 0.8125\n",
            "Epoch 121/200\n",
            "23/23 [==============================] - 0s 4ms/step - loss: 0.2223 - accuracy: 0.8989 - precision: 0.9030 - recall: 0.8403\n",
            "Epoch 122/200\n",
            "23/23 [==============================] - 0s 4ms/step - loss: 0.2208 - accuracy: 0.8975 - precision: 0.8853 - recall: 0.8576\n",
            "Epoch 123/200\n",
            "23/23 [==============================] - 0s 4ms/step - loss: 0.2236 - accuracy: 0.9059 - precision: 0.9234 - recall: 0.8368\n",
            "Epoch 124/200\n",
            "23/23 [==============================] - 0s 4ms/step - loss: 0.2371 - accuracy: 0.8961 - precision: 0.8934 - recall: 0.8438\n",
            "Epoch 125/200\n",
            "23/23 [==============================] - 0s 4ms/step - loss: 0.2356 - accuracy: 0.8876 - precision: 0.8881 - recall: 0.8264\n",
            "Epoch 126/200\n",
            "23/23 [==============================] - 0s 4ms/step - loss: 0.2469 - accuracy: 0.8919 - precision: 0.8836 - recall: 0.8438\n",
            "Epoch 127/200\n",
            "23/23 [==============================] - 0s 4ms/step - loss: 0.2284 - accuracy: 0.9003 - precision: 0.9157 - recall: 0.8299\n",
            "Epoch 128/200\n",
            "23/23 [==============================] - 0s 4ms/step - loss: 0.2328 - accuracy: 0.8961 - precision: 0.9115 - recall: 0.8229\n",
            "Epoch 129/200\n",
            "23/23 [==============================] - 0s 4ms/step - loss: 0.2276 - accuracy: 0.8975 - precision: 0.9087 - recall: 0.8299\n",
            "Epoch 130/200\n",
            "23/23 [==============================] - 0s 4ms/step - loss: 0.2305 - accuracy: 0.8961 - precision: 0.8877 - recall: 0.8507\n",
            "Epoch 131/200\n",
            "23/23 [==============================] - 0s 5ms/step - loss: 0.2273 - accuracy: 0.9017 - precision: 0.9098 - recall: 0.8403\n",
            "Epoch 132/200\n",
            "23/23 [==============================] - 0s 4ms/step - loss: 0.2312 - accuracy: 0.9073 - precision: 0.9081 - recall: 0.8576\n",
            "Epoch 133/200\n",
            "23/23 [==============================] - 0s 4ms/step - loss: 0.2390 - accuracy: 0.8947 - precision: 0.9049 - recall: 0.8264\n",
            "Epoch 134/200\n",
            "23/23 [==============================] - 0s 5ms/step - loss: 0.2357 - accuracy: 0.8975 - precision: 0.9119 - recall: 0.8264\n",
            "Epoch 135/200\n",
            "23/23 [==============================] - 0s 4ms/step - loss: 0.2289 - accuracy: 0.8890 - precision: 0.8885 - recall: 0.8299\n",
            "Epoch 136/200\n",
            "23/23 [==============================] - 0s 5ms/step - loss: 0.2449 - accuracy: 0.8961 - precision: 0.9147 - recall: 0.8194\n",
            "Epoch 137/200\n",
            "23/23 [==============================] - 0s 4ms/step - loss: 0.2564 - accuracy: 0.8961 - precision: 0.8905 - recall: 0.8472\n",
            "Epoch 138/200\n",
            "23/23 [==============================] - 0s 4ms/step - loss: 0.2337 - accuracy: 0.8933 - precision: 0.9109 - recall: 0.8160\n",
            "Epoch 139/200\n",
            "23/23 [==============================] - 0s 4ms/step - loss: 0.2248 - accuracy: 0.9059 - precision: 0.9170 - recall: 0.8438\n",
            "Epoch 140/200\n",
            "23/23 [==============================] - 0s 5ms/step - loss: 0.2265 - accuracy: 0.8989 - precision: 0.9154 - recall: 0.8264\n",
            "Epoch 141/200\n",
            "23/23 [==============================] - 0s 4ms/step - loss: 0.2288 - accuracy: 0.8919 - precision: 0.9105 - recall: 0.8125\n",
            "Epoch 142/200\n",
            "23/23 [==============================] - 0s 4ms/step - loss: 0.2152 - accuracy: 0.9003 - precision: 0.9094 - recall: 0.8368\n",
            "Epoch 143/200\n",
            "23/23 [==============================] - 0s 4ms/step - loss: 0.2149 - accuracy: 0.9003 - precision: 0.9125 - recall: 0.8333\n",
            "Epoch 144/200\n",
            "23/23 [==============================] - 0s 4ms/step - loss: 0.2163 - accuracy: 0.9045 - precision: 0.9264 - recall: 0.8299\n",
            "Epoch 145/200\n",
            "23/23 [==============================] - 0s 4ms/step - loss: 0.2100 - accuracy: 0.9073 - precision: 0.9269 - recall: 0.8368\n",
            "Epoch 146/200\n",
            "23/23 [==============================] - 0s 4ms/step - loss: 0.2144 - accuracy: 0.8961 - precision: 0.9115 - recall: 0.8229\n",
            "Epoch 147/200\n",
            "23/23 [==============================] - 0s 4ms/step - loss: 0.2186 - accuracy: 0.9031 - precision: 0.9294 - recall: 0.8229\n",
            "Epoch 148/200\n",
            "23/23 [==============================] - 0s 4ms/step - loss: 0.2210 - accuracy: 0.9073 - precision: 0.9081 - recall: 0.8576\n",
            "Epoch 149/200\n",
            "23/23 [==============================] - 0s 6ms/step - loss: 0.2255 - accuracy: 0.9115 - precision: 0.9213 - recall: 0.8542\n",
            "Epoch 150/200\n",
            "23/23 [==============================] - 0s 4ms/step - loss: 0.2171 - accuracy: 0.9045 - precision: 0.9135 - recall: 0.8438\n",
            "Epoch 151/200\n",
            "23/23 [==============================] - 0s 4ms/step - loss: 0.2219 - accuracy: 0.9031 - precision: 0.9433 - recall: 0.8090\n",
            "Epoch 152/200\n",
            "23/23 [==============================] - 0s 4ms/step - loss: 0.2180 - accuracy: 0.9073 - precision: 0.9237 - recall: 0.8403\n",
            "Epoch 153/200\n",
            "23/23 [==============================] - 0s 4ms/step - loss: 0.2170 - accuracy: 0.9003 - precision: 0.9064 - recall: 0.8403\n",
            "Epoch 154/200\n",
            "23/23 [==============================] - 0s 5ms/step - loss: 0.2166 - accuracy: 0.9031 - precision: 0.9228 - recall: 0.8299\n",
            "Epoch 155/200\n",
            "23/23 [==============================] - 0s 4ms/step - loss: 0.2120 - accuracy: 0.9087 - precision: 0.9442 - recall: 0.8229\n",
            "Epoch 156/200\n",
            "23/23 [==============================] - 0s 5ms/step - loss: 0.2083 - accuracy: 0.9059 - precision: 0.9170 - recall: 0.8438\n",
            "Epoch 157/200\n",
            "23/23 [==============================] - 0s 4ms/step - loss: 0.2110 - accuracy: 0.9073 - precision: 0.9440 - recall: 0.8194\n",
            "Epoch 158/200\n",
            "23/23 [==============================] - 0s 5ms/step - loss: 0.2050 - accuracy: 0.9059 - precision: 0.9170 - recall: 0.8438\n",
            "Epoch 159/200\n",
            "23/23 [==============================] - 0s 5ms/step - loss: 0.2069 - accuracy: 0.9059 - precision: 0.9300 - recall: 0.8299\n",
            "Epoch 160/200\n",
            "23/23 [==============================] - 0s 5ms/step - loss: 0.2056 - accuracy: 0.9017 - precision: 0.9225 - recall: 0.8264\n",
            "Epoch 161/200\n",
            "23/23 [==============================] - 0s 5ms/step - loss: 0.2015 - accuracy: 0.9101 - precision: 0.9242 - recall: 0.8472\n",
            "Epoch 162/200\n",
            "23/23 [==============================] - 0s 5ms/step - loss: 0.1982 - accuracy: 0.9101 - precision: 0.9118 - recall: 0.8611\n",
            "Epoch 163/200\n",
            "23/23 [==============================] - 0s 5ms/step - loss: 0.2028 - accuracy: 0.9017 - precision: 0.9037 - recall: 0.8472\n",
            "Epoch 164/200\n",
            "23/23 [==============================] - 0s 8ms/step - loss: 0.2253 - accuracy: 0.8961 - precision: 0.9023 - recall: 0.8333\n",
            "Epoch 165/200\n",
            "23/23 [==============================] - 0s 8ms/step - loss: 0.2208 - accuracy: 0.8933 - precision: 0.9206 - recall: 0.8056\n",
            "Epoch 166/200\n",
            "23/23 [==============================] - 0s 7ms/step - loss: 0.2041 - accuracy: 0.9031 - precision: 0.9011 - recall: 0.8542\n",
            "Epoch 167/200\n",
            "23/23 [==============================] - 0s 8ms/step - loss: 0.2147 - accuracy: 0.9101 - precision: 0.9242 - recall: 0.8472\n",
            "Epoch 168/200\n",
            "23/23 [==============================] - 0s 7ms/step - loss: 0.2129 - accuracy: 0.9157 - precision: 0.9419 - recall: 0.8438\n",
            "Epoch 169/200\n",
            "23/23 [==============================] - 0s 8ms/step - loss: 0.2061 - accuracy: 0.9143 - precision: 0.9349 - recall: 0.8472\n",
            "Epoch 170/200\n",
            "23/23 [==============================] - 0s 7ms/step - loss: 0.2276 - accuracy: 0.9017 - precision: 0.9098 - recall: 0.8403\n",
            "Epoch 171/200\n",
            "23/23 [==============================] - 0s 7ms/step - loss: 0.2285 - accuracy: 0.8947 - precision: 0.9080 - recall: 0.8229\n",
            "Epoch 172/200\n",
            "23/23 [==============================] - 0s 7ms/step - loss: 0.2088 - accuracy: 0.9101 - precision: 0.9375 - recall: 0.8333\n",
            "Epoch 173/200\n",
            "23/23 [==============================] - 0s 7ms/step - loss: 0.1965 - accuracy: 0.9199 - precision: 0.9494 - recall: 0.8472\n",
            "Epoch 174/200\n",
            "23/23 [==============================] - 0s 6ms/step - loss: 0.1972 - accuracy: 0.9143 - precision: 0.9382 - recall: 0.8438\n",
            "Epoch 175/200\n",
            "23/23 [==============================] - 0s 7ms/step - loss: 0.2000 - accuracy: 0.9157 - precision: 0.9161 - recall: 0.8715\n",
            "Epoch 176/200\n",
            "23/23 [==============================] - 0s 7ms/step - loss: 0.2149 - accuracy: 0.9003 - precision: 0.9323 - recall: 0.8125\n",
            "Epoch 177/200\n",
            "23/23 [==============================] - 0s 7ms/step - loss: 0.2044 - accuracy: 0.9143 - precision: 0.9283 - recall: 0.8542\n",
            "Epoch 178/200\n",
            "23/23 [==============================] - 0s 7ms/step - loss: 0.2021 - accuracy: 0.9073 - precision: 0.9237 - recall: 0.8403\n",
            "Epoch 179/200\n",
            "23/23 [==============================] - 0s 6ms/step - loss: 0.2021 - accuracy: 0.9073 - precision: 0.9142 - recall: 0.8507\n",
            "Epoch 180/200\n",
            "23/23 [==============================] - 0s 5ms/step - loss: 0.1864 - accuracy: 0.9129 - precision: 0.9449 - recall: 0.8333\n",
            "Epoch 181/200\n",
            "23/23 [==============================] - 0s 5ms/step - loss: 0.1893 - accuracy: 0.9199 - precision: 0.9425 - recall: 0.8542\n",
            "Epoch 182/200\n",
            "23/23 [==============================] - 0s 5ms/step - loss: 0.1905 - accuracy: 0.9101 - precision: 0.9308 - recall: 0.8403\n",
            "Epoch 183/200\n",
            "23/23 [==============================] - 0s 5ms/step - loss: 0.1897 - accuracy: 0.9129 - precision: 0.9313 - recall: 0.8472\n",
            "Epoch 184/200\n",
            "23/23 [==============================] - 0s 5ms/step - loss: 0.1948 - accuracy: 0.9059 - precision: 0.9266 - recall: 0.8333\n",
            "Epoch 185/200\n",
            "23/23 [==============================] - 0s 5ms/step - loss: 0.1930 - accuracy: 0.9087 - precision: 0.9272 - recall: 0.8403\n",
            "Epoch 186/200\n",
            "23/23 [==============================] - 0s 4ms/step - loss: 0.2011 - accuracy: 0.9143 - precision: 0.9068 - recall: 0.8785\n",
            "Epoch 187/200\n",
            "23/23 [==============================] - 0s 4ms/step - loss: 0.2233 - accuracy: 0.9115 - precision: 0.9182 - recall: 0.8576\n",
            "Epoch 188/200\n",
            "23/23 [==============================] - 0s 5ms/step - loss: 0.2034 - accuracy: 0.9171 - precision: 0.9354 - recall: 0.8542\n",
            "Epoch 189/200\n",
            "23/23 [==============================] - 0s 5ms/step - loss: 0.1989 - accuracy: 0.9171 - precision: 0.9194 - recall: 0.8715\n",
            "Epoch 190/200\n",
            "23/23 [==============================] - 0s 4ms/step - loss: 0.2125 - accuracy: 0.9129 - precision: 0.9346 - recall: 0.8438\n",
            "Epoch 191/200\n",
            "23/23 [==============================] - 0s 4ms/step - loss: 0.2097 - accuracy: 0.9129 - precision: 0.9185 - recall: 0.8611\n",
            "Epoch 192/200\n",
            "23/23 [==============================] - 0s 4ms/step - loss: 0.1923 - accuracy: 0.9171 - precision: 0.9354 - recall: 0.8542\n",
            "Epoch 193/200\n",
            "23/23 [==============================] - 0s 4ms/step - loss: 0.1991 - accuracy: 0.9143 - precision: 0.9283 - recall: 0.8542\n",
            "Epoch 194/200\n",
            "23/23 [==============================] - 0s 6ms/step - loss: 0.1913 - accuracy: 0.9101 - precision: 0.9088 - recall: 0.8646\n",
            "Epoch 195/200\n",
            "23/23 [==============================] - 0s 4ms/step - loss: 0.1859 - accuracy: 0.9185 - precision: 0.9323 - recall: 0.8611\n",
            "Epoch 196/200\n",
            "23/23 [==============================] - 0s 5ms/step - loss: 0.2028 - accuracy: 0.9045 - precision: 0.9074 - recall: 0.8507\n",
            "Epoch 197/200\n",
            "23/23 [==============================] - 0s 4ms/step - loss: 0.1934 - accuracy: 0.9087 - precision: 0.9407 - recall: 0.8264\n",
            "Epoch 198/200\n",
            "23/23 [==============================] - 0s 5ms/step - loss: 0.2514 - accuracy: 0.8834 - precision: 0.8810 - recall: 0.8229\n",
            "Epoch 199/200\n",
            "23/23 [==============================] - 0s 4ms/step - loss: 0.2293 - accuracy: 0.9031 - precision: 0.9195 - recall: 0.8333\n",
            "Epoch 200/200\n",
            "23/23 [==============================] - 0s 4ms/step - loss: 0.2588 - accuracy: 0.9017 - precision: 0.9129 - recall: 0.8368\n"
          ]
        }
      ]
    },
    {
      "cell_type": "code",
      "source": [
        "plt.plot(\n",
        "    np.arange(1, n_epoch+1), \n",
        "    history.history['loss'], label='Loss'\n",
        ")\n",
        "plt.plot(\n",
        "    np.arange(1, n_epoch+1), \n",
        "    history.history['accuracy'], label='Accuracy'\n",
        ")\n",
        "plt.plot(\n",
        "    np.arange(1, n_epoch+1), \n",
        "    history.history['precision'], label='Precision'\n",
        ")\n",
        "plt.plot(\n",
        "    np.arange(1, n_epoch+1), \n",
        "    history.history['recall'], label='Recall'\n",
        ")\n",
        "plt.title('Evaluation metrics', size=20)\n",
        "plt.xlabel('Epoch', size=14)\n",
        "plt.legend();"
      ],
      "metadata": {
        "colab": {
          "base_uri": "https://localhost:8080/",
          "height": 304
        },
        "id": "uLT2fr1MvA7k",
        "outputId": "3bb2ae68-b4e5-4d0a-e6af-09a99c253b6e"
      },
      "execution_count": null,
      "outputs": [
        {
          "output_type": "display_data",
          "data": {
            "text/plain": [
              "<Figure size 432x288 with 1 Axes>"
            ],
            "image/png": "[encoded data removed]"
          },
          "metadata": {
            "needs_background": "light"
          }
        }
      ]
    },
    {
      "cell_type": "code",
      "source": [
        "predictions = model.predict(test_X_dum_scale)\n"
      ],
      "metadata": {
        "colab": {
          "base_uri": "https://localhost:8080/"
        },
        "id": "4673EGx9vBQh",
        "outputId": "26448841-38ee-426e-a9a3-d2fd46807b9b"
      },
      "execution_count": null,
      "outputs": [
        {
          "output_type": "stream",
          "name": "stdout",
          "text": [
            "11/11 [==============================] - 0s 2ms/step\n"
          ]
        }
      ]
    },
    {
      "cell_type": "code",
      "source": [
        "prediction_classes = [\n",
        "    1 if prob > 0.5 else 0 for prob in np.ravel(predictions)\n",
        "]\n"
      ],
      "metadata": {
        "id": "_uap2HSgvTFn"
      },
      "execution_count": null,
      "outputs": []
    },
    {
      "cell_type": "code",
      "source": [
        "from sklearn.metrics import confusion_matrix\n",
        "\n",
        "print(confusion_matrix(test_Y, prediction_classes))"
      ],
      "metadata": {
        "colab": {
          "base_uri": "https://localhost:8080/"
        },
        "id": "xr4iU7nPvX6_",
        "outputId": "a4e8e975-890b-426c-a4b1-d4c1cd1e7020"
      },
      "execution_count": null,
      "outputs": [
        {
          "output_type": "stream",
          "name": "stdout",
          "text": [
            "[[168  36]\n",
            " [ 30  97]]\n"
          ]
        }
      ]
    },
    {
      "cell_type": "code",
      "source": [
        "from sklearn.metrics import accuracy_score, precision_score, recall_score\n",
        "\n",
        "print(f'Accuracy: {accuracy_score(test_Y, prediction_classes):.2f}')\n",
        "print(f'Precision: {precision_score(test_Y, prediction_classes):.2f}')\n",
        "print(f'Recall: {recall_score(test_Y, prediction_classes):.2f}')\n"
      ],
      "metadata": {
        "colab": {
          "base_uri": "https://localhost:8080/"
        },
        "id": "T9O-IiF9vdME",
        "outputId": "3cca8f46-af42-4234-db9b-8466562ab75d"
      },
      "execution_count": null,
      "outputs": [
        {
          "output_type": "stream",
          "name": "stdout",
          "text": [
            "Accuracy: 0.80\n",
            "Precision: 0.73\n",
            "Recall: 0.76\n"
          ]
        }
      ]
    },
    {
      "cell_type": "code",
      "source": [],
      "metadata": {
        "id": "rj37E0hgvjl3"
      },
      "execution_count": null,
      "outputs": []
    }
  ]
}